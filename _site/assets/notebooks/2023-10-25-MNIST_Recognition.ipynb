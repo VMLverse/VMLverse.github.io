{
  "cells": [
    {
      "cell_type": "markdown",
      "metadata": {
        "id": "dfgASM7CpZoA"
      },
      "source": [
        "# MNIST Handwritten Digit Recognition in PyTorch\n",
        "\n"
      ]
    },
    {
      "cell_type": "markdown",
      "metadata": {
        "id": "g7RqGnqkeVWp"
      },
      "source": [
        "## Introduction\n",
        "I was reading through [FastAI's material](https://github.com/fastai/fastbook/blob/master/04_mnist_basics.ipynb) which covered the basics of a neural network while showing an example of MNIST character recognition. However it was a simple binary classifier which recognizes if a digit was 3 or 7. The complete classification was left as an open assignment. I tried looking up existing articles on MNIST character recognition and most of the articles dived right into Pytorch which was confusing for me.\n",
        "\n",
        "So in this article,  I attempt to dissect the neural network character recognition process, trying to cover the basics, implementing it manually first and then later in Pytorch. It did take me some time to complete this article, but I do find myself looking back to this article to cover the basics."
      ]
    },
    {
      "cell_type": "markdown",
      "metadata": {
        "id": "KsVljdzNqxgd"
      },
      "source": [
        "## Environment Setup\n",
        "Since we eventually want to code in Pytorch, I will start straight away by using torch instead of numpy so we can switch between manual methods and later replace them with standard Pytorch functions."
      ]
    },
    {
      "cell_type": "code",
      "execution_count": 1,
      "metadata": {
        "id": "CHHGqbc2umCD"
      },
      "outputs": [],
      "source": [
        "import torch\n",
        "import torchvision\n",
        "import torchvision.transforms as transforms\n",
        "import numpy as np\n",
        "from PIL import Image\n",
        "import matplotlib.pyplot as plt\n",
        "import numpy as np\n",
        "import matplotlib.pyplot as plt\n",
        "import torch.nn.functional as F\n",
        "import torch.nn as nn"
      ]
    },
    {
      "cell_type": "code",
      "execution_count": 2,
      "metadata": {
        "colab": {
          "base_uri": "https://localhost:8080/"
        },
        "id": "CssYZaVrapKi",
        "outputId": "32ee567d-51eb-4e73-f24c-f6fac6f3c758"
      },
      "outputs": [
        {
          "output_type": "stream",
          "name": "stdout",
          "text": [
            "\u001b[2K     \u001b[90m━━━━━━━━━━━━━━━━━━━━━━━━━━━━━━━━━━━━━━━━\u001b[0m \u001b[32m719.8/719.8 kB\u001b[0m \u001b[31m13.0 MB/s\u001b[0m eta \u001b[36m0:00:00\u001b[0m\n",
            "\u001b[2K     \u001b[90m━━━━━━━━━━━━━━━━━━━━━━━━━━━━━━━━━━━━━━━━\u001b[0m \u001b[32m7.7/7.7 MB\u001b[0m \u001b[31m71.6 MB/s\u001b[0m eta \u001b[36m0:00:00\u001b[0m\n",
            "\u001b[2K     \u001b[90m━━━━━━━━━━━━━━━━━━━━━━━━━━━━━━━━━━━━━━━━\u001b[0m \u001b[32m493.7/493.7 kB\u001b[0m \u001b[31m40.3 MB/s\u001b[0m eta \u001b[36m0:00:00\u001b[0m\n",
            "\u001b[2K     \u001b[90m━━━━━━━━━━━━━━━━━━━━━━━━━━━━━━━━━━━━━━━━\u001b[0m \u001b[32m1.3/1.3 MB\u001b[0m \u001b[31m86.1 MB/s\u001b[0m eta \u001b[36m0:00:00\u001b[0m\n",
            "\u001b[2K     \u001b[90m━━━━━━━━━━━━━━━━━━━━━━━━━━━━━━━━━━━━━━━━\u001b[0m \u001b[32m115.3/115.3 kB\u001b[0m \u001b[31m17.3 MB/s\u001b[0m eta \u001b[36m0:00:00\u001b[0m\n",
            "\u001b[2K     \u001b[90m━━━━━━━━━━━━━━━━━━━━━━━━━━━━━━━━━━━━━━━━\u001b[0m \u001b[32m134.8/134.8 kB\u001b[0m \u001b[31m20.7 MB/s\u001b[0m eta \u001b[36m0:00:00\u001b[0m\n",
            "\u001b[2K     \u001b[90m━━━━━━━━━━━━━━━━━━━━━━━━━━━━━━━━━━━━━━━━\u001b[0m \u001b[32m302.0/302.0 kB\u001b[0m \u001b[31m42.4 MB/s\u001b[0m eta \u001b[36m0:00:00\u001b[0m\n",
            "\u001b[2K     \u001b[90m━━━━━━━━━━━━━━━━━━━━━━━━━━━━━━━━━━━━━━━━\u001b[0m \u001b[32m3.8/3.8 MB\u001b[0m \u001b[31m112.3 MB/s\u001b[0m eta \u001b[36m0:00:00\u001b[0m\n",
            "\u001b[2K     \u001b[90m━━━━━━━━━━━━━━━━━━━━━━━━━━━━━━━━━━━━━━━━\u001b[0m \u001b[32m1.3/1.3 MB\u001b[0m \u001b[31m95.3 MB/s\u001b[0m eta \u001b[36m0:00:00\u001b[0m\n",
            "\u001b[2K     \u001b[90m━━━━━━━━━━━━━━━━━━━━━━━━━━━━━━━━━━━━━━━━\u001b[0m \u001b[32m1.6/1.6 MB\u001b[0m \u001b[31m94.0 MB/s\u001b[0m eta \u001b[36m0:00:00\u001b[0m\n",
            "\u001b[2K     \u001b[90m━━━━━━━━━━━━━━━━━━━━━━━━━━━━━━━━━━━━━━━━\u001b[0m \u001b[32m295.0/295.0 kB\u001b[0m \u001b[31m40.0 MB/s\u001b[0m eta \u001b[36m0:00:00\u001b[0m\n",
            "\u001b[?25hMounted at /content/gdrive\n"
          ]
        }
      ],
      "source": [
        "#hide\n",
        "!pip install -Uqq fastbook\n",
        "import fastbook\n",
        "fastbook.setup_book()\n",
        "from fastbook import *"
      ]
    },
    {
      "cell_type": "markdown",
      "metadata": {
        "id": "_WDezuMSrKpo"
      },
      "source": [
        "## Dataset Preparation\n",
        "MNIST consists of 70,000 handwritten digit images, with 60,000 allocated for training and 10,000 for testing. These images are grayscale, sized at 28x28 pixels, and centered to streamline preprocessing and expedite the setup.\n",
        "\n",
        "The dataset preparation can be described by the following steps:\n",
        "1. Download & Inspect the data\n",
        "2. Normalize the data\n",
        "3. Shuffle & Split into Mini Batches\n",
        "\n",
        "NOTE: In production systems, most of these steps would be combined together for faster and efficient computation. However, for this article, I have delved into the details for better understanding."
      ]
    },
    {
      "cell_type": "markdown",
      "metadata": {
        "id": "SflMj9lx0aW-"
      },
      "source": [
        "### Download and Inspect the Data"
      ]
    },
    {
      "cell_type": "code",
      "execution_count": 3,
      "metadata": {
        "colab": {
          "base_uri": "https://localhost:8080/"
        },
        "id": "L_TqtNX5tDtu",
        "outputId": "6167d177-ec88-41e0-8008-e4de298f9200"
      },
      "outputs": [
        {
          "output_type": "stream",
          "name": "stdout",
          "text": [
            "Downloading http://yann.lecun.com/exdb/mnist/train-images-idx3-ubyte.gz\n",
            "Downloading http://yann.lecun.com/exdb/mnist/train-images-idx3-ubyte.gz to /files/MNIST/raw/train-images-idx3-ubyte.gz\n"
          ]
        },
        {
          "output_type": "stream",
          "name": "stderr",
          "text": [
            "100%|██████████| 9912422/9912422 [00:00<00:00, 127058919.01it/s]"
          ]
        },
        {
          "output_type": "stream",
          "name": "stdout",
          "text": [
            "Extracting /files/MNIST/raw/train-images-idx3-ubyte.gz to /files/MNIST/raw\n"
          ]
        },
        {
          "output_type": "stream",
          "name": "stderr",
          "text": [
            "\n"
          ]
        },
        {
          "output_type": "stream",
          "name": "stdout",
          "text": [
            "\n",
            "Downloading http://yann.lecun.com/exdb/mnist/train-labels-idx1-ubyte.gz\n",
            "Downloading http://yann.lecun.com/exdb/mnist/train-labels-idx1-ubyte.gz to /files/MNIST/raw/train-labels-idx1-ubyte.gz\n"
          ]
        },
        {
          "output_type": "stream",
          "name": "stderr",
          "text": [
            "100%|██████████| 28881/28881 [00:00<00:00, 99210232.45it/s]"
          ]
        },
        {
          "output_type": "stream",
          "name": "stdout",
          "text": [
            "Extracting /files/MNIST/raw/train-labels-idx1-ubyte.gz to /files/MNIST/raw\n",
            "\n",
            "Downloading http://yann.lecun.com/exdb/mnist/t10k-images-idx3-ubyte.gz\n"
          ]
        },
        {
          "output_type": "stream",
          "name": "stderr",
          "text": [
            "\n"
          ]
        },
        {
          "output_type": "stream",
          "name": "stdout",
          "text": [
            "Downloading http://yann.lecun.com/exdb/mnist/t10k-images-idx3-ubyte.gz to /files/MNIST/raw/t10k-images-idx3-ubyte.gz\n"
          ]
        },
        {
          "output_type": "stream",
          "name": "stderr",
          "text": [
            "100%|██████████| 1648877/1648877 [00:00<00:00, 37639757.46it/s]\n"
          ]
        },
        {
          "output_type": "stream",
          "name": "stdout",
          "text": [
            "Extracting /files/MNIST/raw/t10k-images-idx3-ubyte.gz to /files/MNIST/raw\n",
            "\n",
            "Downloading http://yann.lecun.com/exdb/mnist/t10k-labels-idx1-ubyte.gz\n",
            "Downloading http://yann.lecun.com/exdb/mnist/t10k-labels-idx1-ubyte.gz to /files/MNIST/raw/t10k-labels-idx1-ubyte.gz\n"
          ]
        },
        {
          "output_type": "stream",
          "name": "stderr",
          "text": [
            "100%|██████████| 4542/4542 [00:00<00:00, 7001296.86it/s]\n"
          ]
        },
        {
          "output_type": "stream",
          "name": "stdout",
          "text": [
            "Extracting /files/MNIST/raw/t10k-labels-idx1-ubyte.gz to /files/MNIST/raw\n",
            "\n",
            "Length of Train Dataset: 60000\n",
            "Length of each entry of the dataset: 2\n"
          ]
        }
      ],
      "source": [
        "# Create a DataLoader for the training dataset.\n",
        "train_dataset = torchvision.datasets.MNIST(\n",
        "    '/files/',                # Specify the directory to store the dataset.\n",
        "    train=True,               # Use the training split.\n",
        "    download=True,            # Download the dataset if not already present.\n",
        "    transform=None       # Apply the defined transformations.\n",
        ")\n",
        "print('Length of Train Dataset: {}'.format(len(train_dataset)))\n",
        "print('Length of each entry of the dataset: {}'.format(len(train_dataset[0])))"
      ]
    },
    {
      "cell_type": "markdown",
      "metadata": {
        "id": "lm3tAN1V1c4B"
      },
      "source": [
        "Pytorch already has builtin MNIST dataset which can be accessed through `torchvision.datasets.MNIST`. We have downloaded 60000 train data and each train data entry has two entries: one PIL Image and one int label.\n",
        "\n",
        "Lets try accessing the dataset at index 0 and inspect it."
      ]
    },
    {
      "cell_type": "code",
      "execution_count": null,
      "metadata": {
        "colab": {
          "base_uri": "https://localhost:8080/"
        },
        "id": "xp2_WxPj0JhK",
        "outputId": "ba6ebc82-9074-4517-ec53-ce35e3304ebd"
      },
      "outputs": [
        {
          "name": "stdout",
          "output_type": "stream",
          "text": [
            "image type: <class 'PIL.Image.Image'>\n",
            "label type: <class 'int'>\n"
          ]
        }
      ],
      "source": [
        "# Access image at index 0 and its label\n",
        "image, label = train_dataset[0]\n",
        "print('image type: {}'.format(type(image)))\n",
        "print('label type: {}'.format(type(label)))"
      ]
    },
    {
      "cell_type": "markdown",
      "metadata": {
        "id": "hQwy3G621-E9"
      },
      "source": [
        "PIL (Python Imaging Library), often referred to as Pillow, is the most commonly used Python package for opening, editing, and displaying images. When working within Jupyter notebooks, PIL images can be automatically displayed, simplifying the image viewing process."
      ]
    },
    {
      "cell_type": "code",
      "execution_count": null,
      "metadata": {
        "colab": {
          "base_uri": "https://localhost:8080/",
          "height": 62
        },
        "id": "gQmf6vcKzzPX",
        "outputId": "b87648a9-fce7-405c-f873-6cc3694d37d9"
      },
      "outputs": [
        {
          "name": "stdout",
          "output_type": "stream",
          "text": [
            "label: 5\n"
          ]
        },
        {
          "data": {
            "image/png": "[encoded data removed]",
            "text/plain": [
              "<PIL.Image.Image image mode=L size=28x28>"
            ]
          },
          "execution_count": 5,
          "metadata": {},
          "output_type": "execute_result"
        }
      ],
      "source": [
        "print('label: {}'.format(label))\n",
        "image"
      ]
    },
    {
      "cell_type": "markdown",
      "metadata": {
        "id": "F337BsOF2uY4"
      },
      "source": [
        "To inspect the numerical representation of this image, we can convert it into a NumPy array."
      ]
    },
    {
      "cell_type": "code",
      "execution_count": null,
      "metadata": {
        "colab": {
          "base_uri": "https://localhost:8080/"
        },
        "id": "F8ikKRAW2z8J",
        "outputId": "aa3bb7f3-791c-480c-c473-a45b002d25cd"
      },
      "outputs": [
        {
          "data": {
            "text/plain": [
              "array([[  0,   0,  30,  36,  94, 154],\n",
              "       [  0,  49, 238, 253, 253, 253],\n",
              "       [  0,  18, 219, 253, 253, 253],\n",
              "       [  0,   0,  80, 156, 107, 253],\n",
              "       [  0,   0,   0,  14,   1, 154],\n",
              "       [  0,   0,   0,   0,   0, 139]], dtype=uint8)"
            ]
          },
          "execution_count": 6,
          "metadata": {},
          "output_type": "execute_result"
        }
      ],
      "source": [
        "# Convert PIL image to NumPy array\n",
        "numpy_array = np.array(image)\n",
        "numpy_array[6:12,6:12]"
      ]
    },
    {
      "cell_type": "markdown",
      "metadata": {
        "id": "irhgviH23YEV"
      },
      "source": [
        "The notation \"6:12\" specifies that we've selected rows starting from index 6 (inclusive) up to index 12 (exclusive), and the same applies to columns. In NumPy, indexing proceeds from top to bottom and left to right, so this section corresponds to the top-left corner of the image. Here's the equivalent operation using a PyTorch tensor:"
      ]
    },
    {
      "cell_type": "markdown",
      "metadata": {
        "id": "8cKabR4b33fD"
      },
      "source": [
        "### Normalize the data\n",
        "Normalization is an important preprocessing step that contributes to the stability, efficiency, and effectiveness of machine learning models."
      ]
    },
    {
      "cell_type": "markdown",
      "metadata": {
        "id": "L4KWv6JHYmGq"
      },
      "source": [
        "#### Why need normalization?\n",
        "- With image data like MNIST, converting pixel values (typically in the range [0, 255]) to a standard range (often mean zero and standard deviation one) is referred to as \"Normalization\".\n",
        "- Normalization ensures that the data is centered around zero and has a similar scale, reducing the likelihood of [vanishing or exploding gradients](https://datascience.stackexchange.com/questions/95160/how-batch-normalization-layer-resolve-the-vanishing-gradient-problem) during training.\n",
        "- By scaling the data to a standard range, the model becomes less sensitive to variations in input magnitude.\n",
        "- This helps ensure that images with different lighting conditions or contrast levels are treated consistently during training, making it easier for the model to learn the relevant patterns in the data.\n",
        "- Without data normalization, the loss values during training may be higher, and the convergence may be slower compared to a model trained with normalized data. This is because the input data's pixel values range from 0 to 255, which can lead to large gradients and slow convergence."
      ]
    },
    {
      "cell_type": "markdown",
      "metadata": {
        "id": "RzZB_KV-Yno-"
      },
      "source": [
        "\n",
        "#### How do we apply Normalization?\n",
        "Usually our first option is `StandardScaler` which is very commonly used. It works via standardizing the data (i.e. centering them), that's to bring them to a STD=1 and Mean=0. It gets affected by outliers, and should only be used if your data have Gaussian-Like Distribution.\n",
        "\n",
        "$$ StandardScaler = \\frac{x_i - mean(x)}{stddev(x)} $$"
      ]
    },
    {
      "cell_type": "markdown",
      "metadata": {
        "id": "oMAPhuON6zSW"
      },
      "source": [
        "As we can see from the above formula, the first step in normalizing the data is calculating the mean and standard deviation of the train dataset."
      ]
    },
    {
      "cell_type": "code",
      "execution_count": 20,
      "metadata": {
        "id": "sr6mygte7ArV"
      },
      "outputs": [],
      "source": [
        "## define transformation to convert PIL to Pytorch Tensor\n",
        "transform = transforms.ToTensor()\n",
        "\n",
        "# Initialize an empty list to store the labels\n",
        "train_labels = []\n",
        "image_tensors = []\n",
        "for image, label in train_dataset:\n",
        "  image_tensors.append(transform(image).view(-1)) #loop through dataset and convert images to tensors.\n",
        "  train_labels.append(label) # extract the labels"
      ]
    },
    {
      "cell_type": "markdown",
      "metadata": {
        "id": "sUcYlP4qGP4R"
      },
      "source": [
        "**NOTE:** `transforms.ToTensor()` is used to turn the input data in the range of [0,255] to a 3-dimensional Tensor. This function automatically scales the input data to the range of [0,1]."
      ]
    },
    {
      "cell_type": "markdown",
      "metadata": {
        "id": "8aWN1IZDpxo7"
      },
      "source": [
        "We will also change them from a list of matrices (a rank-3 tensor) to a list of vectors (a rank-2 tensor).  This is for easier calculation when we do neural network. We can achieve this using the view method, a PyTorch function that alters a tensor's shape while preserving its contents. The -1 parameter, when applied with view, serves as a unique instruction, essentially stating, \"adjust this dimension to accommodate all available data.\""
      ]
    },
    {
      "cell_type": "code",
      "execution_count": 21,
      "metadata": {
        "colab": {
          "base_uri": "https://localhost:8080/"
        },
        "id": "ppzuIwpM71xx",
        "outputId": "8f8e99d5-4b6c-4d76-cafd-4dd3b039167d"
      },
      "outputs": [
        {
          "output_type": "stream",
          "name": "stdout",
          "text": [
            "Length of Train Dataset (Tensors): 60000\n",
            "Shape of Train Dataset (Tensors): torch.Size([784])\n",
            "Type of Train Dataset (Tensors): <class 'torch.Tensor'>\n",
            "\n"
          ]
        }
      ],
      "source": [
        "print('Length of Train Dataset (Tensors): {}'.format(len(image_tensors)))\n",
        "print('Shape of Train Dataset (Tensors): {}'.format(image_tensors[1].shape))\n",
        "print('Type of Train Dataset (Tensors): {}'.format(type(image_tensors[1])))\n",
        "print()"
      ]
    },
    {
      "cell_type": "markdown",
      "metadata": {
        "id": "OzIbjkxGH7Ki"
      },
      "source": [
        "In this step we can calculate the mean and median of the tensors.\n",
        "\n",
        "We use `torch.stack` to stack the list of tensors into a single tensor. dim=0 specifies that we want to stack along the batch dimension (assuming the tensors represent images). Note that although image_tensors and stacked_tensors have the same shape, we are stacking it to tensors so that we convert the array image_tensors to a tensor stacked_tensors. We do this so we can apply tensor.mean() which is not possible on an array.\n",
        "\n",
        "We then calculate the mean and standard deviation using .mean() and .std() functions.\n",
        "\n"
      ]
    },
    {
      "cell_type": "code",
      "execution_count": 22,
      "metadata": {
        "colab": {
          "base_uri": "https://localhost:8080/"
        },
        "id": "QYwlzkz1HwLH",
        "outputId": "26704c98-66ac-4535-a4de-f11874cdcc32"
      },
      "outputs": [
        {
          "output_type": "stream",
          "name": "stdout",
          "text": [
            "stacked_tensors shape: torch.Size([60000, 784])\n",
            "Mean of stacked_tensors: tensor(0.1307)\n",
            "Standard Deviation of stacked_tensors: tensor(0.3081)\n"
          ]
        }
      ],
      "source": [
        "# Stack the list of tensors into a single tensor\n",
        "stacked_tensors = torch.stack(image_tensors, dim=0)\n",
        "print('stacked_tensors shape: {}'.format(stacked_tensors.shape))\n",
        "\n",
        "\n",
        "# Calculate the mean and standard deviation\n",
        "mean = stacked_tensors.mean()\n",
        "std = stacked_tensors.std()\n",
        "\n",
        "# Print the calculated mean and standard deviation\n",
        "print(\"Mean of stacked_tensors:\", mean)\n",
        "print(\"Standard Deviation of stacked_tensors:\", std)"
      ]
    },
    {
      "cell_type": "markdown",
      "metadata": {
        "id": "xNpb2XA0J33S"
      },
      "source": [
        "Notice the numbers 0.1307 and 0.3081? Many MNIST articles across the internet have straight away used these numbers as a method of normalizing MNIST data. Now you know that, these numbers are the mean and median of the standard MNIST train dataset.\n",
        "\n",
        "Finally, we can standardize the stacked_tensor using standard scalar method as we show above. `view` is a PyTorch method that changes the shape of a tensor without changing its contents"
      ]
    },
    {
      "cell_type": "code",
      "execution_count": 23,
      "metadata": {
        "colab": {
          "base_uri": "https://localhost:8080/"
        },
        "id": "sk7rh7lBJ4QG",
        "outputId": "e8f990e4-0118-415f-c201-5ed1fe8cc789"
      },
      "outputs": [
        {
          "output_type": "stream",
          "name": "stdout",
          "text": [
            "stacked_tensors shape: torch.Size([60000, 784])\n",
            "mean shape: torch.Size([])\n",
            "mean.view(1, 1): tensor([[0.1307]])\n",
            "\n",
            "Mean of standardized_tensors: tensor(-1.5882e-09)\n",
            "Standard Deviation of standardized_tensors: tensor(1.0000)\n"
          ]
        }
      ],
      "source": [
        "# Standardize the stacked_tensors\n",
        "print('stacked_tensors shape: {}'.format(stacked_tensors.shape))\n",
        "print('mean shape: {}'.format(mean.shape))\n",
        "print('mean.view(1, 1): {}'.format(mean.view(1, 1)))\n",
        "standardized_tensors = (stacked_tensors - mean.view(1, 1)) / std.view(1, 1)\n",
        "\n",
        "# Calculate the mean and standard deviation\n",
        "standardized_mean = standardized_tensors.mean()\n",
        "standardized_std = standardized_tensors.std()\n",
        "\n",
        "# Print the calculated mean and standard deviation\n",
        "print()\n",
        "print(\"Mean of standardized_tensors:\", standardized_mean)\n",
        "print(\"Standard Deviation of standardized_tensors:\", standardized_std)"
      ]
    },
    {
      "cell_type": "markdown",
      "metadata": {
        "id": "3uNLNLPBKm0G"
      },
      "source": [
        "As we can see, we have now normalized the image tensors to a mean of ~0 and a standard deviation of 1 using the standard scalar normalization method."
      ]
    },
    {
      "cell_type": "markdown",
      "metadata": {
        "id": "9iFTlDHgN6RH"
      },
      "source": [
        "### Split into Mini-Batches\n",
        "\n",
        "To effectively perform optimization in deep learning, we need to calculate the loss over a subset of data items, rather than the entire dataset or a single item. Let's discuss this compromise:\n",
        "\n",
        "1. **Calculating for the Whole Dataset:** Calculating the loss for the entire dataset is accurate but time-consuming. It's often impractical, especially for large datasets, as it can be very slow.\n",
        "\n",
        "2. **Calculating for a Single Item:** Calculating the loss for just one data item is quick but highly imprecise. It doesn't provide a good estimate of how the model performs on the entire dataset, making the gradient updates unstable.\n",
        "\n",
        "3. **Using Mini-Batches:** To strike a balance, we calculate the average loss for a small group of data items known as a mini-batch. The number of data items in a mini-batch is called the batch size. A larger batch size provides a more stable estimate of gradients but can slow down training. The choice of batch size is crucial and depends on factors like the available hardware and dataset size.\n",
        "\n",
        "Using mini-batches has several advantages:\n",
        "\n",
        "- **Efficiency:** It leverages parallelism in accelerators like GPUs, which perform well when given substantial workloads. Mini-batches provide this workload efficiently.\n",
        "\n",
        "- **Stability:** It helps stabilize the training process by smoothing out noisy gradients from individual data items.\n",
        "\n",
        "- **Memory Management:** Mini-batches allow you to make the most of GPU memory without overloading it.\n",
        "\n",
        "Choosing an appropriate batch size is a practical decision in deep learning, balancing training speed and accuracy. It's an important consideration in training neural networks effectively."
      ]
    },
    {
      "cell_type": "markdown",
      "metadata": {
        "id": "-2HQIj1gOjq6"
      },
      "source": [
        "#### Shuffling\n",
        "To enhance generalization in training, introducing variation is essential. An effective way to achieve this is by diversifying the data items within each mini-batch. Instead of processing the dataset in a fixed order during each epoch, it's common practice to shuffle the dataset before creating mini-batches. This randomization promotes better learning and adaptability in the model."
      ]
    },
    {
      "cell_type": "markdown",
      "metadata": {
        "id": "V0Ia-hGdO0-9"
      },
      "source": [
        "### The Pytorch Dataloader\n",
        "PyTorch offers a convenient class called DataLoader, which simplifies the process of shuffling and creating mini-batches for you.\n",
        "\n",
        "With DataLoader, you can transform any Python collection into an iterator over mini-batches, as demonstrated below:"
      ]
    },
    {
      "cell_type": "code",
      "execution_count": 24,
      "metadata": {
        "colab": {
          "base_uri": "https://localhost:8080/"
        },
        "id": "kMjCTZGFPCbr",
        "outputId": "a06bf0a9-f860-4fdf-90e1-b7a00c6890cc"
      },
      "outputs": [
        {
          "output_type": "stream",
          "name": "stdout",
          "text": [
            "number_col:[0, 1, 2, 3, 4, 5, 6, 7, 8, 9, 10, 11, 12, 13, 14]\n"
          ]
        },
        {
          "output_type": "execute_result",
          "data": {
            "text/plain": [
              "[tensor([ 9,  6,  3,  8, 11]),\n",
              " tensor([10,  2, 14,  5, 12]),\n",
              " tensor([ 0,  7,  1, 13,  4])]"
            ]
          },
          "metadata": {},
          "execution_count": 24
        }
      ],
      "source": [
        "number_col = range(15)\n",
        "print('number_col:{}'.format(list(number_col)))\n",
        "dl = torch.utils.data.DataLoader(number_col, batch_size=5, shuffle=True)\n",
        "list(dl)"
      ]
    },
    {
      "cell_type": "markdown",
      "metadata": {
        "id": "HK3ht64qT96V"
      },
      "source": [
        "When training a model, we typically need a structured collection containing both independent and dependent variables (i.e., model inputs and corresponding targets). In PyTorch, such a collection is referred to as a Dataset. Here, we can put together the labels and the standardized tensors into the dataset form (x,y):"
      ]
    },
    {
      "cell_type": "code",
      "execution_count": 25,
      "metadata": {
        "colab": {
          "base_uri": "https://localhost:8080/"
        },
        "id": "7PimyFEUWGy7",
        "outputId": "e77eca1f-9df9-4f47-c087-46c4cc315241"
      },
      "outputs": [
        {
          "output_type": "execute_result",
          "data": {
            "text/plain": [
              "(torch.Size([784]), 5)"
            ]
          },
          "metadata": {},
          "execution_count": 25
        }
      ],
      "source": [
        "dset = list(zip(standardized_tensors,train_labels))\n",
        "x,y = dset[0]\n",
        "x.shape,y"
      ]
    },
    {
      "cell_type": "markdown",
      "metadata": {
        "id": "6o2pMIXbPpWh"
      },
      "source": [
        "We can achieve use the same dataloader function to shuffle and create mini-batches of our standardized MNIST image tensors."
      ]
    },
    {
      "cell_type": "code",
      "execution_count": 26,
      "metadata": {
        "colab": {
          "base_uri": "https://localhost:8080/"
        },
        "id": "XFMEjNptP3Qz",
        "outputId": "6b149276-6caa-413e-c91b-39e4fd681961"
      },
      "outputs": [
        {
          "output_type": "stream",
          "name": "stdout",
          "text": [
            "standardized_tensors shape: torch.Size([60000, 784])\n",
            "train_labels len: 60000\n",
            "\n",
            "train_dataloader_list total length: 938\n",
            "60000 images/ 64 batches: 937.5\n",
            "first batch x shape: torch.Size([64, 784])\n",
            "first batch y shape: torch.Size([64])\n",
            "last batch x shape: torch.Size([32, 784])\n",
            "last batch y shape: torch.Size([32])\n"
          ]
        }
      ],
      "source": [
        "print('standardized_tensors shape: {}'.format(standardized_tensors.shape))\n",
        "print('train_labels len: {}'.format(len(train_labels)))\n",
        "print()\n",
        "\n",
        "train_dataloader = torch.utils.data.DataLoader(dset, batch_size=64, shuffle=True)\n",
        "\n",
        "train_dataloader_list = list(train_dataloader)\n",
        "print('train_dataloader_list total length: {}'.format(len(train_dataloader_list)))\n",
        "print('60000 images/ 64 batches: {}'.format(60000/64)) # the last batch has 32 images only\n",
        "print('first batch x shape: {}'.format(train_dataloader_list[0][0].shape)) #64 standardized image tensors\n",
        "print('first batch y shape: {}'.format(train_dataloader_list[0][1].shape)) #64 image labels\n",
        "print('last batch x shape: {}'.format(train_dataloader_list[-1][0].shape)) #32 standardized image tensors\n",
        "print('last batch y shape: {}'.format(train_dataloader_list[-1][1].shape)) #32 image labels\n"
      ]
    },
    {
      "cell_type": "markdown",
      "metadata": {
        "id": "gdIhz2QeS9i6"
      },
      "source": [
        "Notice how the 60000 MNIST training images has been shuffled into 938 batches of 64 images in each batch. (except the last one)."
      ]
    },
    {
      "cell_type": "markdown",
      "metadata": {
        "id": "n9L2JZ-dXv2S"
      },
      "source": [
        "### Review Data Loader"
      ]
    },
    {
      "cell_type": "markdown",
      "metadata": {
        "id": "dcndvsB5ZLOF"
      },
      "source": [
        "We can review if our Pytorch dataloader is working well. First lets enumerate the dataloader and load the first batch."
      ]
    },
    {
      "cell_type": "code",
      "execution_count": 27,
      "metadata": {
        "colab": {
          "base_uri": "https://localhost:8080/"
        },
        "id": "Fr3zHpJdZXV9",
        "outputId": "97e0385a-f94d-4896-f1e0-3ede0c2406ea"
      },
      "outputs": [
        {
          "output_type": "stream",
          "name": "stdout",
          "text": [
            "example_data.shape: torch.Size([64, 784])\n",
            "len(example_targets): 64\n"
          ]
        },
        {
          "output_type": "execute_result",
          "data": {
            "text/plain": [
              "torch.Size([784])"
            ]
          },
          "metadata": {},
          "execution_count": 27
        }
      ],
      "source": [
        "example_data, example_targets = first(train_dataloader)\n",
        "\n",
        "print('example_data.shape: {}'.format(example_data.shape))\n",
        "print('len(example_targets): {}'.format(len(example_targets)))\n",
        "example_data[0].shape"
      ]
    },
    {
      "cell_type": "markdown",
      "metadata": {
        "id": "C5a-yQdIZWJ3"
      },
      "source": [
        "First batch (batch index=0) has 64 standardized tensor images and 64 corresponding labels. We can plot some of them using matplotlib"
      ]
    },
    {
      "cell_type": "code",
      "execution_count": null,
      "metadata": {
        "colab": {
          "base_uri": "https://localhost:8080/",
          "height": 843
        },
        "id": "qBSIdVt-aV8H",
        "outputId": "834ea076-6f0c-4fa1-b567-85eff6246531"
      },
      "outputs": [
        {
          "data": {
            "image/png": "[encoded data removed]",
            "text/plain": [
              "<Figure size 640x480 with 6 Axes>"
            ]
          },
          "execution_count": 17,
          "metadata": {},
          "output_type": "execute_result"
        },
        {
          "data": {
            "image/png": "[encoded data removed]",
            "text/plain": [
              "<Figure size 640x480 with 6 Axes>"
            ]
          },
          "metadata": {},
          "output_type": "display_data"
        }
      ],
      "source": [
        "fig = plt.figure()\n",
        "for i in range(6):\n",
        "  plt.subplot(2,3,i+1)\n",
        "  plt.tight_layout()\n",
        "  #convert back to orig shape\n",
        "  original_shape = (28, 28)\n",
        "  numpy_array = example_data[i]\n",
        "  numpy_array = numpy_array.reshape(original_shape)\n",
        "\n",
        "  plt.imshow(numpy_array, cmap='gray', interpolation='none')\n",
        "  plt.title(\"Ground Truth: {}\".format(example_targets[i]))\n",
        "  plt.xticks([])\n",
        "  plt.yticks([])\n",
        "fig"
      ]
    },
    {
      "cell_type": "markdown",
      "metadata": {
        "id": "hd-73wVEa4jz"
      },
      "source": [
        "As we can see, our train dataset loader appears to be working fine. To summarize, we first downloaded the data, converted it to tensors, normalized the data, shuffled and split the data into minibatches, finally exposed the data through dataloader."
      ]
    },
    {
      "cell_type": "code",
      "execution_count": null,
      "metadata": {
        "colab": {
          "base_uri": "https://localhost:8080/",
          "height": 80
        },
        "id": "r9At0Pv8bMy1",
        "outputId": "d22ca563-b30b-4473-9ce0-44b514f60db7"
      },
      "outputs": [
        {
          "data": {
            "image/svg+xml": "<?xml version=\"1.0\" encoding=\"UTF-8\" standalone=\"no\"?>\n<!DOCTYPE svg PUBLIC \"-//W3C//DTD SVG 1.1//EN\"\n \"http://www.w3.org/Graphics/SVG/1.1/DTD/svg11.dtd\">\n<!-- Generated by graphviz version 2.43.0 (0)\n -->\n<!-- Title: G Pages: 1 -->\n<svg width=\"738pt\" height=\"44pt\"\n viewBox=\"0.00 0.00 738.25 44.00\" xmlns=\"http://www.w3.org/2000/svg\" xmlns:xlink=\"http://www.w3.org/1999/xlink\">\n<g id=\"graph0\" class=\"graph\" transform=\"scale(1 1) rotate(0) translate(4 40)\">\n<title>G</title>\n<polygon fill=\"white\" stroke=\"transparent\" points=\"-4,4 -4,-40 734.25,-40 734.25,4 -4,4\"/>\n<!-- download data -->\n<g id=\"node1\" class=\"node\">\n<title>download data</title>\n<ellipse fill=\"none\" stroke=\"black\" cx=\"62.39\" cy=\"-18\" rx=\"62.29\" ry=\"18\"/>\n<text text-anchor=\"middle\" x=\"62.39\" y=\"-14.3\" font-family=\"Times,serif\" font-size=\"14.00\">download data</text>\n</g>\n<!-- convert to tensor -->\n<g id=\"node2\" class=\"node\">\n<title>convert to tensor</title>\n<ellipse fill=\"none\" stroke=\"black\" cx=\"230.98\" cy=\"-18\" rx=\"70.39\" ry=\"18\"/>\n<text text-anchor=\"middle\" x=\"230.98\" y=\"-14.3\" font-family=\"Times,serif\" font-size=\"14.00\">convert to tensor</text>\n</g>\n<!-- download data&#45;&gt;convert to tensor -->\n<g id=\"edge1\" class=\"edge\">\n<title>download data&#45;&gt;convert to tensor</title>\n<path fill=\"none\" stroke=\"black\" d=\"M124.95,-18C133.28,-18 141.92,-18 150.5,-18\"/>\n<polygon fill=\"black\" stroke=\"black\" points=\"150.53,-21.5 160.53,-18 150.53,-14.5 150.53,-21.5\"/>\n</g>\n<!-- normalize -->\n<g id=\"node3\" class=\"node\">\n<title>normalize</title>\n<ellipse fill=\"none\" stroke=\"black\" cx=\"383.32\" cy=\"-18\" rx=\"46.29\" ry=\"18\"/>\n<text text-anchor=\"middle\" x=\"383.32\" y=\"-14.3\" font-family=\"Times,serif\" font-size=\"14.00\">normalize</text>\n</g>\n<!-- convert to tensor&#45;&gt;normalize -->\n<g id=\"edge2\" class=\"edge\">\n<title>convert to tensor&#45;&gt;normalize</title>\n<path fill=\"none\" stroke=\"black\" d=\"M301.43,-18C309.87,-18 318.41,-18 326.61,-18\"/>\n<polygon fill=\"black\" stroke=\"black\" points=\"326.79,-21.5 336.79,-18 326.79,-14.5 326.79,-21.5\"/>\n</g>\n<!-- split &amp; shuffle -->\n<g id=\"node4\" class=\"node\">\n<title>split &amp; shuffle</title>\n<ellipse fill=\"none\" stroke=\"black\" cx=\"527.86\" cy=\"-18\" rx=\"62.29\" ry=\"18\"/>\n<text text-anchor=\"middle\" x=\"527.86\" y=\"-14.3\" font-family=\"Times,serif\" font-size=\"14.00\">split &amp; shuffle</text>\n</g>\n<!-- normalize&#45;&gt;split &amp; shuffle -->\n<g id=\"edge3\" class=\"edge\">\n<title>normalize&#45;&gt;split &amp; shuffle</title>\n<path fill=\"none\" stroke=\"black\" d=\"M429.81,-18C437.95,-18 446.61,-18 455.28,-18\"/>\n<polygon fill=\"black\" stroke=\"black\" points=\"455.42,-21.5 465.42,-18 455.42,-14.5 455.42,-21.5\"/>\n</g>\n<!-- DataLoader -->\n<g id=\"node5\" class=\"node\">\n<title>DataLoader</title>\n<ellipse fill=\"none\" stroke=\"black\" cx=\"678.25\" cy=\"-18\" rx=\"51.99\" ry=\"18\"/>\n<text text-anchor=\"middle\" x=\"678.25\" y=\"-14.3\" font-family=\"Times,serif\" font-size=\"14.00\">DataLoader</text>\n</g>\n<!-- split &amp; shuffle&#45;&gt;DataLoader -->\n<g id=\"edge4\" class=\"edge\">\n<title>split &amp; shuffle&#45;&gt;DataLoader</title>\n<path fill=\"none\" stroke=\"black\" d=\"M590.5,-18C598.88,-18 607.48,-18 615.86,-18\"/>\n<polygon fill=\"black\" stroke=\"black\" points=\"615.93,-21.5 625.93,-18 615.93,-14.5 615.93,-21.5\"/>\n</g>\n</g>\n</svg>\n",
            "text/plain": [
              "<graphviz.sources.Source at 0x7de7958c3130>"
            ]
          },
          "execution_count": 18,
          "metadata": {},
          "output_type": "execute_result"
        }
      ],
      "source": [
        "#hide\n",
        "gv('''\n",
        "\"download data\"->\"convert to tensor\"->\"normalize\"->\"split & shuffle\"->\"DataLoader\"\n",
        "''')"
      ]
    },
    {
      "cell_type": "markdown",
      "metadata": {
        "id": "upeS77ztbMOZ"
      },
      "source": [
        "Instead of doing all the steps individually, wouldn't it be easy if we did this all in one go? There is a simplified way for doing just that using Pytorch!"
      ]
    },
    {
      "cell_type": "markdown",
      "metadata": {
        "id": "n96RBE5uXYKk"
      },
      "source": [
        "### Simplified Code for DataLoader"
      ]
    },
    {
      "cell_type": "code",
      "execution_count": 8,
      "metadata": {
        "id": "sep4mZ1SvF6R"
      },
      "outputs": [],
      "source": [
        "# Define a custom transform function to flatten the tensor\n",
        "def flatten_transform(data):\n",
        "    # Assuming 'data' is a PyTorch tensor of size [batch_size, 28, 28]\n",
        "    # batch_size, height, width = data.size()\n",
        "    return data.view(-1)"
      ]
    },
    {
      "cell_type": "code",
      "execution_count": 9,
      "metadata": {
        "id": "xNR0fw-ocauP"
      },
      "outputs": [],
      "source": [
        "batch_size_train = 64\n",
        "batch_size_test = 64\n",
        "train_loader = torch.utils.data.DataLoader(\n",
        "  torchvision.datasets.MNIST('/files/', train=True, download=True,\n",
        "                             transform=torchvision.transforms.Compose([\n",
        "                               torchvision.transforms.ToTensor(),\n",
        "                               torchvision.transforms.Normalize(\n",
        "                                 (0.1307,), (0.3081,)),\n",
        "                               flatten_transform\n",
        "                             ])),\n",
        "  batch_size=batch_size_train, shuffle=True)\n",
        "\n",
        "test_loader = torch.utils.data.DataLoader(\n",
        "  torchvision.datasets.MNIST('/files/', train=False, download=True,\n",
        "                             transform=torchvision.transforms.Compose([\n",
        "                               torchvision.transforms.ToTensor(),\n",
        "                               torchvision.transforms.Normalize(\n",
        "                                 (0.1307,), (0.3081,)),\n",
        "                               flatten_transform\n",
        "                             ])),\n",
        "  batch_size=batch_size_test, shuffle=True)"
      ]
    },
    {
      "cell_type": "markdown",
      "metadata": {
        "id": "XSIuGi6Scju8"
      },
      "source": [
        "How simple is that!\n",
        "- We have downloaded the data using `download=True`,\n",
        "- converted the images to tensor and normalized it using known harded coded values for mean(0.1307) and std(0.3081) for MNIST train dataset.\n",
        "- shuffled using `shuffle=True` parameter\n",
        "- mini-batched using `batch_size` parameter\n",
        "\n",
        "Using the `train=True/False` parameter, we have created a dataloader for the test loader as well. Note that, the test loader is using the same mean and std values as we did for train. This is because, any datapreprocessing we apply for train should be applied \"as-is\" for test as well. Moreover, peeping the test data to calculate mean and std is still cheating under the ML rule book."
      ]
    },
    {
      "cell_type": "markdown",
      "metadata": {
        "id": "M01JWc4xvbHY"
      },
      "source": [
        "Lets make sure our new dataloader using Pytorch is returning the corret shapes."
      ]
    },
    {
      "cell_type": "code",
      "execution_count": null,
      "metadata": {
        "colab": {
          "base_uri": "https://localhost:8080/"
        },
        "id": "XOI34QdwvhLp",
        "outputId": "b4c610d0-7938-4323-ecbf-85cb9ec5e88a"
      },
      "outputs": [
        {
          "name": "stdout",
          "output_type": "stream",
          "text": [
            "example_data.shape: torch.Size([64, 784])\n",
            "len(example_targets): 64\n"
          ]
        },
        {
          "data": {
            "text/plain": [
              "torch.Size([784])"
            ]
          },
          "execution_count": 21,
          "metadata": {},
          "output_type": "execute_result"
        }
      ],
      "source": [
        "example_data, example_targets = first(train_loader)\n",
        "\n",
        "print('example_data.shape: {}'.format(example_data.shape))\n",
        "print('len(example_targets): {}'.format(len(example_targets)))\n",
        "example_data[0].shape"
      ]
    },
    {
      "cell_type": "markdown",
      "metadata": {
        "id": "PSuYFg3swDPu"
      },
      "source": [
        "Lets check this for test loader as well."
      ]
    },
    {
      "cell_type": "code",
      "execution_count": null,
      "metadata": {
        "colab": {
          "base_uri": "https://localhost:8080/"
        },
        "id": "SqO_MgzWwF3t",
        "outputId": "d7f063cd-7ece-42a6-826a-8c62ac5379e2"
      },
      "outputs": [
        {
          "name": "stdout",
          "output_type": "stream",
          "text": [
            "example_data.shape: torch.Size([64, 784])\n",
            "len(example_targets): 64\n"
          ]
        },
        {
          "data": {
            "text/plain": [
              "torch.Size([784])"
            ]
          },
          "execution_count": 22,
          "metadata": {},
          "output_type": "execute_result"
        }
      ],
      "source": [
        "example_data, example_targets = first(test_loader)\n",
        "\n",
        "print('example_data.shape: {}'.format(example_data.shape))\n",
        "print('len(example_targets): {}'.format(len(example_targets)))\n",
        "example_data[0].shape"
      ]
    },
    {
      "cell_type": "markdown",
      "metadata": {
        "id": "hM8cuJ5MwJRP"
      },
      "source": [
        "We are good to proceed further!"
      ]
    },
    {
      "cell_type": "markdown",
      "metadata": {
        "id": "jduQR5jbvq4D"
      },
      "source": [
        "## Model Architecture"
      ]
    },
    {
      "cell_type": "markdown",
      "metadata": {
        "id": "TCVWV20Dd4OE"
      },
      "source": [
        "### Neural Network\n",
        "Lets create a neural network model from scratch. We will start with a simple single layer neural network with the number of inputs to be same size as the pixels we have and the output layer to have 10 outputs. Neural network equation is $$y=wx+b$$.\n",
        "\n",
        "**Input & Output:** Before we design our neural network, we have to think about our input and output. Lets take one input and one output. Our input x is an image which has 784 pixels (28x28). i.e., we have 784 numbers for x, output. Our output is a prediction for one of the 10 classes. Therefore, y has to have 10 outputs.\n",
        "\n",
        "![png](neural_network_rep.png)"
      ]
    },
    {
      "cell_type": "markdown",
      "metadata": {
        "id": "3ovNT5Gm703D"
      },
      "source": [
        "**Weights & Biases:** Next we have to think about the shape of weights & bias as well. For this, we will work our way in reverse. We know we need 10 outputs. Bias is a number that gets added to wx to generate 10 outputs. Thus we know we need 10 numbers for bias. For calculating the shape of the weights, we made things simple by flattening our input image which now has 784 numbers for pixel values. Thus the weights should match the input size which is 784. Note the product of weights & input (wx) gets added to bias,  so the weights should also match the shape of bias. Thus weights should be a dimensional matrix of shape (input size, num_classes).\n",
        "\n",
        "![png](neural_network_multiplication.png)\n",
        "\n",
        "We can apply the same logic for batch processing and we will get the same results for the entire batch.\n",
        "\n",
        "![png](neural_network_multiplication_batch.png)\n",
        "\n",
        "Now that we have taken care of the math, first, we want to create a function for initializing the parameters.\n",
        "Lets assume a basic single layer neural network."
      ]
    },
    {
      "cell_type": "code",
      "execution_count": null,
      "metadata": {
        "id": "lcchDNdweRvJ"
      },
      "outputs": [],
      "source": [
        "def init_params(size, std=1.0, requires_grad = True):\n",
        "    \"\"\"\n",
        "    Initialize model parameters with random values.\n",
        "\n",
        "    Args:\n",
        "    - size (tuple): The size or shape of the parameter tensor.\n",
        "    - std (float): The standard deviation of the random values (default is 1.0).\n",
        "\n",
        "    Returns:\n",
        "    - params (tensor): A tensor containing randomly initialized values for model parameters.\n",
        "    \"\"\"\n",
        "    # Generate random values from a normal distribution with mean 0 and standard deviation 'std'.\n",
        "    random_values = torch.randn(size) * std\n",
        "\n",
        "    # Mark the tensor to require gradients, indicating that it's a learnable parameter.\n",
        "    if requires_grad:\n",
        "      params = random_values.requires_grad_()\n",
        "    else:\n",
        "      params = random_values\n",
        "\n",
        "    return params"
      ]
    },
    {
      "cell_type": "code",
      "execution_count": null,
      "metadata": {
        "colab": {
          "base_uri": "https://localhost:8080/"
        },
        "id": "XJx1kDt6kAO_",
        "outputId": "e81ab5a0-dcc3-48f7-ae74-ca49ebae0123"
      },
      "outputs": [
        {
          "data": {
            "text/plain": [
              "torch.Size([784, 10])"
            ]
          },
          "execution_count": 24,
          "metadata": {},
          "output_type": "execute_result"
        }
      ],
      "source": [
        "weights = init_params((28*28,10))\n",
        "weights.shape"
      ]
    },
    {
      "cell_type": "markdown",
      "metadata": {
        "id": "NA0RlJxQByRU"
      },
      "source": [
        "We will set the bias to have 10 outputs. y=wx represents only a linear relationship. Adding bias b increases the flexibility of the model to travel anywhere along the y-axis.\n",
        "\n",
        "**Why need bias?**\n",
        "The bias term represents an offset or an intercept in the model. It allows the model to capture a baseline or an average value that is independent of the input features. Without the bias, the model would always pass through the origin (0,0) and could only represent relationships that go through the origin. Including a bias term increases the flexibility of the model. Without it, the model's hypothesis space is constrained to linear relationships passing through the origin, which might not be suitable for capturing complex patterns in the data.\n",
        "\n"
      ]
    },
    {
      "cell_type": "code",
      "execution_count": null,
      "metadata": {
        "colab": {
          "base_uri": "https://localhost:8080/"
        },
        "id": "HBDdNG40m_ZC",
        "outputId": "fde4d8f4-1f89-41e9-8754-9325faf00e37"
      },
      "outputs": [
        {
          "data": {
            "text/plain": [
              "torch.Size([10])"
            ]
          },
          "execution_count": 25,
          "metadata": {},
          "output_type": "execute_result"
        }
      ],
      "source": [
        "bias = init_params(10)\n",
        "bias.shape"
      ]
    },
    {
      "cell_type": "code",
      "execution_count": null,
      "metadata": {
        "colab": {
          "base_uri": "https://localhost:8080/"
        },
        "id": "4W_BHnGGna7g",
        "outputId": "4efaa1f5-59b9-485d-8a4f-71fe3ffb6b76"
      },
      "outputs": [
        {
          "data": {
            "text/plain": [
              "(torch.Size([64, 784]), torch.Size([64]))"
            ]
          },
          "execution_count": 26,
          "metadata": {},
          "output_type": "execute_result"
        }
      ],
      "source": [
        "xb,yb = next(iter(train_loader))\n",
        "xb.shape,yb.shape\n"
      ]
    },
    {
      "cell_type": "markdown",
      "metadata": {
        "id": "u3qv3YS2FCfX"
      },
      "source": [
        "Lets try calculating the prediction for one image."
      ]
    },
    {
      "cell_type": "code",
      "execution_count": null,
      "metadata": {
        "colab": {
          "base_uri": "https://localhost:8080/"
        },
        "id": "uQJdevNqFR8N",
        "outputId": "305437c9-23cd-443f-84a8-090372b8dfe3"
      },
      "outputs": [
        {
          "data": {
            "text/plain": [
              "torch.Size([10])"
            ]
          },
          "execution_count": 27,
          "metadata": {},
          "output_type": "execute_result"
        }
      ],
      "source": [
        "(xb[0]@weights).shape # \"@\" symbol for matrix multiplication"
      ]
    },
    {
      "cell_type": "code",
      "execution_count": null,
      "metadata": {
        "colab": {
          "base_uri": "https://localhost:8080/"
        },
        "id": "OOAx81MIFFyl",
        "outputId": "1760b022-25f5-4581-c756-2fe75be033ce"
      },
      "outputs": [
        {
          "data": {
            "text/plain": [
              "tensor([ 24.3919, -51.7686,  13.9901, -22.6144,  47.2925,   4.1529, -24.6324, -37.5008,  47.0262,  35.0089], grad_fn=<AddBackward0>)"
            ]
          },
          "execution_count": 28,
          "metadata": {},
          "output_type": "execute_result"
        }
      ],
      "source": [
        "pred = (xb[0] @ weights) + bias #y = wx + b\n",
        "pred"
      ]
    },
    {
      "cell_type": "markdown",
      "metadata": {
        "id": "jUnSgF5jJqiE"
      },
      "source": [
        "We seem to get some predictions numbers. If our task was a binary classification task, we can easily assume any positive number as positive classification and vice versa.\n",
        "\n",
        "However, since this is a multi-label classification task, where each sample may belong to multiple classes, the prediction with the highest value is the class our simple linear model has classified the image as."
      ]
    },
    {
      "cell_type": "markdown",
      "metadata": {
        "id": "GiNiSLlxOtDX"
      },
      "source": [
        "Lets get the argument (position) of the highest prediction value."
      ]
    },
    {
      "cell_type": "code",
      "execution_count": null,
      "metadata": {
        "colab": {
          "base_uri": "https://localhost:8080/"
        },
        "id": "G1pIdzjePNuD",
        "outputId": "002bfdba-ef82-4ec1-f854-b2749b22756a"
      },
      "outputs": [
        {
          "name": "stdout",
          "output_type": "stream",
          "text": [
            "predicted output:4\n",
            "actual output:4\n"
          ]
        }
      ],
      "source": [
        "# Get the index of the maximum value\n",
        "max_index = pred.argmax()\n",
        "print(\"predicted output:{}\".format(max_index))\n",
        "print(\"actual output:{}\".format(yb[0]))"
      ]
    },
    {
      "cell_type": "markdown",
      "metadata": {
        "id": "p7O6QPRBPVA-"
      },
      "source": [
        "Note: At this point, we are only getting the position of the max prediction value. The model does not know if it is predicting a 7 or a 3 or anything else. All the model is doing is giving its calculations for the 10 output positions.\n",
        "\n",
        "Then you might ask, How can we tell what the model is predicting. This comes up only in the next step when we calculate Loss=(Prediction-Target). Only when the loss value is backpropagated, the model will know it tried to predict a highest value for position 3 however, the target value shows highest result for position 7. Thus by lining up the 10 predicted numbers with the 10 output targets, the model would know it needs to adjust its numbers to render a highest score on position 7."
      ]
    },
    {
      "cell_type": "markdown",
      "metadata": {
        "id": "vYcwr4_YRfem"
      },
      "source": [
        "### Softmax function"
      ]
    },
    {
      "cell_type": "markdown",
      "metadata": {
        "id": "sp89FWP5RlhG"
      },
      "source": [
        "In the above example, you might ask, we already know the model's prediction. Isn't it enough to compare with the right answer and train whether the model is right or wrong? Can't we simply ignore the rest of the 9 numbers? No, we should not. Because, the model needs to learn from the incorrect answers as well.\n",
        "\n",
        "But, we have a problem. The numbers seem to be over a wide range. The above example has a highest value of 45.2565 and lowest value of -23.6937. This is just for one image. Imagine doing this for multiple images and we will end up with multiple range of numbers. How can we make meaningful interpretation from these numbers? We need a common numbering system for the model's output. (Hint: Normalization)\n",
        "\n",
        "This is where the SoftMax Function comes in handy. The softmax function grabs a vector of arbitrary real numbers and turn it into probabilities."
      ]
    },
    {
      "cell_type": "markdown",
      "metadata": {
        "id": "P7HB6g45Ux5C"
      },
      "source": [
        "[!png](softmax_function.webp)"
      ]
    },
    {
      "cell_type": "markdown",
      "metadata": {
        "id": "kWQ_etzdU3A7"
      },
      "source": [
        "In summary,\n",
        "1.  First, the model looks at each picture and measures how confident it is that a specific digit is in the picture. For example, if the machine sees a picture that looks a lot like the number 3, it will give it a high score for being the digit 3. If it's not sure, it might give it a lower score.\n",
        "\n",
        "2. Next, the Softmax Function takes all these scores and turns them into probabilities. It ensures that the sum of all the scores equals 100% (or 1 in decimal form). So, the digit with the highest score gets the highest probability, and the one with the lowest score gets the lowest probability.\n",
        "\n"
      ]
    },
    {
      "cell_type": "markdown",
      "metadata": {
        "id": "Fj13RAjSWCoF"
      },
      "source": [
        "### Normalization vs Softmax\n",
        "You might ask isn't Softmax same as Normalization? No, they are different.\n",
        "\n",
        "1. **Normalization**:\n",
        "   - Normalization refers to scaling data to have zero mean and unit variance or scaling it to a specific range (e.g., [0, 1]). It is used for data preprocessing and feature scaling.\n",
        "   - Normalization doesn't change the fundamental characteristics of the data. It helps improve training convergence, especially for algorithms like gradient descent, by ensuring that features are on a similar scale.\n",
        "   - It doesn't determine probabilities or make decisions; it's about feature scaling and numerical stability.\n",
        "\n",
        "2. **Softmax Function**:\n",
        "   - The softmax function is a specific activation function used in the output layer of a neural network for multi-class classification tasks.\n",
        "   - It takes a vector of real numbers and converts them into a probability distribution over multiple classes. It assigns probabilities to each class, ensuring that they sum up to 1.\n",
        "   - The softmax function is crucial for determining class probabilities and making decisions in classification problems. It's used to model the likelihood of each class given the network's input.\n",
        "   - Softmax is used to map the model's raw scores (logits) into class probabilities, allowing you to choose the class with the highest probability as the predicted class."
      ]
    },
    {
      "cell_type": "markdown",
      "metadata": {
        "id": "DdJ9cIPepG43"
      },
      "source": [
        "### SoftMax Implementation"
      ]
    },
    {
      "cell_type": "markdown",
      "metadata": {
        "id": "0TvY9RaypejS"
      },
      "source": [
        "The softmax formula transforms the prediction output in a way that makes the biggest number the most likely choice, the next biggest number the second most likely choice, and so on.\n",
        "\n",
        "$$  \\text{Softmax}(x_{i}) = \\frac{\\exp(x_i)}{\\sum_j \\exp(x_j)} $$\n",
        "\n",
        "In simple terms, softmax formula takes the \"evidence\" or \"confidence\" in each category $$x_i$$, amplifies it using exponentiation $$\\exp(x_i)$$, and then calculates the probability of the input with respect to rest of the evidences across all categories $$\\frac{1}{\\sum_j \\exp(x_j)}$$."
      ]
    },
    {
      "cell_type": "markdown",
      "metadata": {
        "id": "nDGDd72HvhmH"
      },
      "source": [
        "For implementation, we have to think numerical stability. In the softmax function, we need to exponentiate the elements of a vector. The problem arises when you need to compute the exponential of a large or small number, it can result in numerical overflow or underflow. This causes the output of Softmax to end up with `nan` outputs.\n",
        "\n",
        "So to implement the softmax formula, we have to use the max subtraction of the [log-sum-exp trick](https://www.xarg.org/2016/06/the-log-sum-exp-trick-in-machine-learning/). Given a set of values $$(x_1, x_2, x_3, \\ldots, x_n)$$, we would find the maximum value, $$(M = \\max(x_1, x_2, x_3, \\ldots, x_n))$$, and then compute the exponentials as follows:\n",
        "\n",
        "   $$\n",
        "   \\text{exp}(x_1, x_2, x_3, \\ldots, x_n) = e^{x_1 - M} + e^{x_2 - M} + e^{x_3 - M} + \\ldots + e^{x_n - M}\n",
        "   $$\n",
        "\n",
        "   The subtraction of \\(M\\) helps prevent overflow,"
      ]
    },
    {
      "cell_type": "code",
      "execution_count": null,
      "metadata": {
        "id": "Ci2za5HGpO7G"
      },
      "outputs": [],
      "source": [
        "def softmax(x):\n",
        "    \"\"\"\n",
        "      Compute softmax scores given the raw output from the model\n",
        "        :param scores: raw scores from the model (N, num_classes)\n",
        "        :return:\n",
        "            prob: softmax probabilities (N, num_classes)\n",
        "      \"\"\"\n",
        "    #check dim\n",
        "    if (len(x.shape)==2):\n",
        "      # Exponentiate each element of the input along dim=1\n",
        "      exp_x = torch.exp(x - x.max(dim=1, keepdim=True).values)\n",
        "      # Calculate the sum of exponentiated values along dim=1\n",
        "      sum_exp_x = torch.sum(exp_x, dim=1, keepdim=True)\n",
        "    else:\n",
        "      exp_x = torch.exp(x)\n",
        "      sum_exp_x = torch.sum(exp_x)\n",
        "\n",
        "\n",
        "\n",
        "    # Calculate the softmax probabilities for each element along dim=1\n",
        "    softmax_probs = exp_x / sum_exp_x\n",
        "\n",
        "    return softmax_probs"
      ]
    },
    {
      "cell_type": "markdown",
      "metadata": {
        "id": "zSyQimQRr6mp"
      },
      "source": [
        "Lets try this sofmax function out. We expect the sum of the outputs to add up to 1.0 (100% probability)."
      ]
    },
    {
      "cell_type": "code",
      "execution_count": null,
      "metadata": {
        "colab": {
          "base_uri": "https://localhost:8080/"
        },
        "id": "6s9TKhpUsFsE",
        "outputId": "08e4030f-1895-4884-f6ac-5714e43e2190"
      },
      "outputs": [
        {
          "name": "stdout",
          "output_type": "stream",
          "text": [
            "prob.sum():1.0\n"
          ]
        },
        {
          "data": {
            "text/plain": [
              "torch.Size([10])"
            ]
          },
          "execution_count": 31,
          "metadata": {},
          "output_type": "execute_result"
        }
      ],
      "source": [
        "prob = softmax(pred)\n",
        "print(\"prob.sum():{}\".format(prob.sum()))\n",
        "prob.shape"
      ]
    },
    {
      "cell_type": "markdown",
      "metadata": {
        "id": "bH8L4vKMvHS8"
      },
      "source": [
        "Note that unlike normalization where we would have 0 mean and 1 standard deviation, the softmax doesnt affect the mean or standard deviation. However, it affects the sum of probabilities totalling to 1.0.\n",
        "\n",
        "We have now converted the output of the predictions into probabilities across the output classes. Lets quickly check if our result is the same as we saw earlier with plain predictions."
      ]
    },
    {
      "cell_type": "code",
      "execution_count": null,
      "metadata": {
        "colab": {
          "base_uri": "https://localhost:8080/"
        },
        "id": "XvnHjgRju-89",
        "outputId": "a3839209-0d5b-4148-8843-4f9a539ad1fb"
      },
      "outputs": [
        {
          "name": "stdout",
          "output_type": "stream",
          "text": [
            "predicted output:4\n",
            "actual output:4\n"
          ]
        }
      ],
      "source": [
        "# Get the index of the maximum value\n",
        "max_index = prob.argmax()\n",
        "print(\"predicted output:{}\".format(max_index))\n",
        "print(\"actual output:{}\".format(yb[0]))"
      ]
    },
    {
      "cell_type": "markdown",
      "metadata": {
        "id": "G8kJVWXbOhky"
      },
      "source": [
        "Now that we have the individual components, we can put them together into a model."
      ]
    },
    {
      "cell_type": "code",
      "execution_count": null,
      "metadata": {
        "id": "34eSTIQ4OqX0"
      },
      "outputs": [],
      "source": [
        "def simple_net(xb):\n",
        "  pred = xb @ weights + bias\n",
        "  prob = softmax(pred)\n",
        "  return prob"
      ]
    },
    {
      "cell_type": "markdown",
      "metadata": {
        "id": "-dO3E4h9JUTb"
      },
      "source": [
        "## Loss Function"
      ]
    },
    {
      "cell_type": "markdown",
      "metadata": {
        "id": "-3IS-TRKu5JS"
      },
      "source": [
        "Now that we have the predicted probabilities for the MNIST digits 0-9, we want to determine the losses so we can feed it back to alter the weights during back propagation.\n",
        "\n",
        "As mentioned earlier, we dont want to pick the maximum probability and discard the remaining outputs as the wrong answers too are helpful for the model to learn. Example: if a model says, it is 50% confident an image is a 6, but the actual output is 9, we want to train the model so the confidence for 6 goes down. Ideally, the model should say 0% probability for 6 (and every other number), except for 9 which should have 100% probability.\n",
        "\n",
        "Since we have decided to retain all the output answers, the next question is how do we extract the loss for each classification output? The **Cross Entropy Loss Function** comes to our rescue."
      ]
    },
    {
      "cell_type": "markdown",
      "metadata": {
        "id": "oSeGsSGu0Cln"
      },
      "source": [
        "### Cross-entropy loss\n",
        "- The categorical cross-entropy loss is exclusively used in multi-class classification tasks, where each sample belongs exactly to one of the N classes.\n",
        "- Cross-entropy loss measures the difference between predicted probabilities and true labels.\n",
        "- It heavily penalizes confident incorrect predictions.\n",
        "- By minimizing this loss, the model learns to make more accurate predictions, which is the essence of classification in machine learning.\n",
        "- The true label can be represented by an one-hot encoded vector of size N, which has the value one for the correct class and zero everywhere else, see example below for N = 4:\n",
        "\n",
        "$$\\text{label}_{4}= 2\\rightarrow y = \\begin{pmatrix}\n",
        "     0\\\\\n",
        "     0\\\\\n",
        "     1\\\\\n",
        "     0\\\\\n",
        " \\end{pmatrix} $$\n"
      ]
    },
    {
      "cell_type": "markdown",
      "metadata": {
        "id": "8EjBHNDK1ben"
      },
      "source": [
        "### Cross-entropy formula"
      ]
    },
    {
      "cell_type": "markdown",
      "metadata": {
        "id": "J9nqB-RA1eym"
      },
      "source": [
        "The formula for categorical cross-entropy loss (also known as softmax loss or log loss) is calculated as:\n",
        "$$ \\text{Categorical Cross-Entropy Loss} = -\\sum_{i}^{N} y_i \\cdot \\log(p_i)$$\n",
        "\n",
        "Let's break down the formula for Categorical Cross-Entropy Loss step by step to understand it better.\n",
        "\n",
        "1. **\\(\\sum_{i}\\)**: This symbol stands for summation, which means we are summing over all the classes. In a multi-class classification problem, there can be many classes (e.g., classes for digits 0-9 in MNIST), and \\(i\\) represents each class.\n",
        "\n",
        "2. **\\(y_i\\)**: \\(y_i\\) is the true probability (or one-hot encoded label) for class \\(i\\). In one-hot encoding, it's a binary value that is 1 for the true class and 0 for all other classes. For example, if you're classifying digits and the true class is 3, \\(y_i\\) would be 1 for \\(i = 3\\) and 0 for all other \\(i\\).\n",
        "\n",
        "3. **\\(p_i\\)**: \\(p_i\\) is the predicted probability for class \\(i\\) given by your model. This is the probability that the model assigns to the input example belonging to class \\(i\\).\n",
        "\n",
        "4. **\\(-\\log(p_i)\\)**:\n",
        "- When \\(y_i = 1\\), it means that the true label for the example corresponds to class \\(i\\). In other words, the true class is class \\(i\\).\n",
        "- When the model assigns a high probability (\\(p_i\\)) to the true class (class \\(i\\)), the loss for that class becomes low because \\(-\\log(1) = 0\\).\n",
        "- However, when the model assigns a low probability to the true class, the loss for that class becomes high because \\(-\\log(p_i)\\) is a positive value for \\(p_i < 1\\). The more the predicted probability deviates from 1 (i.e., it's lower than expected), the higher the loss.\n",
        "\n",
        "\n",
        "5. **\\(-\\sum_{i} y_i \\cdot \\log(p_i)\\)**: Finally, we sum up these \\(-\\log(p_i)\\) terms over all classes. This summation measures the overall dissimilarity between the predicted probability distribution (\\(p_i\\)) and the true probability distribution (\\(y_i\\)).\n",
        "\n",
        "The Categorical Cross-Entropy Loss quantifies how well the predicted probabilities match the true probabilities (one-hot encoded labels) for a multi-class classification problem. It encourages the model to increase the predicted probability for the true class while reducing the predicted probabilities for other classes. Minimizing this loss during training helps the model make better class predictions."
      ]
    },
    {
      "cell_type": "markdown",
      "metadata": {
        "id": "_hBZIe2O5C0j"
      },
      "source": [
        "### Cross-Entropy Loss Implementation"
      ]
    },
    {
      "cell_type": "code",
      "execution_count": null,
      "metadata": {
        "id": "ka6CSrvyJZH7"
      },
      "outputs": [],
      "source": [
        "def cross_entropy_loss(y_true, y_pred, num_classes = 10):\n",
        "    \"\"\"\n",
        "    Compute the Categorical Cross-Entropy Loss for a single example.\n",
        "\n",
        "    Args:\n",
        "    - y_true: True label for classes.\n",
        "    - y_pred: Predicted probability distribution for classes.\n",
        "\n",
        "    Returns:\n",
        "    - loss: Categorical Cross-Entropy Loss for the example.\n",
        "    \"\"\"\n",
        "    # Convert y_true label to one hot encoded label\n",
        "    onehot_y = torch.eye(num_classes)[y_true]\n",
        "\n",
        "    # Ensure that onehot_y and y_pred have the same shape\n",
        "    assert onehot_y.shape == y_pred.shape, \"Shapes of y_true and y_pred must match.\"\n",
        "\n",
        "    # Compute the loss using the formula\n",
        "    # Apply the log-sum-exp trick to the computation of the logarithm\n",
        "    # This helps in preventing overflow or underflow when dealing with large or small probabilities\n",
        "    loss = -torch.sum(onehot_y * torch.log(torch.clamp(y_pred, 1e-10, 1.0)))\n",
        "\n",
        "    return loss"
      ]
    },
    {
      "cell_type": "markdown",
      "metadata": {
        "id": "37R18amDkjLb"
      },
      "source": [
        "NOTE: Some of the probablities in y_pred are extremely tiny. Such tiny values are almost close to 0. Trying to do a log() of 0 is inf. This leads to underflow(nans) and overflows(inf). So we clamp the y_preds and consider only a predefined range."
      ]
    },
    {
      "cell_type": "markdown",
      "metadata": {
        "id": "fGx9ZFjz5vGy"
      },
      "source": [
        "Lets test out the cross entropy loss."
      ]
    },
    {
      "cell_type": "code",
      "execution_count": null,
      "metadata": {
        "colab": {
          "base_uri": "https://localhost:8080/"
        },
        "id": "avQ73mBt6qcL",
        "outputId": "e5c09b0c-a704-42d9-b88d-4b981d7bba24"
      },
      "outputs": [
        {
          "data": {
            "text/plain": [
              "tensor(0.5688, grad_fn=<NegBackward0>)"
            ]
          },
          "execution_count": 35,
          "metadata": {},
          "output_type": "execute_result"
        }
      ],
      "source": [
        "cross_entropy_loss(yb[0], prob)"
      ]
    },
    {
      "cell_type": "markdown",
      "metadata": {
        "id": "_94g6YwA-_Pg"
      },
      "source": [
        "Lets try out some toy examples. Suppose the predicted probability is (0.8, 0.1,0.1) is close to the true probability is (1,0,0). We expect the loss to be cross entropy loss to be low."
      ]
    },
    {
      "cell_type": "code",
      "execution_count": null,
      "metadata": {
        "colab": {
          "base_uri": "https://localhost:8080/"
        },
        "id": "vwZJlRD-_aJl",
        "outputId": "3a9a1396-dd27-490c-b30c-21542281cabb"
      },
      "outputs": [
        {
          "data": {
            "text/plain": [
              "tensor(0.2231)"
            ]
          },
          "execution_count": 36,
          "metadata": {},
          "output_type": "execute_result"
        }
      ],
      "source": [
        "y_true = 0\n",
        "y_pred = torch.tensor([0.8,0.2,0.2])\n",
        "cross_entropy_loss(y_true, y_pred, num_classes=3)"
      ]
    },
    {
      "cell_type": "markdown",
      "metadata": {
        "id": "6FYPFrpz_56U"
      },
      "source": [
        "On the contrary, if predicted probability(0.2, 0.6,0.2) is far off from the true probability is (1,0,0). We expect the loss to be cross entropy loss to be higher."
      ]
    },
    {
      "cell_type": "code",
      "execution_count": null,
      "metadata": {
        "colab": {
          "base_uri": "https://localhost:8080/"
        },
        "id": "vLxR0AzDAV1b",
        "outputId": "e202e8f7-36f5-440c-8f26-6dcfc4ac4596"
      },
      "outputs": [
        {
          "data": {
            "text/plain": [
              "tensor(1.6094)"
            ]
          },
          "execution_count": 37,
          "metadata": {},
          "output_type": "execute_result"
        }
      ],
      "source": [
        "y_true = 0\n",
        "y_pred = torch.tensor([0.2,0.6,0.2])\n",
        "cross_entropy_loss(y_true, y_pred, num_classes=3)"
      ]
    },
    {
      "cell_type": "markdown",
      "metadata": {
        "id": "aoDziMSNAcld"
      },
      "source": [
        "So we have proved our loss function is working as expected."
      ]
    },
    {
      "cell_type": "markdown",
      "metadata": {
        "id": "RRXjVfer7kYD"
      },
      "source": [
        "So far, this is how our model architecture is looking after adding softmax and cross entropy layers."
      ]
    },
    {
      "cell_type": "markdown",
      "metadata": {
        "id": "9i5mNtD57tF8"
      },
      "source": [
        "![png](model_architecture.png)"
      ]
    },
    {
      "cell_type": "markdown",
      "metadata": {
        "id": "J_XII8zcBNiC"
      },
      "source": [
        "## Gradient Descent - Manual Calculation"
      ]
    },
    {
      "cell_type": "markdown",
      "metadata": {
        "id": "fXPQG4wnBQFm"
      },
      "source": [
        "Now that we have the forward pass with activation, lets calculate the backward pass to determine gradients.\n",
        "\n",
        "Similar to my [gradient descent article]({% post_url 2023-09-14-Gradient_Descent_Basics %}), we will follow the below steps to determine gradients and update our parameters."
      ]
    },
    {
      "cell_type": "markdown",
      "metadata": {
        "id": "0lxm4FrNv5kM"
      },
      "source": [
        "1. run model & get predictions\n",
        "2. calc loss from predictions & true labels\n",
        "3. calculate gradients\n",
        "4. update gradients\n",
        "\n",
        "In terms of Pseudocode, we get:\n",
        "```python\n",
        "for x,y in dl:\n",
        "    pred = model(x) #run model & get predictions\n",
        "    loss = loss_func(pred, y) #calc loss from predictions & true labels\n",
        "    loss.backward() #calculate gradients\n",
        "    parameters -= parameters.grad * lr #update gradients\n",
        "```"
      ]
    },
    {
      "cell_type": "markdown",
      "metadata": {
        "id": "wygt_DQgMnDQ"
      },
      "source": [
        "![png](gradient_descent.png)"
      ]
    },
    {
      "cell_type": "markdown",
      "metadata": {
        "id": "pOpFVu5Vwbck"
      },
      "source": [
        "### Run Model & Calc Loss"
      ]
    },
    {
      "cell_type": "markdown",
      "metadata": {
        "id": "2BtqeQO_EuBv"
      },
      "source": [
        "We will first reinitialize our parameters."
      ]
    },
    {
      "cell_type": "code",
      "execution_count": null,
      "metadata": {
        "colab": {
          "base_uri": "https://localhost:8080/"
        },
        "id": "6pXn-2kvE1S0",
        "outputId": "309eaacb-500a-4d9f-e9ac-2b65b675d27c"
      },
      "outputs": [
        {
          "data": {
            "text/plain": [
              "(torch.Size([784, 10]), torch.Size([10]))"
            ]
          },
          "execution_count": 38,
          "metadata": {},
          "output_type": "execute_result"
        }
      ],
      "source": [
        "weights = init_params((28*28,10), requires_grad = False) #note: we have turned off requires grad\n",
        "bias = init_params(10, requires_grad = False) #note: we have turned off requires grad\n",
        "weights.shape,  bias.shape"
      ]
    },
    {
      "cell_type": "markdown",
      "metadata": {
        "id": "vPvLFNsbFBPv"
      },
      "source": [
        "We will create a mini-batch of size 4 for testing:\n",
        "\n"
      ]
    },
    {
      "cell_type": "code",
      "execution_count": null,
      "metadata": {
        "colab": {
          "base_uri": "https://localhost:8080/"
        },
        "id": "vaHUsBxYFEsq",
        "outputId": "7003927a-4b34-4566-f8e6-a75123c1f951"
      },
      "outputs": [
        {
          "data": {
            "text/plain": [
              "torch.Size([4, 784])"
            ]
          },
          "execution_count": 39,
          "metadata": {},
          "output_type": "execute_result"
        }
      ],
      "source": [
        "batch = example_data[:4]\n",
        "batch.shape"
      ]
    },
    {
      "cell_type": "markdown",
      "metadata": {
        "id": "jaun-I9tFPZh"
      },
      "source": [
        "We will run this simple minibatch sample through our model and get predictions. Since predictions are probabilities (across 10 output layers) from the softmax layer, we expect the sum of all predictions to equate to 1.0 (100% probability)."
      ]
    },
    {
      "cell_type": "code",
      "execution_count": null,
      "metadata": {
        "colab": {
          "base_uri": "https://localhost:8080/"
        },
        "id": "IbqqazcYFViv",
        "outputId": "09205582-57e2-414f-c78d-ea697b555739"
      },
      "outputs": [
        {
          "name": "stdout",
          "output_type": "stream",
          "text": [
            "preds.shape:torch.Size([4, 10])\n",
            "simple_net -  preds:tensor([6.5931e-01, 1.0749e-29, 2.3680e-19, 5.9656e-41, 1.0338e-38, 1.2225e-03, 3.3947e-01, 3.7747e-12, 1.2969e-30, 2.8681e-08])\n",
            "simple_net -  sum of preds:1.0\n",
            "simple_net -  preds:tensor([8.2832e-09, 2.0217e-19, 2.5385e-23, 1.1825e-23, 1.8589e-10, 4.6610e-17, 4.9582e-01, 3.5712e-23, 5.0418e-01, 2.5376e-24])\n",
            "simple_net -  sum of preds:1.0\n",
            "simple_net -  preds:tensor([7.6778e-01, 3.7658e-03, 1.7342e-10, 4.6965e-13, 2.7946e-34, 7.2466e-12, 2.2846e-01, 2.2359e-07, 7.2267e-22, 4.2496e-19])\n",
            "simple_net -  sum of preds:1.0000001192092896\n",
            "simple_net -  preds:tensor([1.0000e+00, 1.9510e-28, 2.9353e-10, 1.1456e-20, 5.0176e-28, 8.8912e-07, 6.2503e-19, 1.9154e-26, 2.3416e-30, 4.6136e-22])\n",
            "simple_net -  sum of preds:1.0\n"
          ]
        }
      ],
      "source": [
        "preds = simple_net(batch)\n",
        "print(\"preds.shape:{}\".format(preds.shape))\n",
        "for i in preds:\n",
        "  with torch.no_grad():\n",
        "    print(\"simple_net -  preds:{}\".format(i))\n",
        "    print(\"simple_net -  sum of preds:{}\".format(i.sum())) #sum of preds should be 1.0"
      ]
    },
    {
      "cell_type": "markdown",
      "metadata": {
        "id": "xj_S-DylGF44"
      },
      "source": [
        "Looking at the results, we have 4 rows of 10 probabilities for with the model's prediction in terms of probability for each of the 10 classes. Note with the help of Pytorch's broadcasting, we dont have to reshape the simple_net model.\n",
        "\n",
        "Next, we will calculate the cross entrophy loss to see how well our model is performing with respect to the true classes."
      ]
    },
    {
      "cell_type": "code",
      "execution_count": null,
      "metadata": {
        "colab": {
          "base_uri": "https://localhost:8080/"
        },
        "id": "htZpg2hjGDIn",
        "outputId": "5ef92248-5460-43db-9011-83887eedee50"
      },
      "outputs": [
        {
          "data": {
            "text/plain": [
              "tensor(92.1034)"
            ]
          },
          "execution_count": 41,
          "metadata": {},
          "output_type": "execute_result"
        }
      ],
      "source": [
        "loss = cross_entropy_loss(example_targets[0:4], preds)\n",
        "loss"
      ]
    },
    {
      "cell_type": "markdown",
      "metadata": {
        "id": "6_rfMdD6wmIw"
      },
      "source": [
        "### Calculate Gradients\n",
        "- Calculus helps us to calculate whether our loss will go up or down when we adjust our parameters up or down.\n",
        "- From Calculus basics, derivative of a function tells us how much change in its parameters will change its result."
      ]
    },
    {
      "cell_type": "markdown",
      "metadata": {
        "id": "SoDH-2Wn1DPG"
      },
      "source": [
        "Before we can calcuate the derivative of a function, we need to represent our model using a **computation graph**. Computation graph is a visual representation of mathematical operations and their dependencies. It helps us describe the flow of data and operations in a mathematical model. Computation graph will help us calculate the gradients."
      ]
    },
    {
      "cell_type": "markdown",
      "metadata": {
        "id": "uBx8G_KL2H1j"
      },
      "source": [
        "**Computation Graph:**"
      ]
    },
    {
      "cell_type": "markdown",
      "metadata": {
        "id": "OrD1B5_U-sVT"
      },
      "source": [
        "![png](computation_graph.png)"
      ]
    },
    {
      "cell_type": "markdown",
      "metadata": {
        "id": "4J5kBbXfAFPw"
      },
      "source": [
        "As we can see computation graph is similar to the model architecture but tries to detail out every mathematical function."
      ]
    },
    {
      "cell_type": "markdown",
      "metadata": {
        "id": "HVt-5KQ9Aeyn"
      },
      "source": [
        "**Calculate Derivatives:**"
      ]
    },
    {
      "cell_type": "markdown",
      "metadata": {
        "id": "r7qZy0aLBDCb"
      },
      "source": [
        "Now that we have the computation graph, our intent is to calculate the derivative of the Loss with respect to the parameters (weights & biases). i.e., $$\\frac{dL}{dW}$$ & $$\\frac{dL}{db}$$. Calculating these values in one go will be an extremely difficult thing to do. This is why computation graph is helpful: we can walk back from loss and calculate the gradient at each mathematical operation."
      ]
    },
    {
      "cell_type": "markdown",
      "metadata": {
        "id": "bZieWpALDOI-"
      },
      "source": [
        "![png](computation_graph_derivative.png)"
      ]
    },
    {
      "cell_type": "markdown",
      "metadata": {
        "id": "JDXyIz50DhJl"
      },
      "source": [
        "As shown in the image below, we can start from the end. We have the loss value result.\n",
        "- Using the loss value result, and knowing the derivative of the cross-entropy loss & Softmax function, we calculate $$dL/dz$$ as follows:\n",
        "$$dL/dz = s-y$$\n",
        "- With the result of $$dL/dz$$, we can calculate the derivative of the loss with respect to bias $$dz/db = 1$$ and weights $$dz/db = x$$.\n",
        "- Finally with calculus's chain rule, we can calculate the gradients by putting together the above:\n",
        "$$\\frac{dL}{dW} = \\frac{dL}{dz}.\\frac{dz}{dW} $$.\n",
        "Similarly,\n",
        "$$\\frac{dL}{db} = \\frac{dL}{ds}.\\frac{ds}{dz}.\\frac{dz}{db} $$\n",
        "Once we know the gradients of Loss with respect to the parameters: bias and weights, we can update the parameters with these calculated gradients in order to reduce the loss during the next epoch. You might ask how we arrived at these equations:\n",
        "\n",
        "NOTE: We treat the softmax & cross entropy as one layer and calculate the gradients for this combined unit. This is for numerical stability as the softmax & log operations involved in cross-entropy can produce extremely small or large numbers, which may result in numeric overflow or underflow. This is why we avoid calculating dL/ds and rather directly calculate dL/dz\n",
        "[This article](https://towardsdatascience.com/derivative-of-the-softmax-function-and-the-categorical-cross-entropy-loss-ffceefc081d1) is an excellent resource that dives into the mathematical details of how the gradients are calculated for softmax and cross entropy layer.\n",
        "\n",
        "\n"
      ]
    },
    {
      "cell_type": "markdown",
      "metadata": {
        "id": "QqX25L7aMVpP"
      },
      "source": [
        "**Code Implementation:**"
      ]
    },
    {
      "cell_type": "markdown",
      "metadata": {
        "id": "MHfBmyHxLkdF"
      },
      "source": [
        "Implementing this is easier said than done. One thing to remember is the size of the gradients would match the size of the actual activations. For instance, if the output of softmax is of shape 64x10, then the derivative at the end of softmax should also be 64x10. (A gradient value for every input). As long as we follow, the same shape when deriving derivatives, we are in safe place."
      ]
    },
    {
      "cell_type": "markdown",
      "metadata": {
        "id": "_zJ7--nKGib0"
      },
      "source": [
        "We will start with initializing variables for holding the gradients for weights and bias."
      ]
    },
    {
      "cell_type": "code",
      "execution_count": null,
      "metadata": {
        "id": "ntTbfKTaMT8T"
      },
      "outputs": [],
      "source": [
        "def init_grads(size):\n",
        "    \"\"\"\n",
        "    Initialize model gradients with zero values.\n",
        "\n",
        "    Args:\n",
        "    - size (tuple): The size or shape of the parameter tensor.\n",
        "\n",
        "    Returns:\n",
        "    - params (tensor): A tensor containing randomly initialized values for model parameters.\n",
        "    \"\"\"\n",
        "    # Generate zeros of required size\n",
        "    grads = torch.zeros(size)\n",
        "\n",
        "    return grads"
      ]
    },
    {
      "cell_type": "code",
      "execution_count": null,
      "metadata": {
        "colab": {
          "base_uri": "https://localhost:8080/"
        },
        "id": "wZhhLeqlIL1g",
        "outputId": "453bb242-68c3-4c9e-eddc-7429b125d430"
      },
      "outputs": [
        {
          "name": "stdout",
          "output_type": "stream",
          "text": [
            "grad_weights.shape:torch.Size([784, 10])\n",
            "grad_bias.shape:torch.Size([10])\n"
          ]
        }
      ],
      "source": [
        "grad_weights = init_grads((28*28,10))\n",
        "grad_bias = init_grads(10)\n",
        "print(\"grad_weights.shape:{}\".format(grad_weights.shape))\n",
        "print(\"grad_bias.shape:{}\".format(grad_bias.shape))"
      ]
    },
    {
      "cell_type": "code",
      "execution_count": null,
      "metadata": {
        "id": "_2r1WYDCJXF1"
      },
      "outputs": [],
      "source": [
        "def manual_backward(s, y, batch):\n",
        "  \"\"\"\n",
        "    Calculate model gradients. (similar to loss.backward in Pytorch but done manually)\n",
        "\n",
        "    Args:\n",
        "    - s (N,10): probability predictions from softmax layer\n",
        "    - y (N): true labels\n",
        "\n",
        "    Returns:\n",
        "    - None\n",
        "    \"\"\"\n",
        "  with torch.no_grad(): #we do not want to pytorch to calc gradients since we are manually doing it\n",
        "    # =========== 1) calc b2 gradients ===========\n",
        "    #step1: compute dL_ds where L = CE(softmax(Z),y)\n",
        "    #get num of classes\n",
        "    # print(\"s.shape:{}\".format(s.shape))\n",
        "    # print(\"y.shape:{}\".format(y.shape))\n",
        "    num_classes = s.shape[1]\n",
        "    onehot_y = np.eye(num_classes)[y]  # onehot_y = 64 x 10\n",
        "    # print(\"num_classes:{}\".format(num_classes))\n",
        "    # print(\"onehot_y.shape:{}\".format(onehot_y.shape))\n",
        "    # __step1b:subtract s - y (ensure shape of both are (N,10)\n",
        "    # (64,10) (4,10)\n",
        "    dL_dZ = s - onehot_y  # dL_dA = 64 x 10\n",
        "    # print(\"s:{}\".format(s))\n",
        "    # print(\"onehot_y:{}\".format(onehot_y))\n",
        "    # print(\"dL_dZ:{}\".format(dL_dZ))\n",
        "    #step3: calc dL_db [10x1] = dL_dZ[64x10] * ones [64x1]\n",
        "    dZ_db = np.ones((dL_dZ.shape[0],1))\n",
        "    dL_db = np.dot(dL_dZ.T,dZ_db)\n",
        "    #step3: update bias  - divide by batch size N - shape: (10,)\n",
        "    grad_bias = (dL_db/batch.shape[0]).flatten()\n",
        "    # =========== 2) calc W2 gradients ===========\n",
        "    #step1: Compute dZ_dW = X [64x784]\n",
        "    dZ_dW = np.copy(batch)\n",
        "    #step2: find dL_dW = dL_dZ [64x10] * dZ_dW [64x784]\n",
        "    dL_dW = np.dot(dL_dZ.T, dZ_dW).T # [784x10]\n",
        "    # step3: update bias  - divide by batch size N - shape: (10,)\n",
        "    grad_weights= (dL_dW / batch.shape[0])\n",
        "  return torch.from_numpy(grad_weights), torch.from_numpy(grad_bias) #convert to torch before returning\n",
        "\n"
      ]
    },
    {
      "cell_type": "markdown",
      "metadata": {
        "id": "GKw8xFe32h_6"
      },
      "source": [
        "Pytorch uses similar technique to calculate gradients. You can read more about it in this [Pytorch Article](https://pytorch.org/blog/computational-graphs-constructed-in-pytorch/)."
      ]
    },
    {
      "cell_type": "code",
      "execution_count": null,
      "metadata": {
        "colab": {
          "base_uri": "https://localhost:8080/"
        },
        "id": "ljqCF8mUBWwV",
        "outputId": "3ad8b02a-b3e9-45f5-eeb3-5c55fe4156a4"
      },
      "outputs": [
        {
          "name": "stdout",
          "output_type": "stream",
          "text": [
            "grad_weights.shape:torch.Size([784, 10])\n",
            "grad_bias.shape:torch.Size([10])\n"
          ]
        }
      ],
      "source": [
        "grad_weights, grad_bias = manual_backward(preds, example_targets[:4], example_data[:4])\n",
        "#making sure the grad weights and grad bias are of proper shape\n",
        "print(\"grad_weights.shape:{}\".format(grad_weights.shape))\n",
        "print(\"grad_bias.shape:{}\".format(grad_bias.shape))"
      ]
    },
    {
      "cell_type": "markdown",
      "metadata": {
        "id": "dKhVyUmzM1uz"
      },
      "source": [
        "Great! Now that we have the gradients for weights and bias, lets put it all into a function for easy calling."
      ]
    },
    {
      "cell_type": "code",
      "execution_count": null,
      "metadata": {
        "id": "cbeKbkRLM8UP"
      },
      "outputs": [],
      "source": [
        "def calc_grad_manual(xb, yb, model):\n",
        "    preds = model(xb)\n",
        "    loss = cross_entropy_loss(yb, preds)\n",
        "    grad_weights, grad_bias = manual_backward(preds, yb, xb)\n",
        "    return grad_weights, grad_bias"
      ]
    },
    {
      "cell_type": "markdown",
      "metadata": {
        "id": "FGevLD4tN6m7"
      },
      "source": [
        "Now lets test out the function using our small mini batch."
      ]
    },
    {
      "cell_type": "code",
      "execution_count": null,
      "metadata": {
        "colab": {
          "base_uri": "https://localhost:8080/"
        },
        "id": "8c_JozATOCPI",
        "outputId": "e4cd2e0b-d715-48c1-c37f-0757e35b7cc1"
      },
      "outputs": [
        {
          "data": {
            "text/plain": [
              "(tensor(-1.4336e-06, dtype=torch.float64),\n",
              " tensor(7.9055e-08, dtype=torch.float64))"
            ]
          },
          "execution_count": 47,
          "metadata": {},
          "output_type": "execute_result"
        }
      ],
      "source": [
        "grad_weights, grad_bias = calc_grad_manual(batch, example_targets[0:4], simple_net)\n",
        "grad_weights.sum(),grad_bias.sum()"
      ]
    },
    {
      "cell_type": "markdown",
      "metadata": {
        "id": "cZUYSxEDiJNi"
      },
      "source": [
        "### Update parameters"
      ]
    },
    {
      "cell_type": "markdown",
      "metadata": {
        "id": "aNJJ7uv7iLk2"
      },
      "source": [
        "- The last step is to update the weights and biases based on the gradient and learning rate.\n",
        "\n",
        "Lets write up a function to take the learning rate, params and model as input, cycle through the input, calculate gradients for the parameters and then finally update the parameters (and also reset it for the next cycle). All this is considered one epoch (aka iteration). For the next iteration, we repeat this process with updating parameters and even learning rate if we consider any decay."
      ]
    },
    {
      "cell_type": "code",
      "execution_count": null,
      "metadata": {
        "id": "rmwMQklzjANK"
      },
      "outputs": [],
      "source": [
        "def train_epoch_manual(model, lr, weights,bias):\n",
        "    for xb,yb in train_loader:\n",
        "        with torch.no_grad():\n",
        "          grad_weights, grad_bias = calc_grad_manual(xb, yb, model)\n",
        "          weights -= grad_weights*lr  #update weights\n",
        "          bias -= grad_bias*lr #update weights\n",
        "          #no need to resets gradients to zero as they are calc from scratch\n",
        "    return weights,bias #return updated weights and bias so they can be fed as input during next itration"
      ]
    },
    {
      "cell_type": "markdown",
      "metadata": {
        "id": "iBLWEoD9qI7-"
      },
      "source": [
        "## Validation"
      ]
    },
    {
      "cell_type": "markdown",
      "metadata": {
        "id": "CdeMFy-1qKsg"
      },
      "source": [
        "During the validation phase, we do not train (update parameters) our model any more. We will evaluate the model to see how well it is doing. Remember, we have validation data as well from MNIST. We will evaluate our model with the validation data. The model will use its trained parameters which are frozen during this validation phase."
      ]
    },
    {
      "cell_type": "markdown",
      "metadata": {
        "id": "Uq8CHhdakDQj"
      },
      "source": [
        "### Compute Accuracy"
      ]
    },
    {
      "cell_type": "markdown",
      "metadata": {
        "id": "_j6h4PxEkGEP"
      },
      "source": [
        "Although we have loss, it is only used to calculate the gradients. We need a metric for us, humans to decide how good our model is doing with respect to the original task - classifying MNIST images as numbers. We can use a simple accuracy metric - determine how many correct predictions among all the predictions."
      ]
    },
    {
      "cell_type": "code",
      "execution_count": 17,
      "metadata": {
        "id": "vV_HycaqmpOf"
      },
      "outputs": [],
      "source": [
        " def compute_accuracy(x_pred, y):\n",
        "  \"\"\"\n",
        "  Compute the accuracy of current batch\n",
        "  :param x_pred: Probabilities from the model (N, num_classes)\n",
        "  :param y: Labels of instances in the batch\n",
        "  :return: The accuracy of the batch\n",
        "  \"\"\"\n",
        "  acc = None\n",
        "  predictions = torch.argmax(x_pred, axis=1)\n",
        "  acc = torch.sum(torch.eq(y, predictions)) / len(predictions)\n",
        "  return acc\n"
      ]
    },
    {
      "cell_type": "markdown",
      "metadata": {
        "id": "SNzk5eGim_2G"
      },
      "source": [
        "We can quickly check our metric function with our earlier 4 sample images minibatch."
      ]
    },
    {
      "cell_type": "code",
      "execution_count": null,
      "metadata": {
        "colab": {
          "base_uri": "https://localhost:8080/"
        },
        "id": "xq2PWig_nOGG",
        "outputId": "cf263cd0-0131-4043-b789-8cabb3997ef0"
      },
      "outputs": [
        {
          "data": {
            "text/plain": [
              "tensor(0.)"
            ]
          },
          "execution_count": 50,
          "metadata": {},
          "output_type": "execute_result"
        }
      ],
      "source": [
        "compute_accuracy(preds, example_targets[0:4])"
      ]
    },
    {
      "cell_type": "markdown",
      "metadata": {
        "id": "rqYQ2Gsdp_7_"
      },
      "source": [
        "### Validation Function\n",
        "\n",
        "For the validation function, we want to run the validation data through our trained model, get those predictions and compute the accuracy metric to decide how well our model is doing. We can write a function for that:"
      ]
    },
    {
      "cell_type": "code",
      "execution_count": 15,
      "metadata": {
        "id": "5TmKnbTsuemn"
      },
      "outputs": [],
      "source": [
        "def validate_epoch(model):\n",
        "    accs = [compute_accuracy(model(xb), yb) for xb,yb in test_loader] #notice how we have used \"test_loader\" to load validation data instead of train loader\n",
        "    return round(torch.stack(accs).mean().item(), 4)"
      ]
    },
    {
      "cell_type": "code",
      "execution_count": null,
      "metadata": {
        "colab": {
          "base_uri": "https://localhost:8080/"
        },
        "id": "tcIlVxgUu0hx",
        "outputId": "5fc129b7-de61-43cd-cb66-067ed81d6dba"
      },
      "outputs": [
        {
          "data": {
            "text/plain": [
              "0.0785"
            ]
          },
          "execution_count": 51,
          "metadata": {},
          "output_type": "execute_result"
        }
      ],
      "source": [
        "validate_epoch(simple_net)"
      ]
    },
    {
      "cell_type": "markdown",
      "metadata": {
        "id": "sO49MAOqvAKX"
      },
      "source": [
        "This accuracy is our starting point with random values for weights and biases. (we havent trained our model yet). In the next section, we will train our model and repeat validation to see how well our model is doing."
      ]
    },
    {
      "cell_type": "markdown",
      "metadata": {
        "id": "pFg8ny9au8tc"
      },
      "source": [
        "## Training"
      ]
    },
    {
      "cell_type": "markdown",
      "metadata": {
        "id": "ZpMKkvy0wMIU"
      },
      "source": [
        "The parameters `weights` & `bias` are already setup with `requires_grad_()` so, Pytorch will automatically continue calculating gradients for us. Let's train for one epoch, and see if the accuracy improves. One Epoch here means one iteration through the entire MNIST dataset. So this means cycle through all mini batches of train dataset during the train phase and cycle through all mini batches of test dataset during the test phase."
      ]
    },
    {
      "cell_type": "code",
      "execution_count": null,
      "metadata": {
        "colab": {
          "base_uri": "https://localhost:8080/"
        },
        "id": "NMcAYN-Ou-LX",
        "outputId": "5d177da4-5ee7-4911-b7b0-2d4b66a62d12"
      },
      "outputs": [
        {
          "data": {
            "text/plain": [
              "0.8776"
            ]
          },
          "execution_count": 52,
          "metadata": {},
          "output_type": "execute_result"
        }
      ],
      "source": [
        "lr = 1.\n",
        "train_epoch_manual(simple_net, lr, weights,bias)\n",
        "validate_epoch(simple_net)"
      ]
    },
    {
      "cell_type": "markdown",
      "metadata": {
        "id": "qqSNeMWEw-lp"
      },
      "source": [
        "Our accuracy has improved just after one epoch! Now, lets try training for 20 epochs."
      ]
    },
    {
      "cell_type": "code",
      "execution_count": null,
      "metadata": {
        "colab": {
          "base_uri": "https://localhost:8080/"
        },
        "id": "RCucdn7exjyM",
        "outputId": "1dd982d6-ec3b-4505-dd47-a5c7d00dca04"
      },
      "outputs": [
        {
          "name": "stdout",
          "output_type": "stream",
          "text": [
            "0.865 0.7881 0.8779 0.8127 0.852 0.8088 0.8378 0.8521 0.8225 0.865 0.8977 0.8944 0.8738 0.8402 0.886 0.8197 0.8669 0.9133 0.8083 0.7729 "
          ]
        }
      ],
      "source": [
        "for i in range(20):\n",
        "    weights,bias = train_epoch_manual(simple_net, lr, weights,bias)\n",
        "    print(validate_epoch(simple_net), end=' ')"
      ]
    },
    {
      "cell_type": "markdown",
      "metadata": {
        "id": "InLvF4uAxwcU"
      },
      "source": [
        "Excellent! Our training seems to train our model, increasing its accuracy during each epoch. In the next section, lets do the same thing but using Pytorch's auto grad function."
      ]
    },
    {
      "cell_type": "markdown",
      "metadata": {
        "id": "pRgTAVeZTmHG"
      },
      "source": [
        "## Gradient Descent - Using Pytorch"
      ]
    },
    {
      "cell_type": "markdown",
      "metadata": {
        "id": "0EEPgGHpiewx"
      },
      "source": [
        "Before we attempt gradient descent using Pytorch, we will initialize the weights and bias, setup a small batch, run it through our linear model and calculate loss. Unlike last time using manual approach, this time we want Pytorch to calculate the gradients for us. The default value is True so when we call init_params(), our function defaults to require grads."
      ]
    },
    {
      "cell_type": "code",
      "execution_count": null,
      "metadata": {
        "id": "jBCGGEoVimnL"
      },
      "outputs": [],
      "source": [
        "#initialize weights and bias\n",
        "weights = init_params((28*28,10))\n",
        "bias = init_params(10)\n",
        "#setup batch\n",
        "batch = example_data[:4]\n",
        "#predictions\n",
        "preds = simple_net(batch)\n",
        "#calc loss\n",
        "loss = cross_entropy_loss(example_targets[0:4], preds)"
      ]
    },
    {
      "cell_type": "markdown",
      "metadata": {
        "id": "FyI0oE3tTvmY"
      },
      "source": [
        "PyTorch is known for its **automatic differentiation capability**, which allows it to compute derivatives of functions with respect to their inputs. This automatic differentiation feature is incredibly powerful for deep learning because it allows you to define complex neural network architectures and loss functions while PyTorch handles the tedious task of calculating gradients.\n",
        "\n",
        "Now we can calculate the gradients using Pytorch which hugely simplifies things. i.e., we do not need the `manual_backward()` from the previous section since Pytorch does it for us. Here is a quick check."
      ]
    },
    {
      "cell_type": "code",
      "execution_count": null,
      "metadata": {
        "colab": {
          "base_uri": "https://localhost:8080/"
        },
        "id": "4rCBcp76TvmY",
        "outputId": "d84bac67-2af6-4a7e-b1b4-0999a6e67927"
      },
      "outputs": [
        {
          "data": {
            "text/plain": [
              "(torch.Size([784, 10]), tensor(2.4328e-10))"
            ]
          },
          "execution_count": 54,
          "metadata": {},
          "output_type": "execute_result"
        }
      ],
      "source": [
        "loss.backward()\n",
        "weights.grad.shape,weights.grad.mean()"
      ]
    },
    {
      "cell_type": "markdown",
      "metadata": {
        "id": "lFzy1fK8jW23"
      },
      "source": [
        "It still surprises me how this one line of code calculates the entire gradients for weights and biases"
      ]
    },
    {
      "cell_type": "markdown",
      "metadata": {
        "id": "OB4xGlZITvmY"
      },
      "source": [
        "Lets put the entire logic into a function. We get:"
      ]
    },
    {
      "cell_type": "code",
      "execution_count": 11,
      "metadata": {
        "id": "auCSxm4eTvmY"
      },
      "outputs": [],
      "source": [
        "def calc_grad(xb, yb, model):\n",
        "    preds = model(xb)\n",
        "    loss = cross_entropy_loss(yb, preds)\n",
        "    loss.backward() #calc gradients"
      ]
    },
    {
      "cell_type": "markdown",
      "metadata": {
        "id": "g_4ntkiUTvmZ"
      },
      "source": [
        "We can also make sure this function is working fine with our micro minibatch with 4 samples."
      ]
    },
    {
      "cell_type": "code",
      "execution_count": null,
      "metadata": {
        "colab": {
          "base_uri": "https://localhost:8080/"
        },
        "id": "ZlxWgT1MTvmZ",
        "outputId": "a6f36549-98f5-45f6-deba-346e09b95123"
      },
      "outputs": [
        {
          "data": {
            "text/plain": [
              "(tensor(3.8147e-06), tensor(0.))"
            ]
          },
          "execution_count": 56,
          "metadata": {},
          "output_type": "execute_result"
        }
      ],
      "source": [
        "calc_grad(batch, example_targets[0:4], simple_net)\n",
        "weights.grad.sum(),bias.grad.sum()"
      ]
    },
    {
      "cell_type": "markdown",
      "metadata": {
        "id": "ocDviRezTvmZ"
      },
      "source": [
        "NOTE: `loss.backward` actually adds the gradients of loss to any gradients that are currently stored. So, we have to set the current gradients to 0 first.\n",
        "\n",
        "If we do not reset the gradients and try to calculate gradients, those calculated gradients will be added to current gradients. So when updating parameters, it would lead to incorrect updates."
      ]
    },
    {
      "cell_type": "code",
      "execution_count": null,
      "metadata": {
        "id": "4PNoU-a9TvmZ"
      },
      "outputs": [],
      "source": [
        "weights.grad.zero_()\n",
        "bias.grad.zero_();"
      ]
    },
    {
      "cell_type": "markdown",
      "metadata": {
        "id": "MeaIaQjiT8F1"
      },
      "source": [
        "### Update parameters"
      ]
    },
    {
      "cell_type": "markdown",
      "metadata": {
        "id": "ld2TbHDoT8F_"
      },
      "source": [
        "- The last step is to update the weights and biases based on the gradient and learning rate.\n",
        "- When updating the parameters, we have to tell Pytorch to not consider this piece of updating parameters when calculating gradients on the next iteration.\n",
        "- If we assign to the data attribute of a tensor then PyTorch will not take the gradient of that step.\n",
        "\n",
        "Lets write up a function to take the learning rate, params and model as input, cycle through the input, calculate gradients for the parameters and then finally update the parameters (and also reset it for the next cycle). All this is considered one epoch (aka iteration). For the next iteration, we repeat this process with updating parameters and even learning rate if we consider any decay."
      ]
    },
    {
      "cell_type": "code",
      "execution_count": null,
      "metadata": {
        "id": "yPCnxjiWT8GA"
      },
      "outputs": [],
      "source": [
        "def train_epoch(model, lr, params):\n",
        "    for xb,yb in train_loader:\n",
        "        calc_grad(xb, yb, model)\n",
        "        for p in params:\n",
        "            p.data -= p.grad*lr #p.data tells Pytorch to exclude this step during gradient calculation\n",
        "            p.grad.zero_() #resets gradients to zeros"
      ]
    },
    {
      "cell_type": "markdown",
      "metadata": {
        "id": "esvGhDlXjoNx"
      },
      "source": [
        "### Training"
      ]
    },
    {
      "cell_type": "markdown",
      "metadata": {
        "id": "5ISXjkWjFLfe"
      },
      "source": [
        "We can now run the training for 20 epochs and see how it does on the validation data at the end of each epoch. Note how we do not need to pass in or pass out parameters like we did in the manual way as Pytorch does it for us.\n",
        "\n"
      ]
    },
    {
      "cell_type": "code",
      "execution_count": null,
      "metadata": {
        "colab": {
          "base_uri": "https://localhost:8080/"
        },
        "id": "bXz2q3Ecjpgi",
        "outputId": "e4cfedc4-c733-4c6b-aad3-a7db6866a46d"
      },
      "outputs": [
        {
          "name": "stdout",
          "output_type": "stream",
          "text": [
            "0.3074 0.3084 0.3077 0.3092 0.3059 0.3057 0.3091 0.3093 0.3091 0.3076 0.3047 0.3066 0.3077 0.3096 0.3089 0.3088 0.3094 0.3095 0.3091 0.3113 "
          ]
        }
      ],
      "source": [
        "lr = 1.\n",
        "params = weights, bias\n",
        "for i in range(20):\n",
        "    train_epoch(simple_net, lr, params)\n",
        "    print(validate_epoch(simple_net), end=' ')"
      ]
    },
    {
      "cell_type": "markdown",
      "metadata": {
        "id": "5TblX9LSojYe"
      },
      "source": [
        "## Optimizing using Pytorch"
      ]
    },
    {
      "cell_type": "markdown",
      "metadata": {
        "id": "zbDb0YBFqbZI"
      },
      "source": [
        "In this section we will create an Optimizer to optimize the code using Pytorch! (see how I played with words there! :))\n",
        "Well, 'Optimizer' is a Pytorch object that will handle the SGD step for us. We will create a super simple basic optimizer which wil help us to understand how things work in Pytorch. In order to create the Pytorch Optimizer, we first need to rewrite our model using Pytorch.\n"
      ]
    },
    {
      "cell_type": "markdown",
      "metadata": {
        "id": "vg0GIJ80uAGb"
      },
      "source": [
        "### Model in Pytorch\n",
        "\n",
        "Earlier we had used `simple_net()` function to create our model. This model too can be defined in Pytorch which will hugely simplify things for us and help us build more complex models just by describing them and not having to worry about the implementation (as Pytorch will take care of it)."
      ]
    },
    {
      "cell_type": "code",
      "execution_count": 36,
      "metadata": {
        "id": "yedVt_Xrq8fx"
      },
      "outputs": [],
      "source": [
        "# Define your linear model\n",
        "linear_model = nn.Linear(28 * 28, 10)\n",
        "\n",
        "# Create a model that includes the linear layer and softmax layer\n",
        "simple_net_pytorch = nn.Sequential(\n",
        "    linear_model,\n",
        "    nn.Softmax(dim=1)\n",
        ")"
      ]
    },
    {
      "cell_type": "markdown",
      "metadata": {
        "id": "d25-vEKRtHfT"
      },
      "source": [
        "We first define the linear model using nn.Linear. Then, we create a new model called `simple_net_pytorch` using nn.Sequential, which combines the linear layer with a softmax layer. When you pass input data to `simple_net_pytorch`, it will apply the linear transformation and then the softmax activation to produce output probabilities."
      ]
    },
    {
      "cell_type": "code",
      "execution_count": null,
      "metadata": {
        "colab": {
          "base_uri": "https://localhost:8080/"
        },
        "id": "_zufePyysv7T",
        "outputId": "f3429b0d-af90-4eb8-b43c-4c118a2d20ab"
      },
      "outputs": [
        {
          "data": {
            "text/plain": [
              "(torch.Size([10, 784]), torch.Size([10]))"
            ]
          },
          "execution_count": 60,
          "metadata": {},
          "output_type": "execute_result"
        }
      ],
      "source": [
        "w,b = simple_net_pytorch.parameters()\n",
        "w.shape,b.shape"
      ]
    },
    {
      "cell_type": "markdown",
      "metadata": {
        "id": "JI2YVdyvtcu3"
      },
      "source": [
        "Excellent! The shape of our parameters shows that this is exactly the same shape of the parameters used with our manual parameter initialization. Also, notice how we only defined our model while Pytorch took care of the parameters shape and initialization for us. Now that we have the model in Pytorch, the next step is to create a Basic Optimizer."
      ]
    },
    {
      "cell_type": "markdown",
      "metadata": {
        "id": "Jf-ymrEZuOHF"
      },
      "source": [
        "### Optimizer in Pytorch"
      ]
    },
    {
      "cell_type": "markdown",
      "metadata": {
        "id": "bS1xnd53uQvF"
      },
      "source": [
        "Below we define a basic optimizer class called BasicOptim. This class is a simple implementation of an optimizer for updating model parameters during training. It has two main methods, step and zero_grad, which are commonly found in optimizers. The BasicOptim takes two arguments: `params` and `lr`. `params` is a list of model parameters that need to be optimized, and `lr` is the learning rate for the optimizer.\n",
        "\n"
      ]
    },
    {
      "cell_type": "code",
      "execution_count": null,
      "metadata": {
        "id": "BCjr4S4Lu4zy"
      },
      "outputs": [],
      "source": [
        "class BasicOptim:\n",
        "    def __init__(self,params,lr): self.params,self.lr = list(params),lr\n",
        "\n",
        "    def step(self, *args, **kwargs):\n",
        "        for p in self.params: p.data -= p.grad.data * self.lr\n",
        "\n",
        "    def zero_grad(self, *args, **kwargs):\n",
        "        for p in self.params: p.grad = None"
      ]
    },
    {
      "cell_type": "markdown",
      "metadata": {
        "id": "EB-etuJMvGNG"
      },
      "source": [
        "We can already see the how this Basic Optimizer can be used to replace the parameter update step and reset grad steps in the `train_epoch()` we defined earlier."
      ]
    },
    {
      "cell_type": "markdown",
      "metadata": {
        "id": "IOCDQtInug9T"
      },
      "source": [
        "Note that PyTorch provide built-in optimizers (e.g., torch.optim.SGD, torch.optim.Adam) that are highly optimized and often come with additional features, like support for various optimization algorithms, learning rate schedules, and weight decay.\n",
        "\n"
      ]
    },
    {
      "cell_type": "markdown",
      "metadata": {
        "id": "eiflMIxEv6je"
      },
      "source": [
        " We can now initialize the Basic optimizer so that it will update the parameters of your simple_net_pytorch model with the specified learning rate during training."
      ]
    },
    {
      "cell_type": "code",
      "execution_count": null,
      "metadata": {
        "id": "_6JqOeA7vuNK"
      },
      "outputs": [],
      "source": [
        "opt = BasicOptim(simple_net_pytorch.parameters(), lr)"
      ]
    },
    {
      "cell_type": "markdown",
      "metadata": {
        "id": "eTe7rGNxwri6"
      },
      "source": [
        "### Training with Optimizer"
      ]
    },
    {
      "cell_type": "markdown",
      "metadata": {
        "id": "hnFxu22-wPLT"
      },
      "source": [
        "Now that we have our optimizer, our `train_epoch()` can be updated as below."
      ]
    },
    {
      "cell_type": "code",
      "execution_count": null,
      "metadata": {
        "id": "IQX1VEGRwVDC"
      },
      "outputs": [],
      "source": [
        "def train_epoch(model):\n",
        "    for xb,yb in train_loader:\n",
        "        calc_grad(xb, yb, model)\n",
        "        opt.step()\n",
        "        opt.zero_grad()"
      ]
    },
    {
      "cell_type": "markdown",
      "metadata": {
        "id": "y7gHpGXlwxkF"
      },
      "source": [
        "Note there is no change to our validation function. We can simply pass in the new model name `simple_net_pytorch`. Lets check out how our untrained parameters performa with the validation data."
      ]
    },
    {
      "cell_type": "code",
      "execution_count": null,
      "metadata": {
        "colab": {
          "base_uri": "https://localhost:8080/"
        },
        "id": "2SDUqoiuwvqv",
        "outputId": "b5c9bf7a-cf4a-49a0-bbc2-7ce8961eddc7"
      },
      "outputs": [
        {
          "data": {
            "text/plain": [
              "0.0883"
            ]
          },
          "execution_count": 72,
          "metadata": {},
          "output_type": "execute_result"
        }
      ],
      "source": [
        "validate_epoch(simple_net_pytorch)"
      ]
    },
    {
      "cell_type": "markdown",
      "metadata": {
        "id": "475PdgS1xLsV"
      },
      "source": [
        "We can put all this code together in a function called `train_model()` that trains a model for a specified number of epochs and prints validation results after each epoch."
      ]
    },
    {
      "cell_type": "code",
      "execution_count": null,
      "metadata": {
        "id": "hbiS3ZjzxRiy"
      },
      "outputs": [],
      "source": [
        "def train_model(model, epochs):\n",
        "    for i in range(epochs):\n",
        "        train_epoch(model)\n",
        "        print(validate_epoch(model), end=' ')"
      ]
    },
    {
      "cell_type": "code",
      "execution_count": null,
      "metadata": {
        "colab": {
          "background_save": true,
          "base_uri": "https://localhost:8080/"
        },
        "id": "k3eyL_FlxYPf",
        "outputId": "d0bcd3b5-4b11-4520-d4ca-0de47515f94f"
      },
      "outputs": [
        {
          "name": "stdout",
          "output_type": "stream",
          "text": [
            "0.6968 0.7202 0.7344 0.7285 0.7373 0.7441 0.7267 0.7443 0.7383 0.7501 0.7471 0.7525 0.7522 0.7486 0.7462 0.739 0.7401 0.7495 0.7489 0.747 "
          ]
        }
      ],
      "source": [
        "train_model(simple_net_pytorch, 20)"
      ]
    },
    {
      "cell_type": "markdown",
      "metadata": {
        "id": "cWlPN4vgx1_6"
      },
      "source": [
        "Excellent, our model seems to training well with our Pytorch simple net model, and Basic Optimizer code. Next, we will replace our Basic Optimizer with Pytorch's built in SGD optimizer."
      ]
    },
    {
      "cell_type": "markdown",
      "metadata": {
        "id": "Q6AAo_4Vy5a3"
      },
      "source": [
        "### Using Pytorch's SGD Optimizer"
      ]
    },
    {
      "cell_type": "markdown",
      "metadata": {
        "id": "BUPfoXcCo-I5"
      },
      "source": [
        "The initialization of the SGD Optimizer is same as Basic Optimizer.  This optimizer takes care of updating the model's parameters and applying the SGD optimization algorithm.\n",
        "\n",
        "This approach is recommended because PyTorch's built-in optimizers are well-tested and optimized, and they provide various options for fine-tuning your optimization process, such as momentum, weight decay, and learning rate schedules."
      ]
    },
    {
      "cell_type": "code",
      "execution_count": null,
      "metadata": {
        "id": "Nuz-Z7sror13"
      },
      "outputs": [],
      "source": [
        "# Create the SGD optimizer\n",
        "optSGD = torch.optim.SGD(simple_net_pytorch.parameters(), lr=lr)"
      ]
    },
    {
      "cell_type": "markdown",
      "metadata": {
        "id": "HZSQx9GupLUA"
      },
      "source": [
        "We will create a new train_epoch() with the SGD Optim. We are only changing the variable name. The method names as same."
      ]
    },
    {
      "cell_type": "code",
      "execution_count": null,
      "metadata": {
        "id": "xaBzc6s9pWRx"
      },
      "outputs": [],
      "source": [
        "def train_epochSGD(model):\n",
        "    for xb,yb in train_loader:\n",
        "        calc_grad(xb, yb, model)\n",
        "        optSGD.step()\n",
        "        optSGD.zero_grad()"
      ]
    },
    {
      "cell_type": "markdown",
      "metadata": {
        "id": "lmdnzYLrpgck"
      },
      "source": [
        "We will also update the train model function to refer to the SGD train_epoch()."
      ]
    },
    {
      "cell_type": "code",
      "execution_count": null,
      "metadata": {
        "id": "QHdf3DUmpd0z"
      },
      "outputs": [],
      "source": [
        "def train_modelSGD(model, epochs):\n",
        "    for i in range(epochs):\n",
        "        train_epochSGD(model)\n",
        "        print(validate_epoch(model), end=' ')"
      ]
    },
    {
      "cell_type": "code",
      "execution_count": null,
      "metadata": {
        "colab": {
          "base_uri": "https://localhost:8080/"
        },
        "id": "2cdAQI6OpmDZ",
        "outputId": "9c55c732-b6c1-429f-e685-82bd1b517278"
      },
      "outputs": [
        {
          "name": "stdout",
          "output_type": "stream",
          "text": [
            "0.5626 0.5652 0.5647 0.5704 0.571 0.572 0.5754 0.5736 0.5697 0.5753 0.5764 0.5705 0.5782 0.5765 0.5769 0.5728 0.5767 0.5803 0.5761 0.5772 "
          ]
        }
      ],
      "source": [
        "train_modelSGD(simple_net_pytorch, 20)"
      ]
    },
    {
      "cell_type": "markdown",
      "metadata": {
        "id": "ZlnKZza5ovEO"
      },
      "source": [
        "## Increasing Model Complexity"
      ]
    },
    {
      "cell_type": "markdown",
      "metadata": {
        "id": "TH7RUtX_qMMA"
      },
      "source": [
        "So far we have used a super simple model with one linear input layer and Softmax layer for class probabilities. This model is limited in what it can learn. You can see from the previous step that the accuracy of this training gets topped off at 60 to 70\\%."
      ]
    },
    {
      "cell_type": "markdown",
      "metadata": {
        "id": "YI3jEicyrj8m"
      },
      "source": [
        "### Why Linear Models are Constrained?\n",
        "- Linear classifiers are simple models that can only separate data using linear decision boundaries.\n",
        "- They are suitable for relatively simple classification tasks where the underlying patterns in the data can be captured by straight lines or hyperplanes.\n",
        "- However, many real-world problems require more complex models to capture non-linear relationships in the data. Here\n"
      ]
    },
    {
      "cell_type": "markdown",
      "metadata": {
        "id": "gn36USs_r_k0"
      },
      "source": [
        "### How do we increase Model Complexity?\n",
        "We can create a more complex model such as a deep neural networks with non-linear activation functions like ReLU, sigmoid, or tanh between linear networks. These Deep learning models can capture intricate patterns in the data.\n",
        "\n"
      ]
    },
    {
      "cell_type": "markdown",
      "metadata": {
        "id": "QVLGXeRhuJOT"
      },
      "source": [
        "### Non-Linear Activation Function: ReLU"
      ]
    },
    {
      "cell_type": "markdown",
      "metadata": {
        "id": "SUuz1sBnuRZd"
      },
      "source": [
        "- \"ReLU\" stands for \"Rectified Linear Unit.\"\n",
        "- The ReLU activation function is defined as:\n",
        "\n",
        "$$ f(x) = max(0, x) $$\n",
        "\n",
        "- In this formula, \\(x\\) represents the input to the activation function.\n",
        "- If \\(x\\) is greater than or equal to zero, the ReLU function returns \\(x\\).\n",
        "- If \\(x\\) is negative, it returns zero.\n",
        "- This makes it a simple, piecewise linear function with a non-linearity introduced at \\(x = 0\\).\n",
        "- The term \"ReLU\" is used to refer to this specific activation function because it rectifies (i.e., sets to zero) any negative values in the input.\n",
        "- It is one of the most widely used activation functions in deep learning due to its simplicity and effectiveness.\n"
      ]
    },
    {
      "cell_type": "code",
      "execution_count": null,
      "metadata": {
        "colab": {
          "base_uri": "https://localhost:8080/",
          "height": 481
        },
        "id": "VsS-bap-uzya",
        "outputId": "89cb513b-0c31-4ffe-b725-db6bd3b52241"
      },
      "outputs": [
        {
          "data": {
            "image/png": "[encoded data removed]",
            "text/plain": [
              "<Figure size 640x480 with 1 Axes>"
            ]
          },
          "metadata": {},
          "output_type": "display_data"
        }
      ],
      "source": [
        "\n",
        "# Define the range of x values\n",
        "x = np.linspace(-2, 2, 400)\n",
        "\n",
        "# Calculate the corresponding ReLU values\n",
        "relu_values = [F.relu(torch.tensor(val)).numpy() for val in x]\n",
        "\n",
        "# Create the plot\n",
        "plt.plot(x, relu_values, label='ReLU')\n",
        "plt.xlabel('x')\n",
        "plt.ylabel('ReLU(x)')\n",
        "plt.title('ReLU Activation Function')\n",
        "plt.grid()\n",
        "plt.legend()\n",
        "plt.show()\n"
      ]
    },
    {
      "cell_type": "markdown",
      "metadata": {
        "id": "mOp4yquYvnai"
      },
      "source": [
        "### Two Layer Net"
      ]
    },
    {
      "cell_type": "markdown",
      "metadata": {
        "id": "6hr8fLRWvqC5"
      },
      "source": [
        "Lets define a neural network model called `two_layer_net` consists of two linear layers separated by a ReLU activation function and a Softmax activation function. It takes an input vector of size 28*28, applies a linear transformation followed by a ReLU activation, then applies another linear transformation, and finally, applies a Softmax activation to produce class probabilities."
      ]
    },
    {
      "cell_type": "code",
      "execution_count": 3,
      "metadata": {
        "id": "XLmYtjHEwJgC"
      },
      "outputs": [],
      "source": [
        "# Create a model that includes two linear layers with a ReLU inbetween and softmax layer output\n",
        "two_layer_net_pytorch = nn.Sequential(\n",
        "    nn.Linear(28 * 28, 30),\n",
        "    nn.ReLU(),\n",
        "    nn.Linear(30, 10),\n",
        "    nn.Softmax(dim=1)\n",
        ")"
      ]
    },
    {
      "cell_type": "markdown",
      "metadata": {
        "id": "8_beiARQxVNq"
      },
      "source": [
        "### Number of Model Parameters"
      ]
    },
    {
      "cell_type": "markdown",
      "metadata": {
        "id": "bz7u1j0pxXM-"
      },
      "source": [
        "The number of parameters between our simple_net and two_layer_net have gone up too. This also introduces complexity as the model now has to learn weights and biases for a more unknowns.\n",
        "\n",
        "In our Simple Net model, we have two components:\n",
        "\n",
        "1. `nn.Linear(28 * 28, 10)` - This is a linear layer that maps an input of size 28 * 28 to an output of size 10. It has a weight matrix of shape (10, 784) and a bias vector of shape (10). So, the number of parameters in this linear layer is:\n",
        "\n",
        "   - Number of parameters in the weight matrix = 10 (output features) x 784 (input features) = 7,840.\n",
        "   - Number of parameters in the bias vector = 10.\n",
        "\n",
        "   Total parameters in this linear layer = 7,840 (weight matrix) + 10 (bias vector) = 7,850 parameters.\n",
        "\n",
        "2. `nn.Softmax(dim=1)` - The softmax layer doesn't introduce any new parameters. It's simply a mathematical operation applied to the output of the linear layer."
      ]
    },
    {
      "cell_type": "code",
      "source": [
        "w,b = simple_net_pytorch.parameters()\n",
        "w.shape,b.shape"
      ],
      "metadata": {
        "colab": {
          "base_uri": "https://localhost:8080/"
        },
        "id": "bTtr0IP9wUHi",
        "outputId": "51802942-b044-4ec4-df16-4184eebffccc"
      },
      "execution_count": 111,
      "outputs": [
        {
          "output_type": "execute_result",
          "data": {
            "text/plain": [
              "(torch.Size([10, 784]), torch.Size([10]))"
            ]
          },
          "metadata": {},
          "execution_count": 111
        }
      ]
    },
    {
      "cell_type": "markdown",
      "source": [
        "Therefore, the total number of parameters in our `simple_net_pytorch` model is the number of parameters in the linear layer, which is 7,850 parameters."
      ],
      "metadata": {
        "id": "JqcUmadvwWTU"
      }
    },
    {
      "cell_type": "markdown",
      "metadata": {
        "id": "fRtgpibFyRKo"
      },
      "source": [
        "The number of model parameters in our `two_layer_net_pytorch` model, Here's the breakdown:\n",
        "\n",
        "1. **First Linear Layer:**\n",
        "   - Input Features: 28 * 28 = 784\n",
        "   - Output Features: 30\n",
        "   - Number of Parameters (Weights and Biases): (784 input features * 30 output features) + 30 bias terms = 23,550 parameters\n",
        "\n",
        "2. **Second Linear Layer:**\n",
        "   - Input Features: 30\n",
        "   - Output Features: 10\n",
        "   - Number of Parameters (Weights and Biases): (30 input features * 10 output features) + 10 bias terms = 310 parameters\n",
        "\n",
        "3. **Softmax Layer:**\n",
        "   - The Softmax layer does not introduce any additional parameters. It's a normalization operation.\n",
        "\n",
        "Now, we can sum up the parameters from each of the layers to get the total number of model parameters:\n",
        "\n",
        "Total Parameters = 23,550 (First Linear Layer) + 310 (Second Linear Layer) = 23,860 parameters"
      ]
    },
    {
      "cell_type": "code",
      "source": [
        "w1,b1,w2,b2 = two_layer_net_pytorch.parameters()\n",
        "w1.shape,b1.shape,w2.shape,b2.shape"
      ],
      "metadata": {
        "colab": {
          "base_uri": "https://localhost:8080/"
        },
        "id": "yIyKPvd-wMTX",
        "outputId": "125bc612-704c-4d49-acdd-2fea84cd7a71"
      },
      "execution_count": 112,
      "outputs": [
        {
          "output_type": "execute_result",
          "data": {
            "text/plain": [
              "(torch.Size([30, 784]),\n",
              " torch.Size([30]),\n",
              " torch.Size([10, 30]),\n",
              " torch.Size([10]))"
            ]
          },
          "metadata": {},
          "execution_count": 112
        }
      ]
    },
    {
      "cell_type": "markdown",
      "source": [
        "So, our `two_layer_net_pytorch` model has a total of 23,860 parameters. These parameters are used to define the weights and biases that the model learns during training to make predictions. Increasing the number of parameters in a model typically increases its capacity to fit the training data."
      ],
      "metadata": {
        "id": "nsXh6AV3wRZ1"
      }
    },
    {
      "cell_type": "markdown",
      "metadata": {
        "id": "gMyRRw43oz9v"
      },
      "source": [
        "## End-to-End Pytorch Code"
      ]
    },
    {
      "cell_type": "markdown",
      "metadata": {
        "id": "Pq5-90TxyzZY"
      },
      "source": [
        "### Setup DataLoaders"
      ]
    },
    {
      "cell_type": "code",
      "execution_count": 5,
      "metadata": {
        "id": "Nzl4H9ORzGyH"
      },
      "outputs": [],
      "source": [
        "# Define a custom transform function to flatten the tensor\n",
        "def flatten_transform(data):\n",
        "    # Assuming 'data' is a PyTorch tensor of size [batch_size, 28, 28]\n",
        "    # batch_size, height, width = data.size()\n",
        "    return data.view(-1)\n"
      ]
    },
    {
      "cell_type": "code",
      "execution_count": 6,
      "metadata": {
        "id": "tXxJXyF5zEGK"
      },
      "outputs": [],
      "source": [
        "batch_size_train = 64\n",
        "batch_size_test = 64\n",
        "train_loader = torch.utils.data.DataLoader(\n",
        "  torchvision.datasets.MNIST('/files/', train=True, download=True,\n",
        "                             transform=torchvision.transforms.Compose([\n",
        "                               torchvision.transforms.ToTensor(),\n",
        "                               torchvision.transforms.Normalize(\n",
        "                                 (0.1307,), (0.3081,)),\n",
        "                               flatten_transform\n",
        "                             ])),\n",
        "  batch_size=batch_size_train, shuffle=True)\n",
        "\n",
        "test_loader = torch.utils.data.DataLoader(\n",
        "  torchvision.datasets.MNIST('/files/', train=False, download=True,\n",
        "                             transform=torchvision.transforms.Compose([\n",
        "                               torchvision.transforms.ToTensor(),\n",
        "                               torchvision.transforms.Normalize(\n",
        "                                 (0.1307,), (0.3081,)),\n",
        "                               flatten_transform\n",
        "                             ])),\n",
        "  batch_size=batch_size_test, shuffle=True)"
      ]
    },
    {
      "cell_type": "markdown",
      "metadata": {
        "id": "DIpPHvLaza95"
      },
      "source": [
        "### Setup Model"
      ]
    },
    {
      "cell_type": "code",
      "execution_count": 7,
      "metadata": {
        "id": "x7P0jpojzdlm"
      },
      "outputs": [],
      "source": [
        "# Create a model that includes two linear layers with a ReLU inbetween and softmax layer output\n",
        "two_layer_net_pytorch = nn.Sequential(\n",
        "    nn.Linear(28 * 28, 30),\n",
        "    nn.ReLU(),\n",
        "    nn.Linear(30, 10),\n",
        "    nn.Softmax(dim=1)\n",
        ")"
      ]
    },
    {
      "cell_type": "markdown",
      "metadata": {
        "id": "ODu9ld3gzpSU"
      },
      "source": [
        "### Setup Optimizer"
      ]
    },
    {
      "cell_type": "code",
      "execution_count": 8,
      "metadata": {
        "id": "rlB2AJCczryU"
      },
      "outputs": [],
      "source": [
        "# Create the SGD optimizer\n",
        "lr= 0.001\n",
        "optSGD = torch.optim.SGD(two_layer_net_pytorch.parameters(), lr=lr)"
      ]
    },
    {
      "cell_type": "markdown",
      "source": [
        "### Setup Loss Function"
      ],
      "metadata": {
        "id": "PVpfQ6jM04by"
      }
    },
    {
      "cell_type": "code",
      "source": [
        "def cross_entropy_loss(y_true, y_pred, num_classes = 10):\n",
        "    \"\"\"\n",
        "    Compute the Categorical Cross-Entropy Loss for a single example.\n",
        "\n",
        "    Args:\n",
        "    - y_true: True label for classes.\n",
        "    - y_pred: Predicted probability distribution for classes.\n",
        "\n",
        "    Returns:\n",
        "    - loss: Categorical Cross-Entropy Loss for the example.\n",
        "    \"\"\"\n",
        "    # Convert y_true label to one hot encoded label\n",
        "    onehot_y = torch.eye(num_classes)[y_true]\n",
        "\n",
        "    # Ensure that onehot_y and y_pred have the same shape\n",
        "    assert onehot_y.shape == y_pred.shape, \"Shapes of y_true and y_pred must match.\"\n",
        "\n",
        "    # Compute the loss using the formula\n",
        "    # Apply the log-sum-exp trick to the computation of the logarithm\n",
        "    # This helps in preventing overflow or underflow when dealing with large or small probabilities\n",
        "    loss = -torch.sum(onehot_y * torch.log(torch.clamp(y_pred, 1e-10, 1.0)))\n",
        "\n",
        "    return loss"
      ],
      "metadata": {
        "id": "adpsapUe0_Ad"
      },
      "execution_count": 9,
      "outputs": []
    },
    {
      "cell_type": "markdown",
      "source": [
        "### Setup Validation Functions"
      ],
      "metadata": {
        "id": "EcES8Huhuhdw"
      }
    },
    {
      "cell_type": "code",
      "source": [
        " def compute_accuracy(x_pred, y):\n",
        "  \"\"\"\n",
        "  Compute the accuracy of current batch\n",
        "  :param x_pred: Probabilities from the model (N, num_classes)\n",
        "  :param y: Labels of instances in the batch\n",
        "  :return: The accuracy of the batch\n",
        "  \"\"\"\n",
        "  acc = None\n",
        "  predictions = torch.argmax(x_pred, axis=1)\n",
        "  acc = torch.sum(torch.eq(y, predictions)) / len(predictions)\n",
        "  return acc\n"
      ],
      "metadata": {
        "id": "VASCQH1pseXy"
      },
      "execution_count": 10,
      "outputs": []
    },
    {
      "cell_type": "code",
      "source": [
        "def validate_epoch(model):\n",
        "  accs = [compute_accuracy(model(xb), yb) for xb,yb in test_loader] #notice how we have used \"test_loader\" to load validation data instead of train loader\n",
        "  return round(torch.stack(accs).mean().item(), 4)"
      ],
      "metadata": {
        "id": "l7ZttvPznbdc"
      },
      "execution_count": 11,
      "outputs": []
    },
    {
      "cell_type": "markdown",
      "metadata": {
        "id": "BhCwPhTT0u7o"
      },
      "source": [
        "### Setup Training Loops"
      ]
    },
    {
      "cell_type": "code",
      "source": [
        "running_loss_array = [] # for plotting"
      ],
      "metadata": {
        "id": "NPuhCzam-Q9I"
      },
      "execution_count": 12,
      "outputs": []
    },
    {
      "cell_type": "code",
      "execution_count": 13,
      "metadata": {
        "id": "-Sq5Ksw305Hq"
      },
      "outputs": [],
      "source": [
        "def train_modelSGD(model, epochs):\n",
        "    for epoch in range(epochs):\n",
        "      #reset running loss term at the start of each epoch\n",
        "      running_loss = 0.0\n",
        "      # Inside each training epoch\n",
        "      for xb,yb in train_loader:\n",
        "        # Forward pass: compute the predictions\n",
        "        preds = model(xb)\n",
        "        # Compute the loss\n",
        "        loss = cross_entropy_loss(yb, preds)\n",
        "        # Backpropagation: compute gradients\n",
        "        loss.backward()\n",
        "        # Update model parameters using the optimizer\n",
        "        optSGD.step()\n",
        "        # Zero out gradients for the next iteration\n",
        "        optSGD.zero_grad()\n",
        "        #update running loss\n",
        "        running_loss += loss.item()\n",
        "        # Validate model with test data\n",
        "      print(f\"Epoch {epoch+1}, Loss: {running_loss / len(train_loader)}\")\n",
        "      running_loss_array.append(running_loss / len(train_loader))\n",
        "    print(\"Training finished\")"
      ]
    },
    {
      "cell_type": "markdown",
      "source": [
        "Note:  \n",
        "Instead of our custom cross entropy function, you could also use Pytorch's builtin CrossEntropy() by replacing with this line `loss = nn.CrossEntropyLoss()(preds, yb)`. The loss numbers might be a bit different due to our clipping implementation. Otherwise it should work the same."
      ],
      "metadata": {
        "id": "4sJbQVtHA8_F"
      }
    },
    {
      "cell_type": "markdown",
      "source": [
        "### Validate Untrained Model"
      ],
      "metadata": {
        "id": "mfj-WMquBvij"
      }
    },
    {
      "cell_type": "code",
      "source": [
        "validate_epoch(two_layer_net_pytorch)"
      ],
      "metadata": {
        "colab": {
          "base_uri": "https://localhost:8080/"
        },
        "id": "GFCH64LEBz7E",
        "outputId": "19715cb5-3936-4d7b-8a7e-0b679d34108c"
      },
      "execution_count": 14,
      "outputs": [
        {
          "output_type": "execute_result",
          "data": {
            "text/plain": [
              "0.1002"
            ]
          },
          "metadata": {},
          "execution_count": 14
        }
      ]
    },
    {
      "cell_type": "markdown",
      "metadata": {
        "id": "QgXCG3ao08ly"
      },
      "source": [
        "### Train Model"
      ]
    },
    {
      "cell_type": "code",
      "execution_count": 15,
      "metadata": {
        "colab": {
          "base_uri": "https://localhost:8080/"
        },
        "id": "lnU0GSZB0-EI",
        "outputId": "b82212e6-9788-4644-c199-80320f9719ba"
      },
      "outputs": [
        {
          "output_type": "stream",
          "name": "stdout",
          "text": [
            "Epoch 1, Loss: 21.64170510809559\n",
            "Epoch 2, Loss: 12.012829680940998\n",
            "Epoch 3, Loss: 9.28272529616793\n",
            "Epoch 4, Loss: 7.771995860503426\n",
            "Epoch 5, Loss: 6.813918805198629\n",
            "Epoch 6, Loss: 6.1480219960848155\n",
            "Epoch 7, Loss: 5.5584299946898845\n",
            "Epoch 8, Loss: 5.223822747244001\n",
            "Epoch 9, Loss: 4.834864173711998\n",
            "Epoch 10, Loss: 4.5417323889318055\n",
            "Epoch 11, Loss: 4.348731679829961\n",
            "Epoch 12, Loss: 4.027827564062975\n",
            "Epoch 13, Loss: 3.8369525568222187\n",
            "Epoch 14, Loss: 3.672533843833119\n",
            "Epoch 15, Loss: 3.4955074800245924\n",
            "Epoch 16, Loss: 3.364580295392191\n",
            "Epoch 17, Loss: 3.1875008494297323\n",
            "Epoch 18, Loss: 3.051080211345702\n",
            "Epoch 19, Loss: 2.900613680180075\n",
            "Epoch 20, Loss: 2.789949094840903\n",
            "Epoch 21, Loss: 2.678583399398622\n",
            "Epoch 22, Loss: 2.524789593232148\n",
            "Epoch 23, Loss: 2.4927152235751975\n",
            "Epoch 24, Loss: 2.3354366941095543\n",
            "Epoch 25, Loss: 2.2465149307413013\n",
            "Epoch 26, Loss: 2.196204055855269\n",
            "Epoch 27, Loss: 2.1166796047232554\n",
            "Epoch 28, Loss: 1.9974658906753702\n",
            "Epoch 29, Loss: 1.8981787455377421\n",
            "Epoch 30, Loss: 1.8687470412251157\n",
            "Epoch 31, Loss: 1.7183933960698814\n",
            "Epoch 32, Loss: 1.7198061869739851\n",
            "Epoch 33, Loss: 1.6514168239550104\n",
            "Epoch 34, Loss: 1.5461196306723552\n",
            "Epoch 35, Loss: 1.496226408560552\n",
            "Epoch 36, Loss: 1.461776315163114\n",
            "Epoch 37, Loss: 1.370120554558758\n",
            "Epoch 38, Loss: 1.3613034767716297\n",
            "Epoch 39, Loss: 1.267372168176599\n",
            "Epoch 40, Loss: 1.2393794075480655\n",
            "Training finished\n"
          ]
        }
      ],
      "source": [
        "train_modelSGD(two_layer_net_pytorch, 40)"
      ]
    },
    {
      "cell_type": "markdown",
      "source": [
        "### Plot Train Loss Curve"
      ],
      "metadata": {
        "id": "dqjlSzagBlXa"
      }
    },
    {
      "cell_type": "code",
      "source": [
        "def plot_loss(loss_array, title=\"Loss Curve\", xlabel=\"Epoch\", ylabel=\"Loss\"):\n",
        "    \"\"\"\n",
        "    Plot a loss curve from an array of loss values.\n",
        "\n",
        "    Args:\n",
        "    - loss_array (list): List of loss values to be plotted.\n",
        "    - title (str): Title of the plot.\n",
        "    - xlabel (str): Label for the x-axis.\n",
        "    - ylabel (str): Label for the y-axis.\n",
        "    \"\"\"\n",
        "    plt.figure(figsize=(8, 6))\n",
        "    plt.plot(loss_array, label=\"Loss\")\n",
        "    plt.title(title)\n",
        "    plt.xlabel(xlabel)\n",
        "    plt.ylabel(ylabel)\n",
        "    plt.legend()\n",
        "    plt.grid(True)\n",
        "    plt.show()"
      ],
      "metadata": {
        "id": "7sNB4GZ6Bdt3"
      },
      "execution_count": 16,
      "outputs": []
    },
    {
      "cell_type": "code",
      "source": [
        "plot_loss(running_loss_array, title=\"Training Loss\", xlabel=\"Epoch\", ylabel=\"Loss\")"
      ],
      "metadata": {
        "colab": {
          "base_uri": "https://localhost:8080/",
          "height": 564
        },
        "id": "B-PJPFh_BikG",
        "outputId": "f0068e83-c125-43ce-a94c-6632f32e245c"
      },
      "execution_count": 106,
      "outputs": [
        {
          "output_type": "display_data",
          "data": {
            "text/plain": [
              "<Figure size 800x600 with 1 Axes>"
            ],
            "image/png": "[encoded data removed]"
          },
          "metadata": {}
        }
      ]
    },
    {
      "cell_type": "markdown",
      "metadata": {
        "id": "KHV3Ycsf1CcQ"
      },
      "source": [
        "### Validate Model"
      ]
    },
    {
      "cell_type": "code",
      "execution_count": 17,
      "metadata": {
        "id": "VI3DSubj1O1t",
        "colab": {
          "base_uri": "https://localhost:8080/"
        },
        "outputId": "a8fde83a-ca24-4777-dac6-05ae18b4b845"
      },
      "outputs": [
        {
          "output_type": "execute_result",
          "data": {
            "text/plain": [
              "0.9674"
            ]
          },
          "metadata": {},
          "execution_count": 17
        }
      ],
      "source": [
        "validate_epoch(two_layer_net_pytorch)"
      ]
    },
    {
      "cell_type": "markdown",
      "source": [
        "Excellent! We have achieved a good accuracy on our trained model indicating our implementation is working well! We will run some more tests to see if the model is really working."
      ],
      "metadata": {
        "id": "xSFuZJq5B2yk"
      }
    },
    {
      "cell_type": "code",
      "source": [
        "# Make predictions on the test data\n",
        "predictions = []\n",
        "true_labels = []\n",
        "\n",
        "with torch.no_grad():\n",
        "  outputs = two_layer_net_pytorch(example_data[5:10])\n",
        "  # find the maximum value and its corresponding index along the second dimension - ignore the max value '_'\n",
        "  _, predicted = torch.max(outputs, 1)\n",
        "  predictions.extend(predicted)\n",
        "  true_labels.extend(example_targets[5:10])\n",
        "\n",
        "# Interpret the predictions\n",
        "for i in range(len(predictions)):\n",
        "    print(f\"Prediction: {predictions[i]}, True Label: {true_labels[i]}\")"
      ],
      "metadata": {
        "colab": {
          "base_uri": "https://localhost:8080/"
        },
        "id": "xs7leA3BSgTW",
        "outputId": "a98c9e38-971e-4791-a08c-958fb824b3a5"
      },
      "execution_count": 29,
      "outputs": [
        {
          "output_type": "stream",
          "name": "stdout",
          "text": [
            "Prediction: 4, True Label: 4\n",
            "Prediction: 6, True Label: 6\n",
            "Prediction: 4, True Label: 4\n",
            "Prediction: 0, True Label: 0\n",
            "Prediction: 7, True Label: 7\n"
          ]
        }
      ]
    },
    {
      "cell_type": "markdown",
      "source": [
        "Thats the end of this article. You can access this notebook here. You can check out my other articles as I try to understand ML."
      ],
      "metadata": {
        "id": "McywdFACSrFJ"
      }
    },
    {
      "cell_type": "markdown",
      "metadata": {
        "id": "wb7BQRY9qtW4"
      },
      "source": [
        "## Reference:\n",
        "- https://github.com/fastai/fastbook/blob/master/04_mnist_basics.ipynb\n",
        "- https://nextjournal.com/gkoehler/pytorch-mnist\n",
        "- https://medium.com/tebs-lab/how-to-classify-mnist-digits-with-different-neural-network-architectures-39c75a0f03e3\n",
        "- https://jaykmody.com/blog/stable-softmax/"
      ]
    }
  ],
  "metadata": {
    "colab": {
      "toc_visible": true,
      "provenance": [],
      "gpuType": "T4"
    },
    "kernelspec": {
      "display_name": "Python 3",
      "name": "python3"
    },
    "language_info": {
      "name": "python"
    },
    "accelerator": "GPU"
  },
  "nbformat": 4,
  "nbformat_minor": 0
}