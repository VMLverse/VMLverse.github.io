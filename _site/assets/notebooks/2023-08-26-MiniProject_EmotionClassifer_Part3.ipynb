{
  "nbformat": 4,
  "nbformat_minor": 0,
  "metadata": {
    "colab": {
      "provenance": [],
      "gpuType": "T4"
    },
    "kernelspec": {
      "name": "python3",
      "display_name": "Python 3"
    },
    "language_info": {
      "name": "python"
    },
    "accelerator": "GPU",
    "widgets": {
      "application/vnd.jupyter.widget-state+json": {
        "afe1bef7ad9c4b86a57c5c5ba60b03e5": {
          "model_module": "@jupyter-widgets/controls",
          "model_name": "FileUploadModel",
          "model_module_version": "1.5.0",
          "state": {
            "_counter": 0,
            "_dom_classes": [],
            "_model_module": "@jupyter-widgets/controls",
            "_model_module_version": "1.5.0",
            "_model_name": "FileUploadModel",
            "_view_count": null,
            "_view_module": "@jupyter-widgets/controls",
            "_view_module_version": "1.5.0",
            "_view_name": "FileUploadView",
            "accept": "",
            "button_style": "",
            "data": [],
            "description": "Upload",
            "description_tooltip": null,
            "disabled": false,
            "error": "",
            "icon": "upload",
            "layout": "IPY_MODEL_472af54ec4e04671b4a86562a8c9d5d3",
            "metadata": [],
            "multiple": false,
            "style": "IPY_MODEL_9548b6bd1a4e4359abd5ef16ab472593"
          }
        },
        "472af54ec4e04671b4a86562a8c9d5d3": {
          "model_module": "@jupyter-widgets/base",
          "model_name": "LayoutModel",
          "model_module_version": "1.2.0",
          "state": {
            "_model_module": "@jupyter-widgets/base",
            "_model_module_version": "1.2.0",
            "_model_name": "LayoutModel",
            "_view_count": null,
            "_view_module": "@jupyter-widgets/base",
            "_view_module_version": "1.2.0",
            "_view_name": "LayoutView",
            "align_content": null,
            "align_items": null,
            "align_self": null,
            "border": null,
            "bottom": null,
            "display": null,
            "flex": null,
            "flex_flow": null,
            "grid_area": null,
            "grid_auto_columns": null,
            "grid_auto_flow": null,
            "grid_auto_rows": null,
            "grid_column": null,
            "grid_gap": null,
            "grid_row": null,
            "grid_template_areas": null,
            "grid_template_columns": null,
            "grid_template_rows": null,
            "height": null,
            "justify_content": null,
            "justify_items": null,
            "left": null,
            "margin": null,
            "max_height": null,
            "max_width": null,
            "min_height": null,
            "min_width": null,
            "object_fit": null,
            "object_position": null,
            "order": null,
            "overflow": null,
            "overflow_x": null,
            "overflow_y": null,
            "padding": null,
            "right": null,
            "top": null,
            "visibility": null,
            "width": null
          }
        },
        "9548b6bd1a4e4359abd5ef16ab472593": {
          "model_module": "@jupyter-widgets/controls",
          "model_name": "ButtonStyleModel",
          "model_module_version": "1.5.0",
          "state": {
            "_model_module": "@jupyter-widgets/controls",
            "_model_module_version": "1.5.0",
            "_model_name": "ButtonStyleModel",
            "_view_count": null,
            "_view_module": "@jupyter-widgets/base",
            "_view_module_version": "1.2.0",
            "_view_name": "StyleView",
            "button_color": null,
            "font_weight": ""
          }
        },
        "35df1c4a0ee9475b9c854011f3befceb": {
          "model_module": "@jupyter-widgets/output",
          "model_name": "OutputModel",
          "model_module_version": "1.0.0",
          "state": {
            "_dom_classes": [],
            "_model_module": "@jupyter-widgets/output",
            "_model_module_version": "1.0.0",
            "_model_name": "OutputModel",
            "_view_count": null,
            "_view_module": "@jupyter-widgets/output",
            "_view_module_version": "1.0.0",
            "_view_name": "OutputView",
            "layout": "IPY_MODEL_c7ab7f3c6db3477c8c6c502623c7041b",
            "msg_id": "",
            "outputs": [
              {
                "output_type": "display_data",
                "data": {
                  "text/plain": "<PIL.Image.Image image mode=RGB size=102x128>",
                  "image/png": "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\n"
                },
                "metadata": {}
              }
            ]
          }
        },
        "c7ab7f3c6db3477c8c6c502623c7041b": {
          "model_module": "@jupyter-widgets/base",
          "model_name": "LayoutModel",
          "model_module_version": "1.2.0",
          "state": {
            "_model_module": "@jupyter-widgets/base",
            "_model_module_version": "1.2.0",
            "_model_name": "LayoutModel",
            "_view_count": null,
            "_view_module": "@jupyter-widgets/base",
            "_view_module_version": "1.2.0",
            "_view_name": "LayoutView",
            "align_content": null,
            "align_items": null,
            "align_self": null,
            "border": null,
            "bottom": null,
            "display": null,
            "flex": null,
            "flex_flow": null,
            "grid_area": null,
            "grid_auto_columns": null,
            "grid_auto_flow": null,
            "grid_auto_rows": null,
            "grid_column": null,
            "grid_gap": null,
            "grid_row": null,
            "grid_template_areas": null,
            "grid_template_columns": null,
            "grid_template_rows": null,
            "height": null,
            "justify_content": null,
            "justify_items": null,
            "left": null,
            "margin": null,
            "max_height": null,
            "max_width": null,
            "min_height": null,
            "min_width": null,
            "object_fit": null,
            "object_position": null,
            "order": null,
            "overflow": null,
            "overflow_x": null,
            "overflow_y": null,
            "padding": null,
            "right": null,
            "top": null,
            "visibility": null,
            "width": null
          }
        },
        "7566f6ee07494f06806c68b04d58da24": {
          "model_module": "@jupyter-widgets/controls",
          "model_name": "LabelModel",
          "model_module_version": "1.5.0",
          "state": {
            "_dom_classes": [],
            "_model_module": "@jupyter-widgets/controls",
            "_model_module_version": "1.5.0",
            "_model_name": "LabelModel",
            "_view_count": null,
            "_view_module": "@jupyter-widgets/controls",
            "_view_module_version": "1.5.0",
            "_view_name": "LabelView",
            "description": "",
            "description_tooltip": null,
            "layout": "IPY_MODEL_20cc7c62cb6d4df6941bf65d3a3b71a5",
            "placeholder": "​",
            "style": "IPY_MODEL_e88dacbd79d04af396b3bb52f12818f8",
            "value": "I am 77.28% sure that the image provided is a picture of a angry person"
          }
        },
        "20cc7c62cb6d4df6941bf65d3a3b71a5": {
          "model_module": "@jupyter-widgets/base",
          "model_name": "LayoutModel",
          "model_module_version": "1.2.0",
          "state": {
            "_model_module": "@jupyter-widgets/base",
            "_model_module_version": "1.2.0",
            "_model_name": "LayoutModel",
            "_view_count": null,
            "_view_module": "@jupyter-widgets/base",
            "_view_module_version": "1.2.0",
            "_view_name": "LayoutView",
            "align_content": null,
            "align_items": null,
            "align_self": null,
            "border": null,
            "bottom": null,
            "display": null,
            "flex": null,
            "flex_flow": null,
            "grid_area": null,
            "grid_auto_columns": null,
            "grid_auto_flow": null,
            "grid_auto_rows": null,
            "grid_column": null,
            "grid_gap": null,
            "grid_row": null,
            "grid_template_areas": null,
            "grid_template_columns": null,
            "grid_template_rows": null,
            "height": null,
            "justify_content": null,
            "justify_items": null,
            "left": null,
            "margin": null,
            "max_height": null,
            "max_width": null,
            "min_height": null,
            "min_width": null,
            "object_fit": null,
            "object_position": null,
            "order": null,
            "overflow": null,
            "overflow_x": null,
            "overflow_y": null,
            "padding": null,
            "right": null,
            "top": null,
            "visibility": null,
            "width": null
          }
        },
        "e88dacbd79d04af396b3bb52f12818f8": {
          "model_module": "@jupyter-widgets/controls",
          "model_name": "DescriptionStyleModel",
          "model_module_version": "1.5.0",
          "state": {
            "_model_module": "@jupyter-widgets/controls",
            "_model_module_version": "1.5.0",
            "_model_name": "DescriptionStyleModel",
            "_view_count": null,
            "_view_module": "@jupyter-widgets/base",
            "_view_module_version": "1.2.0",
            "_view_name": "StyleView",
            "description_width": ""
          }
        },
        "0325090f13f2422a9078cccf00cbd97c": {
          "model_module": "@jupyter-widgets/controls",
          "model_name": "ButtonModel",
          "model_module_version": "1.5.0",
          "state": {
            "_dom_classes": [],
            "_model_module": "@jupyter-widgets/controls",
            "_model_module_version": "1.5.0",
            "_model_name": "ButtonModel",
            "_view_count": null,
            "_view_module": "@jupyter-widgets/controls",
            "_view_module_version": "1.5.0",
            "_view_name": "ButtonView",
            "button_style": "",
            "description": "Classify",
            "disabled": false,
            "icon": "",
            "layout": "IPY_MODEL_3591f85fcd48471f83b5dc3b9b034ed7",
            "style": "IPY_MODEL_3a42cf1f88de42a88f7fae214afaa4a6",
            "tooltip": ""
          }
        },
        "3591f85fcd48471f83b5dc3b9b034ed7": {
          "model_module": "@jupyter-widgets/base",
          "model_name": "LayoutModel",
          "model_module_version": "1.2.0",
          "state": {
            "_model_module": "@jupyter-widgets/base",
            "_model_module_version": "1.2.0",
            "_model_name": "LayoutModel",
            "_view_count": null,
            "_view_module": "@jupyter-widgets/base",
            "_view_module_version": "1.2.0",
            "_view_name": "LayoutView",
            "align_content": null,
            "align_items": null,
            "align_self": null,
            "border": null,
            "bottom": null,
            "display": null,
            "flex": null,
            "flex_flow": null,
            "grid_area": null,
            "grid_auto_columns": null,
            "grid_auto_flow": null,
            "grid_auto_rows": null,
            "grid_column": null,
            "grid_gap": null,
            "grid_row": null,
            "grid_template_areas": null,
            "grid_template_columns": null,
            "grid_template_rows": null,
            "height": null,
            "justify_content": null,
            "justify_items": null,
            "left": null,
            "margin": null,
            "max_height": null,
            "max_width": null,
            "min_height": null,
            "min_width": null,
            "object_fit": null,
            "object_position": null,
            "order": null,
            "overflow": null,
            "overflow_x": null,
            "overflow_y": null,
            "padding": null,
            "right": null,
            "top": null,
            "visibility": null,
            "width": null
          }
        },
        "3a42cf1f88de42a88f7fae214afaa4a6": {
          "model_module": "@jupyter-widgets/controls",
          "model_name": "ButtonStyleModel",
          "model_module_version": "1.5.0",
          "state": {
            "_model_module": "@jupyter-widgets/controls",
            "_model_module_version": "1.5.0",
            "_model_name": "ButtonStyleModel",
            "_view_count": null,
            "_view_module": "@jupyter-widgets/base",
            "_view_module_version": "1.2.0",
            "_view_name": "StyleView",
            "button_color": null,
            "font_weight": ""
          }
        },
        "24b67ed59f214af4a484ea79b2c45b12": {
          "model_module": "@jupyter-widgets/controls",
          "model_name": "VBoxModel",
          "model_module_version": "1.5.0",
          "state": {
            "_dom_classes": [],
            "_model_module": "@jupyter-widgets/controls",
            "_model_module_version": "1.5.0",
            "_model_name": "VBoxModel",
            "_view_count": null,
            "_view_module": "@jupyter-widgets/controls",
            "_view_module_version": "1.5.0",
            "_view_name": "VBoxView",
            "box_style": "",
            "children": [
              "IPY_MODEL_9b7dd78cc08c4f1caae12a029df0173e",
              "IPY_MODEL_bb947ddc83f24b15b04c4472f6ef6203",
              "IPY_MODEL_5f8383ddef9641658d55bb71c13b9362",
              "IPY_MODEL_0325090f13f2422a9078cccf00cbd97c",
              "IPY_MODEL_35df1c4a0ee9475b9c854011f3befceb",
              "IPY_MODEL_7566f6ee07494f06806c68b04d58da24"
            ],
            "layout": "IPY_MODEL_142e920f5b6d48558e5018cd6f003a68"
          }
        },
        "9b7dd78cc08c4f1caae12a029df0173e": {
          "model_module": "@jupyter-widgets/controls",
          "model_name": "LabelModel",
          "model_module_version": "1.5.0",
          "state": {
            "_dom_classes": [],
            "_model_module": "@jupyter-widgets/controls",
            "_model_module_version": "1.5.0",
            "_model_name": "LabelModel",
            "_view_count": null,
            "_view_module": "@jupyter-widgets/controls",
            "_view_module_version": "1.5.0",
            "_view_name": "LabelView",
            "description": "",
            "description_tooltip": null,
            "layout": "IPY_MODEL_85d0770fcf3345a08dee52d1dcc1047e",
            "placeholder": "​",
            "style": "IPY_MODEL_19ab7927632342c0ab850c239648ffd2",
            "value": "====Human Emotion Classifer!===="
          }
        },
        "bb947ddc83f24b15b04c4472f6ef6203": {
          "model_module": "@jupyter-widgets/controls",
          "model_name": "LabelModel",
          "model_module_version": "1.5.0",
          "state": {
            "_dom_classes": [],
            "_model_module": "@jupyter-widgets/controls",
            "_model_module_version": "1.5.0",
            "_model_name": "LabelModel",
            "_view_count": null,
            "_view_module": "@jupyter-widgets/controls",
            "_view_module_version": "1.5.0",
            "_view_name": "LabelView",
            "description": "",
            "description_tooltip": null,
            "layout": "IPY_MODEL_7905bc4f9db54fd786c8b5e221fe0f05",
            "placeholder": "​",
            "style": "IPY_MODEL_d395ea1cc6f94f5b8beeb8a10bf4d1f1",
            "value": "Please upload a closeup picture of your face and let me try guessing your emotion"
          }
        },
        "5f8383ddef9641658d55bb71c13b9362": {
          "model_module": "@jupyter-widgets/controls",
          "model_name": "FileUploadModel",
          "model_module_version": "1.5.0",
          "state": {
            "_counter": 5,
            "_dom_classes": [],
            "_model_module": "@jupyter-widgets/controls",
            "_model_module_version": "1.5.0",
            "_model_name": "FileUploadModel",
            "_view_count": null,
            "_view_module": "@jupyter-widgets/controls",
            "_view_module_version": "1.5.0",
            "_view_name": "FileUploadView",
            "accept": "",
            "button_style": "",
            "data": [
              null
            ],
            "description": "Upload",
            "description_tooltip": null,
            "disabled": false,
            "error": "",
            "icon": "upload",
            "layout": "IPY_MODEL_0e200290cc91457e8ce3a3281d68170c",
            "metadata": [
              {
                "name": "3415.webp",
                "type": "image/webp",
                "size": 72198,
                "lastModified": 1692761578147
              }
            ],
            "multiple": false,
            "style": "IPY_MODEL_5ab22288db1e469880ed5ab0418316da"
          }
        },
        "142e920f5b6d48558e5018cd6f003a68": {
          "model_module": "@jupyter-widgets/base",
          "model_name": "LayoutModel",
          "model_module_version": "1.2.0",
          "state": {
            "_model_module": "@jupyter-widgets/base",
            "_model_module_version": "1.2.0",
            "_model_name": "LayoutModel",
            "_view_count": null,
            "_view_module": "@jupyter-widgets/base",
            "_view_module_version": "1.2.0",
            "_view_name": "LayoutView",
            "align_content": null,
            "align_items": null,
            "align_self": null,
            "border": null,
            "bottom": null,
            "display": null,
            "flex": null,
            "flex_flow": null,
            "grid_area": null,
            "grid_auto_columns": null,
            "grid_auto_flow": null,
            "grid_auto_rows": null,
            "grid_column": null,
            "grid_gap": null,
            "grid_row": null,
            "grid_template_areas": null,
            "grid_template_columns": null,
            "grid_template_rows": null,
            "height": null,
            "justify_content": null,
            "justify_items": null,
            "left": null,
            "margin": null,
            "max_height": null,
            "max_width": null,
            "min_height": null,
            "min_width": null,
            "object_fit": null,
            "object_position": null,
            "order": null,
            "overflow": null,
            "overflow_x": null,
            "overflow_y": null,
            "padding": null,
            "right": null,
            "top": null,
            "visibility": null,
            "width": null
          }
        },
        "85d0770fcf3345a08dee52d1dcc1047e": {
          "model_module": "@jupyter-widgets/base",
          "model_name": "LayoutModel",
          "model_module_version": "1.2.0",
          "state": {
            "_model_module": "@jupyter-widgets/base",
            "_model_module_version": "1.2.0",
            "_model_name": "LayoutModel",
            "_view_count": null,
            "_view_module": "@jupyter-widgets/base",
            "_view_module_version": "1.2.0",
            "_view_name": "LayoutView",
            "align_content": null,
            "align_items": null,
            "align_self": null,
            "border": null,
            "bottom": null,
            "display": null,
            "flex": null,
            "flex_flow": null,
            "grid_area": null,
            "grid_auto_columns": null,
            "grid_auto_flow": null,
            "grid_auto_rows": null,
            "grid_column": null,
            "grid_gap": null,
            "grid_row": null,
            "grid_template_areas": null,
            "grid_template_columns": null,
            "grid_template_rows": null,
            "height": null,
            "justify_content": null,
            "justify_items": null,
            "left": null,
            "margin": null,
            "max_height": null,
            "max_width": null,
            "min_height": null,
            "min_width": null,
            "object_fit": null,
            "object_position": null,
            "order": null,
            "overflow": null,
            "overflow_x": null,
            "overflow_y": null,
            "padding": null,
            "right": null,
            "top": null,
            "visibility": null,
            "width": null
          }
        },
        "19ab7927632342c0ab850c239648ffd2": {
          "model_module": "@jupyter-widgets/controls",
          "model_name": "DescriptionStyleModel",
          "model_module_version": "1.5.0",
          "state": {
            "_model_module": "@jupyter-widgets/controls",
            "_model_module_version": "1.5.0",
            "_model_name": "DescriptionStyleModel",
            "_view_count": null,
            "_view_module": "@jupyter-widgets/base",
            "_view_module_version": "1.2.0",
            "_view_name": "StyleView",
            "description_width": ""
          }
        },
        "7905bc4f9db54fd786c8b5e221fe0f05": {
          "model_module": "@jupyter-widgets/base",
          "model_name": "LayoutModel",
          "model_module_version": "1.2.0",
          "state": {
            "_model_module": "@jupyter-widgets/base",
            "_model_module_version": "1.2.0",
            "_model_name": "LayoutModel",
            "_view_count": null,
            "_view_module": "@jupyter-widgets/base",
            "_view_module_version": "1.2.0",
            "_view_name": "LayoutView",
            "align_content": null,
            "align_items": null,
            "align_self": null,
            "border": null,
            "bottom": null,
            "display": null,
            "flex": null,
            "flex_flow": null,
            "grid_area": null,
            "grid_auto_columns": null,
            "grid_auto_flow": null,
            "grid_auto_rows": null,
            "grid_column": null,
            "grid_gap": null,
            "grid_row": null,
            "grid_template_areas": null,
            "grid_template_columns": null,
            "grid_template_rows": null,
            "height": null,
            "justify_content": null,
            "justify_items": null,
            "left": null,
            "margin": null,
            "max_height": null,
            "max_width": null,
            "min_height": null,
            "min_width": null,
            "object_fit": null,
            "object_position": null,
            "order": null,
            "overflow": null,
            "overflow_x": null,
            "overflow_y": null,
            "padding": null,
            "right": null,
            "top": null,
            "visibility": null,
            "width": null
          }
        },
        "d395ea1cc6f94f5b8beeb8a10bf4d1f1": {
          "model_module": "@jupyter-widgets/controls",
          "model_name": "DescriptionStyleModel",
          "model_module_version": "1.5.0",
          "state": {
            "_model_module": "@jupyter-widgets/controls",
            "_model_module_version": "1.5.0",
            "_model_name": "DescriptionStyleModel",
            "_view_count": null,
            "_view_module": "@jupyter-widgets/base",
            "_view_module_version": "1.2.0",
            "_view_name": "StyleView",
            "description_width": ""
          }
        },
        "0e200290cc91457e8ce3a3281d68170c": {
          "model_module": "@jupyter-widgets/base",
          "model_name": "LayoutModel",
          "model_module_version": "1.2.0",
          "state": {
            "_model_module": "@jupyter-widgets/base",
            "_model_module_version": "1.2.0",
            "_model_name": "LayoutModel",
            "_view_count": null,
            "_view_module": "@jupyter-widgets/base",
            "_view_module_version": "1.2.0",
            "_view_name": "LayoutView",
            "align_content": null,
            "align_items": null,
            "align_self": null,
            "border": null,
            "bottom": null,
            "display": null,
            "flex": null,
            "flex_flow": null,
            "grid_area": null,
            "grid_auto_columns": null,
            "grid_auto_flow": null,
            "grid_auto_rows": null,
            "grid_column": null,
            "grid_gap": null,
            "grid_row": null,
            "grid_template_areas": null,
            "grid_template_columns": null,
            "grid_template_rows": null,
            "height": null,
            "justify_content": null,
            "justify_items": null,
            "left": null,
            "margin": null,
            "max_height": null,
            "max_width": null,
            "min_height": null,
            "min_width": null,
            "object_fit": null,
            "object_position": null,
            "order": null,
            "overflow": null,
            "overflow_x": null,
            "overflow_y": null,
            "padding": null,
            "right": null,
            "top": null,
            "visibility": null,
            "width": null
          }
        },
        "5ab22288db1e469880ed5ab0418316da": {
          "model_module": "@jupyter-widgets/controls",
          "model_name": "ButtonStyleModel",
          "model_module_version": "1.5.0",
          "state": {
            "_model_module": "@jupyter-widgets/controls",
            "_model_module_version": "1.5.0",
            "_model_name": "ButtonStyleModel",
            "_view_count": null,
            "_view_module": "@jupyter-widgets/base",
            "_view_module_version": "1.2.0",
            "_view_name": "StyleView",
            "button_color": null,
            "font_weight": ""
          }
        }
      }
    }
  },
  "cells": [
    {
      "cell_type": "markdown",
      "source": [
        "## Introduction\n",
        "\n",
        "In this part 3 of the series on Emotion Classifer miniproject, we are going to see how we can deploy the human emotion classifer to production and make a usuable front end for a customer. This is going to be the basic steps and not a full on production app. The [part1]({% post_url 2023-08-04-MiniProject_EmotionClassifer_Part1 %}) of this mini project series covers the basics of transfer learning while [part2]({% post_url 2023-08-09-MiniProject_EmotionClassifer_Part2 %}) covers augmenting and cleaning data.\n",
        "\n",
        "We will accomplish the deployment of the trained model in three steps. First we will try loading the pickle file and running it locally. Second, we will use Notebook's builtin UI methods to write UI functions to interface between user and the notebook. Lastly, we will look at presenting this UI to the user."
      ],
      "metadata": {
        "id": "tzrl5I952-tW"
      }
    },
    {
      "cell_type": "markdown",
      "source": [
        "**Initial Setup:**\n",
        "\n",
        "We are repeating the required steps from part1 and part2 to setup the imports and functions required for this tutorial. If any of these code doesnt make sense to you, I suggest going back to part1 and part2 to review."
      ],
      "metadata": {
        "id": "EBr6TMS88pG8"
      }
    },
    {
      "cell_type": "code",
      "source": [
        "# `!pip install -Uqq <libraries>` upgrades to the latest version of <libraries>\n",
        "!pip install -Uqq fastai duckduckgo_search"
      ],
      "metadata": {
        "colab": {
          "base_uri": "https://localhost:8080/"
        },
        "id": "Wv7JTP4252NN",
        "outputId": "276bc3e6-68fe-43f0-f655-c934a1b951f0"
      },
      "execution_count": 2,
      "outputs": [
        {
          "output_type": "stream",
          "name": "stdout",
          "text": [
            "\u001b[?25l     \u001b[90m━━━━━━━━━━━━━━━━━━━━━━━━━━━━━━━━━━━━━━━━\u001b[0m \u001b[32m0.0/75.4 kB\u001b[0m \u001b[31m?\u001b[0m eta \u001b[36m-:--:--\u001b[0m\r\u001b[2K     \u001b[90m━━━━━━━━━━━━━━━━━━━━━━━━━━━━━━━━━━━━━━━━\u001b[0m \u001b[32m75.4/75.4 kB\u001b[0m \u001b[31m3.1 MB/s\u001b[0m eta \u001b[36m0:00:00\u001b[0m\n",
            "\u001b[?25h\u001b[?25l     \u001b[90m━━━━━━━━━━━━━━━━━━━━━━━━━━━━━━━━━━━━━━━━\u001b[0m \u001b[32m0.0/74.5 kB\u001b[0m \u001b[31m?\u001b[0m eta \u001b[36m-:--:--\u001b[0m\r\u001b[2K     \u001b[90m━━━━━━━━━━━━━━━━━━━━━━━━━━━━━━━━━━━━━━━━\u001b[0m \u001b[32m74.5/74.5 kB\u001b[0m \u001b[31m9.9 MB/s\u001b[0m eta \u001b[36m0:00:00\u001b[0m\n",
            "\u001b[2K     \u001b[90m━━━━━━━━━━━━━━━━━━━━━━━━━━━━━━━━━━━━━━━━\u001b[0m \u001b[32m57.5/57.5 kB\u001b[0m \u001b[31m7.7 MB/s\u001b[0m eta \u001b[36m0:00:00\u001b[0m\n",
            "\u001b[2K     \u001b[90m━━━━━━━━━━━━━━━━━━━━━━━━━━━━━━━━━━━━━━━━\u001b[0m \u001b[32m2.7/2.7 MB\u001b[0m \u001b[31m45.9 MB/s\u001b[0m eta \u001b[36m0:00:00\u001b[0m\n",
            "\u001b[2K     \u001b[90m━━━━━━━━━━━━━━━━━━━━━━━━━━━━━━━━━━━━━━━━\u001b[0m \u001b[32m58.3/58.3 kB\u001b[0m \u001b[31m6.7 MB/s\u001b[0m eta \u001b[36m0:00:00\u001b[0m\n",
            "\u001b[?25h"
          ]
        }
      ]
    },
    {
      "cell_type": "code",
      "source": [
        "from duckduckgo_search import ddg_images\n",
        "from fastcore.all import *\n"
      ],
      "metadata": {
        "id": "FpNOziY37EJB"
      },
      "execution_count": 3,
      "outputs": []
    },
    {
      "cell_type": "code",
      "source": [
        "#download required classes & packages\n",
        "from duckduckgo_search import ddg_images\n",
        "from fastcore.all import *\n",
        "from fastdownload import download_url\n",
        "from fastai.vision.all import *\n",
        "\n",
        "#create method to search images\n",
        "def search_images(term, max_images=30):\n",
        "    print(f\"Searching for '{term}'\")\n",
        "    return L(ddg_images(term, max_results=max_images)).itemgot('image')\n",
        "\n",
        "#search for image using keyword and download to destination\n",
        "dest = 'happy.jpg'\n",
        "download_url(search_images('smiling person face closeup', max_images=1)[0], dest, show_progress=False)\n",
        "\n",
        "#finally open the image to show what we have\n",
        "im = Image.open(dest)\n",
        "im.to_thumb(256,256)"
      ],
      "metadata": {
        "colab": {
          "base_uri": "https://localhost:8080/",
          "height": 310
        },
        "id": "HHszRNek7WS2",
        "outputId": "a4d3ceb0-8477-474e-c43e-b8942cbe239e"
      },
      "execution_count": 4,
      "outputs": [
        {
          "output_type": "stream",
          "name": "stdout",
          "text": [
            "Searching for 'smiling person face closeup'\n"
          ]
        },
        {
          "output_type": "stream",
          "name": "stderr",
          "text": [
            "/usr/local/lib/python3.10/dist-packages/duckduckgo_search/compat.py:60: UserWarning: ddg_images is deprecated. Use DDGS().images() generator\n",
            "  warnings.warn(\"ddg_images is deprecated. Use DDGS().images() generator\")\n",
            "/usr/local/lib/python3.10/dist-packages/duckduckgo_search/compat.py:64: UserWarning: parameter page is deprecated\n",
            "  warnings.warn(\"parameter page is deprecated\")\n",
            "/usr/local/lib/python3.10/dist-packages/duckduckgo_search/compat.py:66: UserWarning: parameter max_results is deprecated\n",
            "  warnings.warn(\"parameter max_results is deprecated\")\n"
          ]
        },
        {
          "output_type": "execute_result",
          "data": {
            "text/plain": [
              "<PIL.Image.Image image mode=RGB size=256x171>"
            ],
            "image/png": "[encoded data removed]"
          },
          "metadata": {},
          "execution_count": 4
        }
      ]
    },
    {
      "cell_type": "markdown",
      "source": [
        "## STEP1: Loading the pickle file\n",
        "\n",
        "In the previous [part2]({% post_url 2023-08-09-MiniProject_EmotionClassifer_Part2 %}) of this miniproject series, we had exported a pickle file at the last step. The pickle file is a persisted model that contains both the architecture and the trained parameters. The method also saves our definition of Dataloaders. Reason why this is important is we dont have to specify again on how to transform the input data when deploying this pickle file in production.\n",
        "\n",
        "To use a pickle file, all we need to do is load the .pkl file and call the `predict()` on the model for inference. Simple as that!\n",
        "\n",
        "Note: If you donot have a pickle file, please review the [part2]({% post_url 2023-08-09-MiniProject_EmotionClassifer_Part2 %}) of this miniproject."
      ],
      "metadata": {
        "id": "qH2xa_oW4M7G"
      }
    },
    {
      "cell_type": "markdown",
      "source": [
        "Lets setup the basic for searching images using ddg_images. This is the same code as we had used in part1 and part2."
      ],
      "metadata": {
        "id": "gc3zKEwP7ZLH"
      }
    },
    {
      "cell_type": "code",
      "source": [
        "path = Path() #setup current path\n",
        "learn_inf = load_learner(path/'export.pkl')"
      ],
      "metadata": {
        "id": "eb75R9EE5uBU"
      },
      "execution_count": 11,
      "outputs": []
    },
    {
      "cell_type": "code",
      "source": [
        "prediction_results = learn_inf.predict(path/'happy.jpg')"
      ],
      "metadata": {
        "colab": {
          "base_uri": "https://localhost:8080/",
          "height": 17
        },
        "id": "H_nkPYSH9IAo",
        "outputId": "c8526d5e-3f2b-498f-cd7d-963f4f1b2786"
      },
      "execution_count": 12,
      "outputs": [
        {
          "output_type": "display_data",
          "data": {
            "text/plain": [
              "<IPython.core.display.HTML object>"
            ],
            "text/html": [
              "\n",
              "<style>\n",
              "    /* Turns off some styling */\n",
              "    progress {\n",
              "        /* gets rid of default border in Firefox and Opera. */\n",
              "        border: none;\n",
              "        /* Needs to be in here for Safari polyfill so background images work as expected. */\n",
              "        background-size: auto;\n",
              "    }\n",
              "    progress:not([value]), progress:not([value])::-webkit-progress-bar {\n",
              "        background: repeating-linear-gradient(45deg, #7e7e7e, #7e7e7e 10px, #5c5c5c 10px, #5c5c5c 20px);\n",
              "    }\n",
              "    .progress-bar-interrupted, .progress-bar-interrupted::-webkit-progress-bar {\n",
              "        background: #F44336;\n",
              "    }\n",
              "</style>\n"
            ]
          },
          "metadata": {}
        },
        {
          "output_type": "display_data",
          "data": {
            "text/plain": [
              "<IPython.core.display.HTML object>"
            ],
            "text/html": []
          },
          "metadata": {}
        }
      ]
    },
    {
      "cell_type": "code",
      "source": [
        "result_index = prediction_results[1]\n",
        "print('predicted category:{}'.format(learn_inf.dls.vocab[result_index]))\n",
        "print('predicted probability:{}'.format(prediction_results[2][result_index]))"
      ],
      "metadata": {
        "colab": {
          "base_uri": "https://localhost:8080/"
        },
        "id": "iCm7bcMd9L9M",
        "outputId": "357ac23f-9ae0-49f5-8e75-cb6e686b7bfd"
      },
      "execution_count": 13,
      "outputs": [
        {
          "output_type": "stream",
          "name": "stdout",
          "text": [
            "predicted category:happy\n",
            "predicted probability:0.9985558390617371\n"
          ]
        }
      ]
    },
    {
      "cell_type": "markdown",
      "source": [
        "## STEP2: Create a Super Simple Notebook App"
      ],
      "metadata": {
        "id": "y6L7LrL8-Ckc"
      }
    },
    {
      "cell_type": "markdown",
      "source": [
        "There are two important packages within the Python that will help us create FrontEnd UI like components.\n",
        "\n",
        "* IPython widgets are GUI components that bring together JavaScript and Python functionality in a web browser, and can be created and used within a Jupyter notebook. This is similar to the UI we saw in Part 2 with the Data Cleaner function. FastAI uses IPython widgets behind the scenes to bring about the UI components. The downside is, users have to run jupyter notebooks. We dont want users to run Jupyter notebooks in order to access the app. That is why we have a second package, aptly named *Voila*!\n",
        "* Voilà is a system for making applications consisting of IPython widgets available to end users, without them having to use Jupyter at all."
      ],
      "metadata": {
        "id": "cc-n0KLkQfZm"
      }
    },
    {
      "cell_type": "markdown",
      "source": [
        "**Sample - Upload Button:**\n",
        "\n",
        "Lets test out rendering Upload button GUI using IPythong Widgets. Code is super simple right?"
      ],
      "metadata": {
        "id": "W9ZsfIkaWtf8"
      }
    },
    {
      "cell_type": "code",
      "source": [
        "#hide_output\n",
        "import ipywidgets as widgets\n",
        "from ipywidgets import *\n",
        "btn_upload = widgets.FileUpload()\n",
        "btn_upload"
      ],
      "metadata": {
        "colab": {
          "base_uri": "https://localhost:8080/",
          "height": 49,
          "referenced_widgets": [
            "afe1bef7ad9c4b86a57c5c5ba60b03e5",
            "472af54ec4e04671b4a86562a8c9d5d3",
            "9548b6bd1a4e4359abd5ef16ab472593"
          ]
        },
        "id": "fj8CxyHLWiNC",
        "outputId": "b5d434af-d0fd-4e2d-ecf7-44637f741f8f"
      },
      "execution_count": 35,
      "outputs": [
        {
          "output_type": "display_data",
          "data": {
            "text/plain": [
              "FileUpload(value={}, description='Upload')"
            ],
            "application/vnd.jupyter.widget-view+json": {
              "version_major": 2,
              "version_minor": 0,
              "model_id": "afe1bef7ad9c4b86a57c5c5ba60b03e5"
            }
          },
          "metadata": {}
        }
      ]
    },
    {
      "cell_type": "markdown",
      "source": [
        "**Sample - Uploaded Image:**\n",
        "\n",
        "For the book, we can't actually click an upload button, so we fake it.\n",
        "\n",
        "SimpleNamespace is a class provided by the types module in Python's standard library. It's a simple container class that allows you to create objects whose attributes can be assigned arbitrary values, similar to using a dictionary or a regular object, but with a more convenient syntax.\n",
        "\n"
      ],
      "metadata": {
        "id": "hFPUkAieXNbX"
      }
    },
    {
      "cell_type": "code",
      "source": [
        "#hide_output\n",
        "# For the book, we can't actually click an upload button, so we fake it\n",
        "btn_upload = SimpleNamespace(data = ['happy.jpg'])"
      ],
      "metadata": {
        "id": "FtenvHzXXHbK"
      },
      "execution_count": 17,
      "outputs": []
    },
    {
      "cell_type": "markdown",
      "source": [
        "Lets also render the uploaded image to see if we can view it."
      ],
      "metadata": {
        "id": "r_tGrjz_Xouc"
      }
    },
    {
      "cell_type": "code",
      "source": [
        "img = PILImage.create(btn_upload.data[-1])"
      ],
      "metadata": {
        "id": "9w0dujGsXu-L"
      },
      "execution_count": 20,
      "outputs": []
    },
    {
      "cell_type": "markdown",
      "source": [
        "Instead of viewing the img directly, lets view the image through IPython widgets Output function."
      ],
      "metadata": {
        "id": "Jfo-DtYEYC0l"
      }
    },
    {
      "cell_type": "code",
      "source": [
        "#hide_output\n",
        "out_pl = widgets.Output()\n",
        "out_pl.clear_output()\n",
        "with out_pl: display(img.to_thumb(128,128))\n",
        "out_pl"
      ],
      "metadata": {
        "colab": {
          "base_uri": "https://localhost:8080/",
          "height": 145,
          "referenced_widgets": [
            "35df1c4a0ee9475b9c854011f3befceb",
            "c7ab7f3c6db3477c8c6c502623c7041b"
          ]
        },
        "id": "ab7IR3i8Xz6Q",
        "outputId": "135d6599-9423-42c6-efd2-b88b56a96b30"
      },
      "execution_count": 21,
      "outputs": [
        {
          "output_type": "display_data",
          "data": {
            "text/plain": [
              "Output()"
            ],
            "application/vnd.jupyter.widget-view+json": {
              "version_major": 2,
              "version_minor": 0,
              "model_id": "35df1c4a0ee9475b9c854011f3befceb"
            }
          },
          "metadata": {}
        }
      ]
    },
    {
      "cell_type": "markdown",
      "source": [
        "**Sample - Predict Uploaded Image:**\n",
        "\n",
        "Now that we can upload an image from a button, lets use the uploaded image to run prediction on our trained classifer."
      ],
      "metadata": {
        "id": "ddqZ5r7PYXRa"
      }
    },
    {
      "cell_type": "code",
      "source": [
        "pred,pred_idx,probs = learn_inf.predict(img)\n",
        "probs = probs* 100"
      ],
      "metadata": {
        "colab": {
          "base_uri": "https://localhost:8080/",
          "height": 17
        },
        "id": "ERWLH3v3YXAy",
        "outputId": "6949ca94-d505-4797-9a9a-4f51ec51ae0d"
      },
      "execution_count": 24,
      "outputs": [
        {
          "output_type": "display_data",
          "data": {
            "text/plain": [
              "<IPython.core.display.HTML object>"
            ],
            "text/html": [
              "\n",
              "<style>\n",
              "    /* Turns off some styling */\n",
              "    progress {\n",
              "        /* gets rid of default border in Firefox and Opera. */\n",
              "        border: none;\n",
              "        /* Needs to be in here for Safari polyfill so background images work as expected. */\n",
              "        background-size: auto;\n",
              "    }\n",
              "    progress:not([value]), progress:not([value])::-webkit-progress-bar {\n",
              "        background: repeating-linear-gradient(45deg, #7e7e7e, #7e7e7e 10px, #5c5c5c 10px, #5c5c5c 20px);\n",
              "    }\n",
              "    .progress-bar-interrupted, .progress-bar-interrupted::-webkit-progress-bar {\n",
              "        background: #F44336;\n",
              "    }\n",
              "</style>\n"
            ]
          },
          "metadata": {}
        },
        {
          "output_type": "display_data",
          "data": {
            "text/plain": [
              "<IPython.core.display.HTML object>"
            ],
            "text/html": []
          },
          "metadata": {}
        }
      ]
    },
    {
      "cell_type": "markdown",
      "source": [
        "Instead of displaying the output in the normal Jupyter way lets display it using the IPythong Widgets."
      ],
      "metadata": {
        "id": "XhdTYVBeYpIT"
      }
    },
    {
      "cell_type": "code",
      "source": [
        "#hide_output\n",
        "lbl_pred = widgets.Label()\n",
        "lbl_pred.value = f'I am {probs[pred_idx]:.02f}% sure that the image provided is a picture of a {pred} person'\n",
        "lbl_pred"
      ],
      "metadata": {
        "colab": {
          "base_uri": "https://localhost:8080/",
          "height": 49,
          "referenced_widgets": [
            "7566f6ee07494f06806c68b04d58da24",
            "20cc7c62cb6d4df6941bf65d3a3b71a5",
            "e88dacbd79d04af396b3bb52f12818f8"
          ]
        },
        "id": "VltcFxXjYvXU",
        "outputId": "14f2e6e1-4d6d-4c81-9197-359f28d39d84"
      },
      "execution_count": 27,
      "outputs": [
        {
          "output_type": "display_data",
          "data": {
            "text/plain": [
              "Label(value='I am 99.86% sure that the image provided is a picture of a happy person')"
            ],
            "application/vnd.jupyter.widget-view+json": {
              "version_major": 2,
              "version_minor": 0,
              "model_id": "7566f6ee07494f06806c68b04d58da24"
            }
          },
          "metadata": {}
        }
      ]
    },
    {
      "cell_type": "markdown",
      "source": [
        "**Sample - Classify Image:**\n",
        "\n",
        "For best UI Experience, we want the user to upload the image first using upload button and then hit on classify to run predictions. Lets build the classify button using IP widgets"
      ],
      "metadata": {
        "id": "KYLXjLxuZbzi"
      }
    },
    {
      "cell_type": "code",
      "source": [
        "#hide_output\n",
        "btn_run = widgets.Button(description='Classify')\n",
        "btn_run\n",
        ""
      ],
      "metadata": {
        "colab": {
          "base_uri": "https://localhost:8080/",
          "height": 49,
          "referenced_widgets": [
            "0325090f13f2422a9078cccf00cbd97c",
            "3591f85fcd48471f83b5dc3b9b034ed7",
            "3a42cf1f88de42a88f7fae214afaa4a6"
          ]
        },
        "id": "w-s92vNFZc0F",
        "outputId": "78f88327-8716-463f-899e-6ff9f69aab1e"
      },
      "execution_count": 31,
      "outputs": [
        {
          "output_type": "display_data",
          "data": {
            "text/plain": [
              "Button(description='Classify', style=ButtonStyle())"
            ],
            "application/vnd.jupyter.widget-view+json": {
              "version_major": 2,
              "version_minor": 0,
              "model_id": "0325090f13f2422a9078cccf00cbd97c"
            }
          },
          "metadata": {}
        },
        {
          "output_type": "display_data",
          "data": {
            "text/plain": [
              "<IPython.core.display.HTML object>"
            ],
            "text/html": [
              "\n",
              "<style>\n",
              "    /* Turns off some styling */\n",
              "    progress {\n",
              "        /* gets rid of default border in Firefox and Opera. */\n",
              "        border: none;\n",
              "        /* Needs to be in here for Safari polyfill so background images work as expected. */\n",
              "        background-size: auto;\n",
              "    }\n",
              "    progress:not([value]), progress:not([value])::-webkit-progress-bar {\n",
              "        background: repeating-linear-gradient(45deg, #7e7e7e, #7e7e7e 10px, #5c5c5c 10px, #5c5c5c 20px);\n",
              "    }\n",
              "    .progress-bar-interrupted, .progress-bar-interrupted::-webkit-progress-bar {\n",
              "        background: #F44336;\n",
              "    }\n",
              "</style>\n"
            ]
          },
          "metadata": {}
        },
        {
          "output_type": "display_data",
          "data": {
            "text/plain": [
              "<IPython.core.display.HTML object>"
            ],
            "text/html": []
          },
          "metadata": {}
        }
      ]
    },
    {
      "cell_type": "markdown",
      "source": [
        "Also remember, we need to execute some logic to run when the button is pressed. Lets write a quick \"On Click\" function to run when user clicks on the button."
      ],
      "metadata": {
        "id": "FoJispfpZ0iY"
      }
    },
    {
      "cell_type": "code",
      "source": [
        "def on_click_classify(change):\n",
        "    img = PILImage.create(btn_upload.data[-1]) #convert the uploaded data to a PIL image.\n",
        "    out_pl.clear_output()\n",
        "    with out_pl: display(img.to_thumb(128,128)) # render uploaded image\n",
        "    pred,pred_idx,probs = learn_inf.predict(img) #run prediction.\n",
        "    probs = probs* 100\n",
        "    lbl_pred.value = f'I am {probs[pred_idx]:.02f}% sure that the image provided is a picture of a {pred} person' #print label result\n",
        "\n",
        "btn_run.on_click(on_click_classify)"
      ],
      "metadata": {
        "id": "IkOZSyw3Z9Mn"
      },
      "execution_count": 39,
      "outputs": []
    },
    {
      "cell_type": "markdown",
      "source": [
        "**Sample - Putting it Together:**\n",
        "\n",
        "Finally we can create a new upload button and arrange them all the UI components:\n",
        "- The Title,\n",
        "- The Upload Button,\n",
        "- The Classify Button that has an associate onclick func,\n",
        "- The Output Image\n",
        "- The Output Prediction."
      ],
      "metadata": {
        "id": "92SXP-CRbvZ7"
      }
    },
    {
      "cell_type": "code",
      "source": [
        "#hide\n",
        "#Putting back btn_upload to a widget for next cell\n",
        "btn_upload = widgets.FileUpload()"
      ],
      "metadata": {
        "id": "bCx_hci_amt4"
      },
      "execution_count": 36,
      "outputs": []
    },
    {
      "cell_type": "code",
      "source": [
        "#hide_output\n",
        "VBox([widgets.Label('====Human Emotion Classifer!===='), widgets.Label('Please upload a closeup picture of your face and let me try guessing your emotion'),\n",
        "      btn_upload, btn_run, out_pl, lbl_pred])"
      ],
      "metadata": {
        "colab": {
          "base_uri": "https://localhost:8080/",
          "height": 305,
          "referenced_widgets": [
            "24b67ed59f214af4a484ea79b2c45b12",
            "9b7dd78cc08c4f1caae12a029df0173e",
            "bb947ddc83f24b15b04c4472f6ef6203",
            "5f8383ddef9641658d55bb71c13b9362",
            "0325090f13f2422a9078cccf00cbd97c",
            "35df1c4a0ee9475b9c854011f3befceb",
            "7566f6ee07494f06806c68b04d58da24",
            "142e920f5b6d48558e5018cd6f003a68",
            "85d0770fcf3345a08dee52d1dcc1047e",
            "19ab7927632342c0ab850c239648ffd2",
            "7905bc4f9db54fd786c8b5e221fe0f05",
            "d395ea1cc6f94f5b8beeb8a10bf4d1f1",
            "0e200290cc91457e8ce3a3281d68170c",
            "5ab22288db1e469880ed5ab0418316da",
            "3591f85fcd48471f83b5dc3b9b034ed7",
            "3a42cf1f88de42a88f7fae214afaa4a6",
            "20cc7c62cb6d4df6941bf65d3a3b71a5",
            "e88dacbd79d04af396b3bb52f12818f8",
            "c7ab7f3c6db3477c8c6c502623c7041b"
          ]
        },
        "id": "JMiEfUVEaruo",
        "outputId": "a19ddc70-ee39-489c-bc83-c1e487615d64"
      },
      "execution_count": 40,
      "outputs": [
        {
          "output_type": "display_data",
          "data": {
            "text/plain": [
              "VBox(children=(Label(value='====Human Emotion Classifer!===='), Label(value='Please upload a closeup picture o…"
            ],
            "application/vnd.jupyter.widget-view+json": {
              "version_major": 2,
              "version_minor": 0,
              "model_id": "24b67ed59f214af4a484ea79b2c45b12"
            }
          },
          "metadata": {}
        }
      ]
    },
    {
      "cell_type": "markdown",
      "source": [
        "## STEP3: Deploying the App"
      ],
      "metadata": {
        "id": "FFXsjXKPdK4-"
      }
    },
    {
      "cell_type": "markdown",
      "source": [
        "Ideally we should be creating a fresh notebook with only the required code to show the widgets we need. Take a look at [this notebook](https://github.com/VMLverse/HumanEmotionClassifer) in my repository."
      ],
      "metadata": {
        "id": "EpCFW4n0IGxr"
      }
    },
    {
      "cell_type": "markdown",
      "source": [
        "After adding our widget code, we can run these two lines:\n",
        "-  the first line installs the voila library and application\n",
        "- and the second connects it to your existing Jupyter notebook.\n",
        "\n"
      ],
      "metadata": {
        "id": "ss02HCd_I_OF"
      }
    },
    {
      "cell_type": "code",
      "source": [
        "!pip install voila\n",
        "!jupyter serverextension enable --sys-prefix voila\n"
      ],
      "metadata": {
        "id": "k_dnBfvgN85Y"
      },
      "execution_count": null,
      "outputs": []
    },
    {
      "cell_type": "markdown",
      "source": [
        "Voilà runs Jupyter notebooks just like the Jupyter notebook server you are using now does, but it also does something very important: it removes all of the cell inputs, and only shows output (including ipywidgets), along with your markdown cells."
      ],
      "metadata": {
        "id": "4T3tAB3mQYW-"
      }
    },
    {
      "cell_type": "markdown",
      "source": [
        "To view your notebook as a Voilà web application, replace the word \"notebooks\" in your browser's URL with: \"voila/render\". You will see the same content as your notebook, but without any of the code cells."
      ],
      "metadata": {
        "id": "qujo7CCPQeGe"
      }
    },
    {
      "cell_type": "markdown",
      "source": [
        "Note: If you are using colab or kaggle, you will not see \"notebooks\" in your URL. So it is not possible to accomplish this step."
      ],
      "metadata": {
        "id": "TNCiLHhwQ46x"
      }
    },
    {
      "cell_type": "markdown",
      "source": [
        "###Deploying the App - Publically"
      ],
      "metadata": {
        "id": "_bDWoKwNRF0t"
      }
    },
    {
      "cell_type": "markdown",
      "source": [
        "The above step deploys your app locally. Others will not be able to see our app yet.\n",
        "\n",
        "**Where do we host our app?**\n",
        "\n",
        "To deploy publically, we can setup a server and run it. Or an easy way is to use some of the free hosting platforms to host our app and run it. (This is just a quick hobby project and we donot need anything fancy).\n",
        "\n",
        "Binder offers a free hosting platform. We can use it to deploy our app publically. Here are the steps:\n",
        "\n",
        "1. Add your notebook to a GitHub repository.\n",
        "2. Paste the URL of that repo into Binder's URL, as shown in <>.\n",
        "3. Change the File dropdown to instead select URL.\n",
        "4. In the \"URL to open\" field, enter /voila/render/name.ipynb (replacing name with the name of for your notebook).\n",
        "5. Click the clickboard button at the bottom right to copy the URL and paste it somewhere safe.\n",
        "6. Click Launch.\n",
        "\n",
        "**Do we need a GPU?**\n",
        "\n",
        "We also only need a CPU since we will be sending one image at a time. If we had very large user traffic, we may need a GPU so we can collect images and process them in batch. Also there is no model training. So that is another case for not wanting a GPU."
      ],
      "metadata": {
        "id": "z-UfxPbuRKZR"
      }
    },
    {
      "cell_type": "markdown",
      "source": [
        "## Closing Thoughts - Its Just an API!\n"
      ],
      "metadata": {
        "id": "LJ-z_MV89TXt"
      }
    },
    {
      "cell_type": "markdown",
      "source": [
        "Once you have exported your trained model, from that point it becomes a few lines of code to deploy it and have a front end UI for it. Any hosting technology and UI framework should work.\n",
        "\n",
        "To avoid any dependencies, it would be best to host the machine learning interpretation on a server and expose an API. That way we could build any number of front end UIs across multiple devices and not have to worry about computing depencies for executing the inference and only worry about setting up the UI to interface with the customer."
      ],
      "metadata": {
        "id": "EIGUUqEN9WQI"
      }
    },
    {
      "cell_type": "markdown",
      "source": [
        "## References\n",
        "- Book: Howard, J., &amp; Gugger, S. (2021). Deep learning for coders with FASTAI and pytorch: AI applications without a Phd. O’Reilly Media, Inc. [link](https://www.amazon.com/Deep-Learning-Coders-fastai-PyTorch-ebook-dp-B08C2KM7NR/dp/B08C2KM7NR)"
      ],
      "metadata": {
        "id": "gyayj5-s3nHp"
      }
    }
  ]
}