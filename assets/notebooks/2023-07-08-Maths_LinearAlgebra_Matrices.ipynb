{
  "nbformat": 4,
  "nbformat_minor": 0,
  "metadata": {
    "colab": {
      "provenance": [],
      "toc_visible": true
    },
    "kernelspec": {
      "name": "python3",
      "display_name": "Python 3"
    },
    "language_info": {
      "name": "python"
    }
  },
  "cells": [
    {
      "cell_type": "markdown",
      "source": [
        "Title: \"Linear Algebra for Machine Learning: Part 2 -Matrices\""
      ],
      "metadata": {
        "id": "FolOtWNq0J5L"
      }
    },
    {
      "cell_type": "markdown",
      "source": [
        "## Introduction\n",
        "* Linear algebra serves as the foundation for many machine learning algorithms and techniques.\n",
        "* Linear Algebra is the branch of mathematics that studies vector spaces and linear transformations between vector spaces, such as rotating a shape, scaling it up or down, translating it (i.e. moving it), etc.\n",
        "* In this blog post, we will try to understand vectors from their base representation, their properties and the various operations we can perform on vectors."
      ],
      "metadata": {
        "id": "5TsnXAOJ0RRR"
      }
    },
    {
      "cell_type": "markdown",
      "source": [
        "## Matrices\n",
        "A matrix is a rectangular array of scalars (i.e. any number: integer, real or complex) arranged in rows and columns, for example:\n",
        "\n",
        "\\begin{bmatrix} 10 & 20 & 30 \\\\ 40 & 50 & 60 \\end{bmatrix}\n",
        "\n",
        "* You can also think of a matrix as a list of vectors: the previous matrix contains either 2 horizontal 3D vectors or 3 vertical 2D vectors.\n",
        "\n",
        "* Matrices are convenient and very efficient to run operations on many vectors at a time.\n",
        "* We will also see that they are great at representing and performing linear transformations such rotations, translations and scaling."
      ],
      "metadata": {
        "id": "9ZmFG0aN3q7T"
      }
    },
    {
      "cell_type": "markdown",
      "source": [
        "### 1. Representation\n",
        "In python, a matrix can be represented in various ways. The simplest is just a list of python lists:"
      ],
      "metadata": {
        "id": "KmdnT6lb4fvM"
      }
    },
    {
      "cell_type": "code",
      "source": [
        "[\n",
        "    [10, 20, 30],\n",
        "    [40, 50, 60]\n",
        "]"
      ],
      "metadata": {
        "id": "kZ4MZ6vV6SUy",
        "colab": {
          "base_uri": "https://localhost:8080/"
        },
        "outputId": "b5e60978-a638-4951-f08d-bea117bc8156"
      },
      "execution_count": 1,
      "outputs": [
        {
          "output_type": "execute_result",
          "data": {
            "text/plain": [
              "[[10, 20, 30], [40, 50, 60]]"
            ]
          },
          "metadata": {},
          "execution_count": 1
        }
      ]
    },
    {
      "cell_type": "markdown",
      "source": [
        "A much more efficient way is to use the NumPy library which provides optimized implementations of many matrix operations:"
      ],
      "metadata": {
        "id": "UA0Q2oWN6LFE"
      }
    },
    {
      "cell_type": "code",
      "source": [
        "import numpy as np\n",
        "\n",
        "A = np.array([\n",
        "    [10,20,30],\n",
        "    [40,50,60]\n",
        "])\n",
        "A"
      ],
      "metadata": {
        "colab": {
          "base_uri": "https://localhost:8080/"
        },
        "id": "0msNS3xo6Lj6",
        "outputId": "7bb2de95-b782-441f-9f54-cff4d2c3ac16"
      },
      "execution_count": 2,
      "outputs": [
        {
          "output_type": "execute_result",
          "data": {
            "text/plain": [
              "array([[10, 20, 30],\n",
              "       [40, 50, 60]])"
            ]
          },
          "metadata": {},
          "execution_count": 2
        }
      ]
    },
    {
      "cell_type": "markdown",
      "source": [
        "By convention matrices generally have uppercase names, such as $A$.\n",
        "\n",
        "In the rest of this tutorial, we will assume that we are using NumPy arrays (type `ndarray`) to represent matrices."
      ],
      "metadata": {
        "id": "h-b_CWIc6pUb"
      }
    },
    {
      "cell_type": "markdown",
      "source": [
        "Size:\n",
        "\n",
        "- The size of a matrix is defined by its number of rows and number of columns.\n",
        "- It is denoted as $rows \\times columns$. For example, the matrix $A$ mentioned above is a $2 \\times 3$ matrix, indicating 2 rows and 3 columns.\n",
        "- Similarly, a $3 \\times 2$ matrix would have 3 rows and 2 columns.\n",
        "\n",
        "To determine the size of a matrix in NumPy:"
      ],
      "metadata": {
        "id": "rPMYuHt8inRg"
      }
    },
    {
      "cell_type": "code",
      "source": [
        "A.shape"
      ],
      "metadata": {
        "colab": {
          "base_uri": "https://localhost:8080/"
        },
        "id": "dBE2joBulCdV",
        "outputId": "6c900e99-53ac-4f84-b7a8-f1b834d4d847"
      },
      "execution_count": 3,
      "outputs": [
        {
          "output_type": "execute_result",
          "data": {
            "text/plain": [
              "(2, 3)"
            ]
          },
          "metadata": {},
          "execution_count": 3
        }
      ]
    },
    {
      "cell_type": "markdown",
      "source": [
        "the `size` attribute represents the number of elements in the `ndarray`, not the matrix's size:"
      ],
      "metadata": {
        "id": "T57Ij7h9lJdP"
      }
    },
    {
      "cell_type": "code",
      "source": [
        "A.size"
      ],
      "metadata": {
        "colab": {
          "base_uri": "https://localhost:8080/"
        },
        "id": "bI4c0UbtlIoa",
        "outputId": "d9e187f7-cd1e-4ea0-b55d-6ddd1daf869d"
      },
      "execution_count": 4,
      "outputs": [
        {
          "output_type": "execute_result",
          "data": {
            "text/plain": [
              "6"
            ]
          },
          "metadata": {},
          "execution_count": 4
        }
      ]
    },
    {
      "cell_type": "markdown",
      "source": [
        "### 2. Element indexing\n",
        "The number located in the $i^{th}$ row and $j^{th}$ column of a matrix $X$ is sometimes denoted as $X_{i,j}$ or $X_{ij}$. However, since there is no standard notation, people often prefer to explicitly name the elements. For example, \"*let $X = (x_{i,j})_{1 ≤ i ≤ m, 1 ≤ j ≤ n}$*\" means that $X$ is equal to:\n",
        "\n",
        "$X = \\begin{bmatrix}\n",
        "  x_{1,1} & x_{1,2} & x_{1,3} & \\cdots & x_{1,n}\\\\\n",
        "  x_{2,1} & x_{2,2} & x_{2,3} & \\cdots & x_{2,n}\\\\\n",
        "  x_{3,1} & x_{3,2} & x_{3,3} & \\cdots & x_{3,n}\\\\\n",
        "  \\vdots & \\vdots & \\vdots & \\ddots & \\vdots \\\\\n",
        "  x_{m,1} & x_{m,2} & x_{m,3} & \\cdots & x_{m,n}\\\\\n",
        "\\end{bmatrix}$\n",
        "\n",
        "However, in this notebook, we will use the $X_{i,j}$ notation, as it aligns well with NumPy's notation.\n",
        "* It is important to note that in mathematics, indices generally start at 1, while in programming, they usually start at 0.\n",
        "* Therefore, to access $A_{2,3}$ programmatically, we would write the following:"
      ],
      "metadata": {
        "id": "l1A0Qsg9lrQi"
      }
    },
    {
      "cell_type": "code",
      "source": [
        "A[1,2]  # 2nd row, 3rd column"
      ],
      "metadata": {
        "colab": {
          "base_uri": "https://localhost:8080/"
        },
        "id": "IwxfvJS2mgQx",
        "outputId": "c186fe30-a15e-439b-83c7-a9f985649579"
      },
      "execution_count": 5,
      "outputs": [
        {
          "output_type": "execute_result",
          "data": {
            "text/plain": [
              "60"
            ]
          },
          "metadata": {},
          "execution_count": 5
        }
      ]
    },
    {
      "cell_type": "markdown",
      "source": [
        "To access $A_{2,*}$ (i.e. $A$'s 2nd row vector):"
      ],
      "metadata": {
        "id": "KVn39ulUm1ES"
      }
    },
    {
      "cell_type": "code",
      "source": [
        "A[1, :]  # 2nd row vector (as a 1D array)"
      ],
      "metadata": {
        "colab": {
          "base_uri": "https://localhost:8080/"
        },
        "id": "7TD-daHIm3Ij",
        "outputId": "1bb2d772-dc60-4969-8e7e-bccadcdebf35"
      },
      "execution_count": 6,
      "outputs": [
        {
          "output_type": "execute_result",
          "data": {
            "text/plain": [
              "array([40, 50, 60])"
            ]
          },
          "metadata": {},
          "execution_count": 6
        }
      ]
    },
    {
      "cell_type": "markdown",
      "source": [
        "To access $A_{*,3}$ (i.e. $A$'s 3rd column vector):"
      ],
      "metadata": {
        "id": "ZbUzih-Lm8s0"
      }
    },
    {
      "cell_type": "code",
      "source": [
        "A[:, 2]  # 3rd column vector (as a 1D array)"
      ],
      "metadata": {
        "colab": {
          "base_uri": "https://localhost:8080/"
        },
        "id": "ulycSTfRm9ac",
        "outputId": "c4791c74-da3a-4e0a-9975-f99b073a8e29"
      },
      "execution_count": 7,
      "outputs": [
        {
          "output_type": "execute_result",
          "data": {
            "text/plain": [
              "array([30, 60])"
            ]
          },
          "metadata": {},
          "execution_count": 7
        }
      ]
    },
    {
      "cell_type": "markdown",
      "source": [
        "* Note that the result is actually a one-dimensional NumPy array: there is no such thing as a *vertical* or *horizontal* one-dimensional array.\n",
        "* If you need to actually represent a row vector as a one-row matrix (i.e. a 2D NumPy array), or a column vector as a one-column matrix, then you need to use a slice instead of an integer when accessing the row or column, for example:\n",
        "\n",
        "To access $A_{2,*}$ (i.e. $A$'s 2nd row vector) as a 2D Numpy Array:"
      ],
      "metadata": {
        "id": "7Y0i9LDutGVB"
      }
    },
    {
      "cell_type": "code",
      "source": [
        "A[1:2, :]  # rows 2 to 3 (excluded): this returns row 2 as a one-row matrix"
      ],
      "metadata": {
        "colab": {
          "base_uri": "https://localhost:8080/"
        },
        "id": "RyMJF_LgtdH4",
        "outputId": "03b28894-67ca-4400-f28e-332ac892a2d0"
      },
      "execution_count": 8,
      "outputs": [
        {
          "output_type": "execute_result",
          "data": {
            "text/plain": [
              "array([[40, 50, 60]])"
            ]
          },
          "metadata": {},
          "execution_count": 8
        }
      ]
    },
    {
      "cell_type": "markdown",
      "source": [
        "To access $A_{*,3}$ (i.e. $A$'s 3rd column vector) as a 2D Numpy Array:"
      ],
      "metadata": {
        "id": "SFgU4wHVuSIk"
      }
    },
    {
      "cell_type": "code",
      "source": [
        "A[:, 2:3]  # columns 3 to 4 (excluded): this returns column 3 as a one-column matrix"
      ],
      "metadata": {
        "colab": {
          "base_uri": "https://localhost:8080/"
        },
        "id": "ds9vTFt8uOdz",
        "outputId": "99f5690a-231e-496a-8010-21243ef7a7c9"
      },
      "execution_count": 9,
      "outputs": [
        {
          "output_type": "execute_result",
          "data": {
            "text/plain": [
              "array([[30],\n",
              "       [60]])"
            ]
          },
          "metadata": {},
          "execution_count": 9
        }
      ]
    },
    {
      "cell_type": "markdown",
      "source": [
        "### 3. Square, triangular, diagonal and identity matrices\n",
        "A **square matrix** is a matrix that has the same number of rows and columns, for example a $3 \\times 3$ matrix:\n",
        "\n",
        "\\begin{bmatrix}\n",
        "  4 & 9 & 2 \\\\\n",
        "  3 & 5 & 7 \\\\\n",
        "  8 & 1 & 6\n",
        "\\end{bmatrix}"
      ],
      "metadata": {
        "id": "tkpBEicrEUWL"
      }
    },
    {
      "cell_type": "markdown",
      "source": [
        "An **upper triangular matrix** is a special kind of square matrix where all the elements *below* the main diagonal (top-left to bottom-right) are zero, for example:\n",
        "\n",
        "\\begin{bmatrix}\n",
        "  4 & 9 & 2 \\\\\n",
        "  0 & 5 & 7 \\\\\n",
        "  0 & 0 & 6\n",
        "\\end{bmatrix}"
      ],
      "metadata": {
        "id": "m1hgx9IrFQpv"
      }
    },
    {
      "cell_type": "markdown",
      "source": [
        "Similarly, a **lower triangular matrix** is a square matrix where all elements *above* the main diagonal are zero, for example:\n",
        "\n",
        "\\begin{bmatrix}\n",
        "  4 & 0 & 0 \\\\\n",
        "  3 & 5 & 0 \\\\\n",
        "  8 & 1 & 6\n",
        "\\end{bmatrix}"
      ],
      "metadata": {
        "id": "oLG99_MzFWUh"
      }
    },
    {
      "cell_type": "markdown",
      "source": [
        "A **triangular matrix** is one that is either lower triangular or upper triangular."
      ],
      "metadata": {
        "id": "6je4Q38fFazP"
      }
    },
    {
      "cell_type": "markdown",
      "source": [
        "A matrix that is both upper and lower triangular is called a **diagonal matrix**, for example:\n",
        "\n",
        "\\begin{bmatrix}\n",
        "  4 & 0 & 0 \\\\\n",
        "  0 & 5 & 0 \\\\\n",
        "  0 & 0 & 6\n",
        "\\end{bmatrix}\n",
        "\n",
        "You can construct a diagonal matrix using NumPy's `diag` function:"
      ],
      "metadata": {
        "id": "qEZqEwcNFcuK"
      }
    },
    {
      "cell_type": "code",
      "source": [
        "np.diag([4, 5, 6])"
      ],
      "metadata": {
        "colab": {
          "base_uri": "https://localhost:8080/"
        },
        "id": "qICZjoiPFddP",
        "outputId": "f0068ec8-b16e-4aac-9636-dfae22e9940a"
      },
      "execution_count": 10,
      "outputs": [
        {
          "output_type": "execute_result",
          "data": {
            "text/plain": [
              "array([[4, 0, 0],\n",
              "       [0, 5, 0],\n",
              "       [0, 0, 6]])"
            ]
          },
          "metadata": {},
          "execution_count": 10
        }
      ]
    },
    {
      "cell_type": "markdown",
      "source": [
        "If you pass a matrix to the `diag` function, it will happily extract the diagonal values:"
      ],
      "metadata": {
        "id": "b0ntENe1FrVU"
      }
    },
    {
      "cell_type": "code",
      "source": [
        "D = np.array([\n",
        "        [1, 2, 3],\n",
        "        [4, 5, 6],\n",
        "        [7, 8, 9],\n",
        "    ])\n",
        "np.diag(D)"
      ],
      "metadata": {
        "colab": {
          "base_uri": "https://localhost:8080/"
        },
        "id": "Y1J2Ef8LFo4C",
        "outputId": "813a4392-9c47-43ca-8a4e-9658117af2c9"
      },
      "execution_count": 11,
      "outputs": [
        {
          "output_type": "execute_result",
          "data": {
            "text/plain": [
              "array([1, 5, 9])"
            ]
          },
          "metadata": {},
          "execution_count": 11
        }
      ]
    },
    {
      "cell_type": "markdown",
      "source": [
        "Finally, the **identity matrix** of size $n$, noted $I_n$, is a diagonal matrix of size $n \\times n$ with $1$'s in the main diagonal, for example $I_3$:\n",
        "\n",
        "\\begin{bmatrix}\n",
        "  1 & 0 & 0 \\\\\n",
        "  0 & 1 & 0 \\\\\n",
        "  0 & 0 & 1\n",
        "\\end{bmatrix}\n",
        "\n",
        "Numpy's `eye` function returns the identity matrix of the desired size:"
      ],
      "metadata": {
        "id": "U9BQ_qdiFuuo"
      }
    },
    {
      "cell_type": "code",
      "source": [
        "np.eye(3)"
      ],
      "metadata": {
        "colab": {
          "base_uri": "https://localhost:8080/"
        },
        "id": "JOL_EQIsFw6p",
        "outputId": "1dcbfe49-91d4-42c7-9344-80c6de71b0b7"
      },
      "execution_count": 12,
      "outputs": [
        {
          "output_type": "execute_result",
          "data": {
            "text/plain": [
              "array([[1., 0., 0.],\n",
              "       [0., 1., 0.],\n",
              "       [0., 0., 1.]])"
            ]
          },
          "metadata": {},
          "execution_count": 12
        }
      ]
    },
    {
      "cell_type": "markdown",
      "source": [
        "The identity matrix is often noted simply $I$ (instead of $I_n$) when its size is clear given the context. It is called the *identity* matrix because multiplying a matrix with it leaves the matrix unchanged as we will see below."
      ],
      "metadata": {
        "id": "rzwcl3xlL18K"
      }
    },
    {
      "cell_type": "markdown",
      "source": [
        "### 4. Adding matrices\n",
        "If two matrices $Q$ and $R$ have the same size $m \\times n$, they can be added together. Addition is performed *elementwise*: the result is also an $m \\times n$ matrix $S$ where each element is the sum of the elements at the corresponding position: $S_{i,j} = Q_{i,j} + R_{i,j}$\n",
        "\n",
        "$S =\n",
        "\\begin{bmatrix}\n",
        "  Q_{11} + R_{11} & Q_{12} + R_{12} & Q_{13} + R_{13} & \\cdots & Q_{1n} + R_{1n} \\\\\n",
        "  Q_{21} + R_{21} & Q_{22} + R_{22} & Q_{23} + R_{23} & \\cdots & Q_{2n} + R_{2n}  \\\\\n",
        "  Q_{31} + R_{31} & Q_{32} + R_{32} & Q_{33} + R_{33} & \\cdots & Q_{3n} + R_{3n}  \\\\\n",
        "  \\vdots & \\vdots & \\vdots & \\ddots & \\vdots \\\\\n",
        "  Q_{m1} + R_{m1} & Q_{m2} + R_{m2} & Q_{m3} + R_{m3} & \\cdots & Q_{mn} + R_{mn}  \\\\\n",
        "\\end{bmatrix}$\n",
        "\n",
        "For example, let's create a $2 \\times 3$ matrix $B$ and compute $A + B$:"
      ],
      "metadata": {
        "id": "EpQUktRLMKkk"
      }
    },
    {
      "cell_type": "code",
      "source": [
        "B = np.array([[1, 2, 3], [4, 5, 6]])\n",
        "B"
      ],
      "metadata": {
        "colab": {
          "base_uri": "https://localhost:8080/"
        },
        "id": "HZ8OBhDrMSej",
        "outputId": "e7a4e0b0-2142-4683-d6ce-d3ad448b491e"
      },
      "execution_count": 13,
      "outputs": [
        {
          "output_type": "execute_result",
          "data": {
            "text/plain": [
              "array([[1, 2, 3],\n",
              "       [4, 5, 6]])"
            ]
          },
          "metadata": {},
          "execution_count": 13
        }
      ]
    },
    {
      "cell_type": "code",
      "source": [
        "A"
      ],
      "metadata": {
        "colab": {
          "base_uri": "https://localhost:8080/"
        },
        "id": "A9PbJ2eNMUvo",
        "outputId": "967c46ce-ea39-4878-a787-eb0e278bdc67"
      },
      "execution_count": 14,
      "outputs": [
        {
          "output_type": "execute_result",
          "data": {
            "text/plain": [
              "array([[10, 20, 30],\n",
              "       [40, 50, 60]])"
            ]
          },
          "metadata": {},
          "execution_count": 14
        }
      ]
    },
    {
      "cell_type": "code",
      "source": [
        "A + B"
      ],
      "metadata": {
        "colab": {
          "base_uri": "https://localhost:8080/"
        },
        "id": "kXAB0UhUMXMc",
        "outputId": "2d284e11-c78c-48b3-a676-7b6ee737868b"
      },
      "execution_count": 15,
      "outputs": [
        {
          "output_type": "execute_result",
          "data": {
            "text/plain": [
              "array([[11, 22, 33],\n",
              "       [44, 55, 66]])"
            ]
          },
          "metadata": {},
          "execution_count": 15
        }
      ]
    },
    {
      "cell_type": "markdown",
      "source": [
        "**Addition is *commutative***, meaning that $A + B = B + A$:"
      ],
      "metadata": {
        "id": "XNnlBC-2MbQM"
      }
    },
    {
      "cell_type": "code",
      "source": [
        "B + A"
      ],
      "metadata": {
        "colab": {
          "base_uri": "https://localhost:8080/"
        },
        "id": "3X91bhzDMfqF",
        "outputId": "59b8915d-79d0-446d-9136-01d475bf3d8d"
      },
      "execution_count": 16,
      "outputs": [
        {
          "output_type": "execute_result",
          "data": {
            "text/plain": [
              "array([[11, 22, 33],\n",
              "       [44, 55, 66]])"
            ]
          },
          "metadata": {},
          "execution_count": 16
        }
      ]
    },
    {
      "cell_type": "markdown",
      "source": [
        "**It is also *associative***, meaning that $A + (B + C) = (A + B) + C$:"
      ],
      "metadata": {
        "id": "WAqCvE2cMiFS"
      }
    },
    {
      "cell_type": "code",
      "source": [
        "C = np.array([[100, 200, 300], [400, 500, 600]])\n",
        "\n",
        "A + (B + C)"
      ],
      "metadata": {
        "colab": {
          "base_uri": "https://localhost:8080/"
        },
        "id": "8whXDjc7Mj23",
        "outputId": "1b8193f0-4c8a-477e-ccf2-4adb73a31af8"
      },
      "execution_count": 17,
      "outputs": [
        {
          "output_type": "execute_result",
          "data": {
            "text/plain": [
              "array([[111, 222, 333],\n",
              "       [444, 555, 666]])"
            ]
          },
          "metadata": {},
          "execution_count": 17
        }
      ]
    },
    {
      "cell_type": "code",
      "source": [
        "(A + B) + C"
      ],
      "metadata": {
        "colab": {
          "base_uri": "https://localhost:8080/"
        },
        "id": "6D8n7p8GMmfD",
        "outputId": "37856385-ad38-4efa-94cd-84f7d50d583a"
      },
      "execution_count": 18,
      "outputs": [
        {
          "output_type": "execute_result",
          "data": {
            "text/plain": [
              "array([[111, 222, 333],\n",
              "       [444, 555, 666]])"
            ]
          },
          "metadata": {},
          "execution_count": 18
        }
      ]
    },
    {
      "cell_type": "markdown",
      "source": [
        "### 5. Scalar multiplication\n",
        "A matrix $M$ can be multiplied by a scalar $\\lambda$. The result is noted $\\lambda M$, and it is a matrix of the same size as $M$ with all elements multiplied by $\\lambda$:\n",
        "\n",
        "$\\lambda M =\n",
        "\\begin{bmatrix}\n",
        "  \\lambda \\times M_{11} & \\lambda \\times M_{12} & \\lambda \\times M_{13} & \\cdots & \\lambda \\times M_{1n} \\\\\n",
        "  \\lambda \\times M_{21} & \\lambda \\times M_{22} & \\lambda \\times M_{23} & \\cdots & \\lambda \\times M_{2n} \\\\\n",
        "  \\lambda \\times M_{31} & \\lambda \\times M_{32} & \\lambda \\times M_{33} & \\cdots & \\lambda \\times M_{3n} \\\\\n",
        "  \\vdots & \\vdots & \\vdots & \\ddots & \\vdots \\\\\n",
        "  \\lambda \\times M_{m1} & \\lambda \\times M_{m2} & \\lambda \\times M_{m3} & \\cdots & \\lambda \\times M_{mn} \\\\\n",
        "\\end{bmatrix}$\n",
        "\n",
        "A more concise way of writing this is:\n",
        "\n",
        "$(\\lambda M)_{i,j} = \\lambda (M)_{i,j}$\n",
        "\n",
        "In NumPy, simply use the `*` operator to multiply a matrix by a scalar. For example:"
      ],
      "metadata": {
        "id": "GYXrOsT1N2Aa"
      }
    },
    {
      "cell_type": "code",
      "source": [
        "2 * A"
      ],
      "metadata": {
        "colab": {
          "base_uri": "https://localhost:8080/"
        },
        "id": "W1STU0XuOkJG",
        "outputId": "137b8903-774b-4faf-c72b-7d9380c08e4f"
      },
      "execution_count": 19,
      "outputs": [
        {
          "output_type": "execute_result",
          "data": {
            "text/plain": [
              "array([[ 20,  40,  60],\n",
              "       [ 80, 100, 120]])"
            ]
          },
          "metadata": {},
          "execution_count": 19
        }
      ]
    },
    {
      "cell_type": "markdown",
      "source": [
        "Scalar multiplication is also defined on the right-hand side, and gives the same result: $M \\lambda = \\lambda M$. For example:"
      ],
      "metadata": {
        "id": "LOY8vGU_OnPt"
      }
    },
    {
      "cell_type": "code",
      "source": [
        "A * 2"
      ],
      "metadata": {
        "colab": {
          "base_uri": "https://localhost:8080/"
        },
        "id": "Zsh3AlFbOqDb",
        "outputId": "cdf9addb-be84-4898-94a5-3232be094090"
      },
      "execution_count": 20,
      "outputs": [
        {
          "output_type": "execute_result",
          "data": {
            "text/plain": [
              "array([[ 20,  40,  60],\n",
              "       [ 80, 100, 120]])"
            ]
          },
          "metadata": {},
          "execution_count": 20
        }
      ]
    },
    {
      "cell_type": "markdown",
      "source": [
        "This makes scalar multiplication **commutative**.\n",
        "\n",
        "It is also **associative**, meaning that $\\alpha (\\beta M) = (\\alpha \\times \\beta) M$, where $\\alpha$ and $\\beta$ are scalars. For example:"
      ],
      "metadata": {
        "id": "vZ7LzQlnOuKu"
      }
    },
    {
      "cell_type": "code",
      "source": [
        "2 * (3 * A)"
      ],
      "metadata": {
        "colab": {
          "base_uri": "https://localhost:8080/"
        },
        "id": "cvrSHVc3Otyi",
        "outputId": "d5e66ecf-bcae-485d-c8a3-11a0ba5ddf1f"
      },
      "execution_count": 21,
      "outputs": [
        {
          "output_type": "execute_result",
          "data": {
            "text/plain": [
              "array([[ 60, 120, 180],\n",
              "       [240, 300, 360]])"
            ]
          },
          "metadata": {},
          "execution_count": 21
        }
      ]
    },
    {
      "cell_type": "code",
      "source": [
        "(2 * 3) * A"
      ],
      "metadata": {
        "colab": {
          "base_uri": "https://localhost:8080/"
        },
        "id": "kW8yvZT-O1Q5",
        "outputId": "68ac2c48-9408-490a-eea8-9a7607e32b5b"
      },
      "execution_count": 22,
      "outputs": [
        {
          "output_type": "execute_result",
          "data": {
            "text/plain": [
              "array([[ 60, 120, 180],\n",
              "       [240, 300, 360]])"
            ]
          },
          "metadata": {},
          "execution_count": 22
        }
      ]
    },
    {
      "cell_type": "markdown",
      "source": [
        "Finally, it is **distributive over addition** of matrices, meaning that $\\lambda (Q + R) = \\lambda Q + \\lambda R$:"
      ],
      "metadata": {
        "id": "9-BL-rsIO5Hz"
      }
    },
    {
      "cell_type": "code",
      "source": [
        "2 * (A + B)"
      ],
      "metadata": {
        "colab": {
          "base_uri": "https://localhost:8080/"
        },
        "id": "gZKI_CeiO7xu",
        "outputId": "ab8a9ad7-e0ea-4d90-992b-8dc9bd7f8f6d"
      },
      "execution_count": 23,
      "outputs": [
        {
          "output_type": "execute_result",
          "data": {
            "text/plain": [
              "array([[ 22,  44,  66],\n",
              "       [ 88, 110, 132]])"
            ]
          },
          "metadata": {},
          "execution_count": 23
        }
      ]
    },
    {
      "cell_type": "code",
      "source": [
        "2 * A + 2 * B"
      ],
      "metadata": {
        "colab": {
          "base_uri": "https://localhost:8080/"
        },
        "id": "2O3ne3f7O-Pj",
        "outputId": "2ea06737-9016-467e-82cc-6a11deb3ff34"
      },
      "execution_count": 24,
      "outputs": [
        {
          "output_type": "execute_result",
          "data": {
            "text/plain": [
              "array([[ 22,  44,  66],\n",
              "       [ 88, 110, 132]])"
            ]
          },
          "metadata": {},
          "execution_count": 24
        }
      ]
    },
    {
      "cell_type": "markdown",
      "source": [
        "### 6. Matrix multiplication\n",
        "So far, matrix operations have been rather intuitive. But multiplying matrices is a bit more involved.\n",
        "\n",
        "A matrix $Q$ of size $m \\times n$ can be multiplied by a matrix $R$ of size $n \\times q$. It is noted simply $QR$ without multiplication sign or dot. The result $P$ is an $m \\times q$ matrix where each element is computed as a **sum of products**:\n",
        "\n",
        "$P_{i,j} = \\sum_{k=1}^n{Q_{i,k} \\times R_{k,j}}$\n",
        "\n",
        "The element at position $i,j$ in the resulting matrix is the sum of the products of elements in row $i$ of matrix $Q$ by the elements in column $j$ of matrix $R$.\n",
        "\n",
        "$P =\n",
        "\\begin{bmatrix}\n",
        "Q_{11} R_{11} + Q_{12} R_{21} + \\cdots + Q_{1n} R_{n1} &\n",
        "  Q_{11} R_{12} + Q_{12} R_{22} + \\cdots + Q_{1n} R_{n2} &\n",
        "    \\cdots &\n",
        "      Q_{11} R_{1q} + Q_{12} R_{2q} + \\cdots + Q_{1n} R_{nq} \\\\\n",
        "Q_{21} R_{11} + Q_{22} R_{21} + \\cdots + Q_{2n} R_{n1} &\n",
        "  Q_{21} R_{12} + Q_{22} R_{22} + \\cdots + Q_{2n} R_{n2} &\n",
        "    \\cdots &\n",
        "      Q_{21} R_{1q} + Q_{22} R_{2q} + \\cdots + Q_{2n} R_{nq} \\\\\n",
        "  \\vdots & \\vdots & \\ddots & \\vdots \\\\\n",
        "Q_{m1} R_{11} + Q_{m2} R_{21} + \\cdots + Q_{mn} R_{n1} &\n",
        "  Q_{m1} R_{12} + Q_{m2} R_{22} + \\cdots + Q_{mn} R_{n2} &\n",
        "    \\cdots &\n",
        "      Q_{m1} R_{1q} + Q_{m2} R_{2q} + \\cdots + Q_{mn} R_{nq}\n",
        "\\end{bmatrix}$\n",
        "\n",
        "You may notice that each element $P_{i,j}$ is the **dot product** of the row vector $Q_{i,*}$ and the column vector $R_{*,j}$:\n",
        "\n",
        "$P_{i,j} = Q_{i,*} \\cdot R_{*,j}$\n",
        "\n",
        "So we can rewrite $P$ more concisely as:\n",
        "\n",
        "$P =\n",
        "\\begin{bmatrix}\n",
        "Q_{1,*} \\cdot R_{*,1} & Q_{1,*} \\cdot R_{*,2} & \\cdots & Q_{1,*} \\cdot R_{*,q} \\\\\n",
        "Q_{2,*} \\cdot R_{*,1} & Q_{2,*} \\cdot R_{*,2} & \\cdots & Q_{2,*} \\cdot R_{*,q} \\\\\n",
        "\\vdots & \\vdots & \\ddots & \\vdots \\\\\n",
        "Q_{m,*} \\cdot R_{*,1} & Q_{m,*} \\cdot R_{*,2} & \\cdots & Q_{m,*} \\cdot R_{*,q}\n",
        "\\end{bmatrix}$\n"
      ],
      "metadata": {
        "id": "wHmEeLrSPOj6"
      }
    },
    {
      "cell_type": "markdown",
      "source": [
        "Let's multiply two matrices in NumPy, using `ndarray`'s `np.matmul()` function:\n",
        "\n",
        "$E = AD = \\begin{bmatrix}\n",
        "  10 & 20 & 30 \\\\\n",
        "  40 & 50 & 60\n",
        "\\end{bmatrix}\n",
        "\\begin{bmatrix}\n",
        "  2 & 3 & 5 & 7 \\\\\n",
        "  11 & 13 & 17 & 19 \\\\\n",
        "  23 & 29 & 31 & 37\n",
        "\\end{bmatrix} =\n",
        "\\begin{bmatrix}\n",
        "  930 & 1160 & 1320 & 1560 \\\\\n",
        "  2010 & 2510 & 2910 & 3450\n",
        "\\end{bmatrix}$"
      ],
      "metadata": {
        "id": "5AQO_J2oQMxs"
      }
    },
    {
      "cell_type": "code",
      "source": [
        "D = np.array([\n",
        "        [ 2,  3,  5,  7],\n",
        "        [11, 13, 17, 19],\n",
        "        [23, 29, 31, 37]\n",
        "    ])\n",
        "E = np.matmul(A, D)\n",
        "E"
      ],
      "metadata": {
        "colab": {
          "base_uri": "https://localhost:8080/"
        },
        "id": "r1mewlr8Qa4c",
        "outputId": "61083fa4-75c3-483d-f2a2-0ab73c27df5d"
      },
      "execution_count": 25,
      "outputs": [
        {
          "output_type": "execute_result",
          "data": {
            "text/plain": [
              "array([[ 930, 1160, 1320, 1560],\n",
              "       [2010, 2510, 2910, 3450]])"
            ]
          },
          "metadata": {},
          "execution_count": 25
        }
      ]
    },
    {
      "cell_type": "markdown",
      "source": [
        "Python 3.5 [introduced](https://docs.python.org/3/whatsnew/3.5.html#pep-465-a-dedicated-infix-operator-for-matrix-multiplication) the `@` infix operator for matrix multiplication, and NumPy 1.10 added support for it. `A @ D` is equivalent to `np.matmul(A, D)`:"
      ],
      "metadata": {
        "id": "3T0o1UUxQgBl"
      }
    },
    {
      "cell_type": "code",
      "source": [
        "A @ D"
      ],
      "metadata": {
        "colab": {
          "base_uri": "https://localhost:8080/"
        },
        "id": "EdTDCSAxQfwb",
        "outputId": "ba684267-4b76-4701-a508-1c3dbd4232e6"
      },
      "execution_count": 26,
      "outputs": [
        {
          "output_type": "execute_result",
          "data": {
            "text/plain": [
              "array([[ 930, 1160, 1320, 1560],\n",
              "       [2010, 2510, 2910, 3450]])"
            ]
          },
          "metadata": {},
          "execution_count": 26
        }
      ]
    },
    {
      "cell_type": "markdown",
      "source": [
        "The `@` operator also works for vectors. `u @ v` computes the dot product of `u` and `v`:"
      ],
      "metadata": {
        "id": "VqWBfuVCQnXX"
      }
    },
    {
      "cell_type": "code",
      "source": [
        "u = np.array([2, 5])\n",
        "v = np.array([3, 1])\n",
        "u @ v"
      ],
      "metadata": {
        "colab": {
          "base_uri": "https://localhost:8080/"
        },
        "id": "xxPyWiw8QqwD",
        "outputId": "e0e7e0fb-f813-4d77-cd3e-ac26712eabe6"
      },
      "execution_count": 27,
      "outputs": [
        {
          "output_type": "execute_result",
          "data": {
            "text/plain": [
              "11"
            ]
          },
          "metadata": {},
          "execution_count": 27
        }
      ]
    },
    {
      "cell_type": "markdown",
      "source": [
        "Let's check this result by looking at one element, just to be sure. To calculate $E_{2,3}$ for example, we need to multiply elements in $A$'s $2^{nd}$ row by elements in $D$'s $3^{rd}$ column, and sum up these products:"
      ],
      "metadata": {
        "id": "C5cqBYs0TEQQ"
      }
    },
    {
      "cell_type": "code",
      "source": [
        "40*5 + 50*17 + 60*31"
      ],
      "metadata": {
        "colab": {
          "base_uri": "https://localhost:8080/"
        },
        "id": "wGKVAssVTLiG",
        "outputId": "19c3f096-fb16-44e0-caa3-f83511353028"
      },
      "execution_count": 28,
      "outputs": [
        {
          "output_type": "execute_result",
          "data": {
            "text/plain": [
              "2910"
            ]
          },
          "metadata": {},
          "execution_count": 28
        }
      ]
    },
    {
      "cell_type": "code",
      "source": [
        "E[1,2]  # row 2, column 3"
      ],
      "metadata": {
        "colab": {
          "base_uri": "https://localhost:8080/"
        },
        "id": "E6315BGBTOyJ",
        "outputId": "f4889934-4569-4b47-a79d-bf61c6a50ac9"
      },
      "execution_count": 29,
      "outputs": [
        {
          "output_type": "execute_result",
          "data": {
            "text/plain": [
              "2910"
            ]
          },
          "metadata": {},
          "execution_count": 29
        }
      ]
    },
    {
      "cell_type": "markdown",
      "source": [
        "Looks good! You can check the other elements until you get used to the algorithm.\n",
        "\n",
        "We multiplied a $2 \\times 3$ matrix by a $3 \\times 4$ matrix, so the result is a $2 \\times 4$ matrix. The first matrix's number of columns has to be equal to the second matrix's number of rows. If we try to multiply $D$ by $A$, we get an error because D has 4 columns while A has 2 rows:"
      ],
      "metadata": {
        "id": "GPtRB3RPTNjD"
      }
    },
    {
      "cell_type": "code",
      "source": [
        "try:\n",
        "    D @ A\n",
        "except ValueError as e:\n",
        "    print(\"ValueError:\", e)"
      ],
      "metadata": {
        "colab": {
          "base_uri": "https://localhost:8080/"
        },
        "id": "T_X5uvYXTbfv",
        "outputId": "bab588ff-7356-438d-afde-d6f37ae11e75"
      },
      "execution_count": 30,
      "outputs": [
        {
          "output_type": "stream",
          "name": "stdout",
          "text": [
            "ValueError: matmul: Input operand 1 has a mismatch in its core dimension 0, with gufunc signature (n?,k),(k,m?)->(n?,m?) (size 2 is different from 4)\n"
          ]
        }
      ]
    },
    {
      "cell_type": "markdown",
      "source": [
        "This illustrates the fact that **matrix multiplication is *NOT* commutative**: in general $QR ≠ RQ$.\n",
        "\n",
        "In fact, $QR$ and $RQ$ are only *both* defined if $Q$ has size $m \\times n$ and $R$ has size $n \\times m$. Let's look at an example where both *are* defined and show that they are (in general) *NOT* equal:"
      ],
      "metadata": {
        "id": "fvigZ5tPTeeW"
      }
    },
    {
      "cell_type": "code",
      "source": [
        "F = np.array([\n",
        "        [5,2],\n",
        "        [4,1],\n",
        "        [9,3]\n",
        "    ])\n",
        "A @ F"
      ],
      "metadata": {
        "colab": {
          "base_uri": "https://localhost:8080/"
        },
        "id": "oZjT-M7wTd72",
        "outputId": "b19c2ea9-122d-4a1a-84be-474dc1257336"
      },
      "execution_count": 31,
      "outputs": [
        {
          "output_type": "execute_result",
          "data": {
            "text/plain": [
              "array([[400, 130],\n",
              "       [940, 310]])"
            ]
          },
          "metadata": {},
          "execution_count": 31
        }
      ]
    },
    {
      "cell_type": "code",
      "source": [
        "F @ A"
      ],
      "metadata": {
        "colab": {
          "base_uri": "https://localhost:8080/"
        },
        "id": "EtwKldBETlI9",
        "outputId": "b8e7a238-5c8f-43b7-ba19-e62c9fd70a07"
      },
      "execution_count": 32,
      "outputs": [
        {
          "output_type": "execute_result",
          "data": {
            "text/plain": [
              "array([[130, 200, 270],\n",
              "       [ 80, 130, 180],\n",
              "       [210, 330, 450]])"
            ]
          },
          "metadata": {},
          "execution_count": 32
        }
      ]
    },
    {
      "cell_type": "markdown",
      "source": [
        "On the other hand, **matrix multiplication *is* associative**, meaning that $Q(RS) = (QR)S$. Let's create a $4 \\times 5$ matrix $G$ to illustrate this:"
      ],
      "metadata": {
        "id": "WQcSOvLWTpIJ"
      }
    },
    {
      "cell_type": "code",
      "source": [
        "G = np.array([\n",
        "        [8,  7,  4,  2,  5],\n",
        "        [2,  5,  1,  0,  5],\n",
        "        [9, 11, 17, 21,  0],\n",
        "        [0,  1,  0,  1,  2]])\n",
        "(A @ D) @ G     # (AD)G"
      ],
      "metadata": {
        "colab": {
          "base_uri": "https://localhost:8080/"
        },
        "id": "1ir3i1__TzZf",
        "outputId": "8081793f-5d6f-48b2-ec6d-fcdc82b14b74"
      },
      "execution_count": 33,
      "outputs": [
        {
          "output_type": "execute_result",
          "data": {
            "text/plain": [
              "array([[21640, 28390, 27320, 31140, 13570],\n",
              "       [47290, 62080, 60020, 68580, 29500]])"
            ]
          },
          "metadata": {},
          "execution_count": 33
        }
      ]
    },
    {
      "cell_type": "code",
      "source": [
        "A @ (D @ G)     # A(DG)"
      ],
      "metadata": {
        "colab": {
          "base_uri": "https://localhost:8080/"
        },
        "id": "hQGkfp2IT2pS",
        "outputId": "bff0879f-6f15-49f1-f151-cd0f88ab963d"
      },
      "execution_count": 34,
      "outputs": [
        {
          "output_type": "execute_result",
          "data": {
            "text/plain": [
              "array([[21640, 28390, 27320, 31140, 13570],\n",
              "       [47290, 62080, 60020, 68580, 29500]])"
            ]
          },
          "metadata": {},
          "execution_count": 34
        }
      ]
    },
    {
      "cell_type": "markdown",
      "source": [
        "It is also ***distributive* over addition** of matrices, meaning that $(Q + R)S = QS + RS$. For example:"
      ],
      "metadata": {
        "id": "ew0_v-qDTyq2"
      }
    },
    {
      "cell_type": "code",
      "source": [
        "(A + B) @ D"
      ],
      "metadata": {
        "colab": {
          "base_uri": "https://localhost:8080/"
        },
        "id": "V9yMVzBPT8pr",
        "outputId": "8dd932c1-c76c-4e12-e664-9b42245cb4cc"
      },
      "execution_count": 35,
      "outputs": [
        {
          "output_type": "execute_result",
          "data": {
            "text/plain": [
              "array([[1023, 1276, 1452, 1716],\n",
              "       [2211, 2761, 3201, 3795]])"
            ]
          },
          "metadata": {},
          "execution_count": 35
        }
      ]
    },
    {
      "cell_type": "code",
      "source": [
        "A @ D + B @ D"
      ],
      "metadata": {
        "colab": {
          "base_uri": "https://localhost:8080/"
        },
        "id": "QsEsdCxyT_FU",
        "outputId": "c3a5554a-6a09-4145-f445-739ed8183d68"
      },
      "execution_count": 36,
      "outputs": [
        {
          "output_type": "execute_result",
          "data": {
            "text/plain": [
              "array([[1023, 1276, 1452, 1716],\n",
              "       [2211, 2761, 3201, 3795]])"
            ]
          },
          "metadata": {},
          "execution_count": 36
        }
      ]
    },
    {
      "cell_type": "markdown",
      "source": [
        "The product of a matrix $M$ by the identity matrix (of matching size) results in the same matrix $M$. More formally, if $M$ is an $m \\times n$ matrix, then:\n",
        "\n",
        "$M I_n = I_m M = M$\n",
        "\n",
        "This is generally written more concisely (since the size of the identity matrices is unambiguous given the context):\n",
        "\n",
        "$MI = IM = M$\n",
        "\n",
        "For example:"
      ],
      "metadata": {
        "id": "b8UhgR16UCHY"
      }
    },
    {
      "cell_type": "code",
      "source": [
        "A @ np.eye(3)"
      ],
      "metadata": {
        "colab": {
          "base_uri": "https://localhost:8080/"
        },
        "id": "4R6LP6ciUEzV",
        "outputId": "55979a4e-b917-40df-c1d4-994895754dfc"
      },
      "execution_count": 37,
      "outputs": [
        {
          "output_type": "execute_result",
          "data": {
            "text/plain": [
              "array([[10., 20., 30.],\n",
              "       [40., 50., 60.]])"
            ]
          },
          "metadata": {},
          "execution_count": 37
        }
      ]
    },
    {
      "cell_type": "code",
      "source": [
        "np.eye(2) @ A"
      ],
      "metadata": {
        "colab": {
          "base_uri": "https://localhost:8080/"
        },
        "id": "HfMjxgMhUKm5",
        "outputId": "5ec7387b-3cff-4891-b476-e8e0ab66225f"
      },
      "execution_count": 38,
      "outputs": [
        {
          "output_type": "execute_result",
          "data": {
            "text/plain": [
              "array([[10., 20., 30.],\n",
              "       [40., 50., 60.]])"
            ]
          },
          "metadata": {},
          "execution_count": 38
        }
      ]
    },
    {
      "cell_type": "markdown",
      "source": [
        "**Caution**: NumPy's `*` operator performs elementwise multiplication, *NOT* a matrix multiplication:"
      ],
      "metadata": {
        "id": "fwBd4lZFUOP-"
      }
    },
    {
      "cell_type": "code",
      "source": [
        "A * B   # NOT a matrix multiplication"
      ],
      "metadata": {
        "colab": {
          "base_uri": "https://localhost:8080/"
        },
        "id": "IKa61xZrUP_9",
        "outputId": "dbec2fa3-f3eb-4f1d-8587-d307e241477b"
      },
      "execution_count": 39,
      "outputs": [
        {
          "output_type": "execute_result",
          "data": {
            "text/plain": [
              "array([[ 10,  40,  90],\n",
              "       [160, 250, 360]])"
            ]
          },
          "metadata": {},
          "execution_count": 39
        }
      ]
    },
    {
      "cell_type": "markdown",
      "source": [
        "### 7. Matrix transpose\n",
        "The transpose of a matrix $M$ is a matrix noted $M^T$ such that the $i^{th}$ row in $M^T$ is equal to the $i^{th}$ column in $M$:\n",
        "\n",
        "$ A^T =\n",
        "\\begin{bmatrix}\n",
        "  10 & 20 & 30 \\\\\n",
        "  40 & 50 & 60\n",
        "\\end{bmatrix}^T =\n",
        "\\begin{bmatrix}\n",
        "  10 & 40 \\\\\n",
        "  20 & 50 \\\\\n",
        "  30 & 60\n",
        "\\end{bmatrix}$\n",
        "\n",
        "In other words, ($A^T)_{i,j}$ = $A_{j,i}$\n",
        "\n",
        "Obviously, if $M$ is an $m \\times n$ matrix, then $M^T$ is an $n \\times m$ matrix.\n",
        "\n",
        "Note: there are a few other notations, such as $M^t$, $M′$, or ${^t}M$.\n",
        "\n",
        "In NumPy, a matrix's transpose can be obtained simply using the `T` attribute:"
      ],
      "metadata": {
        "id": "j2l2Y05MNsYw"
      }
    },
    {
      "cell_type": "code",
      "source": [
        "A"
      ],
      "metadata": {
        "colab": {
          "base_uri": "https://localhost:8080/"
        },
        "id": "VVncRjK5OJEa",
        "outputId": "f2d40228-5c6b-436d-a52b-46ec336bc02b"
      },
      "execution_count": 40,
      "outputs": [
        {
          "output_type": "execute_result",
          "data": {
            "text/plain": [
              "array([[10, 20, 30],\n",
              "       [40, 50, 60]])"
            ]
          },
          "metadata": {},
          "execution_count": 40
        }
      ]
    },
    {
      "cell_type": "code",
      "source": [
        "A.T"
      ],
      "metadata": {
        "colab": {
          "base_uri": "https://localhost:8080/"
        },
        "id": "I67e4Z4YOK3j",
        "outputId": "4ab44d77-7fb5-4eb7-959f-19c2562a738a"
      },
      "execution_count": 41,
      "outputs": [
        {
          "output_type": "execute_result",
          "data": {
            "text/plain": [
              "array([[10, 40],\n",
              "       [20, 50],\n",
              "       [30, 60]])"
            ]
          },
          "metadata": {},
          "execution_count": 41
        }
      ]
    },
    {
      "cell_type": "markdown",
      "source": [
        "As you might expect, transposing a matrix twice returns the original matrix:"
      ],
      "metadata": {
        "id": "zWFg6aWXONVc"
      }
    },
    {
      "cell_type": "code",
      "source": [
        "A.T.T"
      ],
      "metadata": {
        "colab": {
          "base_uri": "https://localhost:8080/"
        },
        "id": "x4MPV7hWOQBe",
        "outputId": "e7c3c935-ed76-42f4-d75d-886d2903a4a7"
      },
      "execution_count": 42,
      "outputs": [
        {
          "output_type": "execute_result",
          "data": {
            "text/plain": [
              "array([[10, 20, 30],\n",
              "       [40, 50, 60]])"
            ]
          },
          "metadata": {},
          "execution_count": 42
        }
      ]
    },
    {
      "cell_type": "markdown",
      "source": [
        "Transposition is distributive over addition of matrices, meaning that $(Q + R)^T = Q^T + R^T$. For example:"
      ],
      "metadata": {
        "id": "wnPsfganObWj"
      }
    },
    {
      "cell_type": "code",
      "source": [
        "(A + B).T"
      ],
      "metadata": {
        "colab": {
          "base_uri": "https://localhost:8080/"
        },
        "id": "8QHcdvVEOfWr",
        "outputId": "f48a7067-3ce1-4ffc-8ef4-b3df3950b86a"
      },
      "execution_count": 43,
      "outputs": [
        {
          "output_type": "execute_result",
          "data": {
            "text/plain": [
              "array([[11, 44],\n",
              "       [22, 55],\n",
              "       [33, 66]])"
            ]
          },
          "metadata": {},
          "execution_count": 43
        }
      ]
    },
    {
      "cell_type": "code",
      "source": [
        "A.T + B.T"
      ],
      "metadata": {
        "colab": {
          "base_uri": "https://localhost:8080/"
        },
        "id": "hoohEDNcOhqJ",
        "outputId": "59f6e0ca-5a65-4652-d733-6a8adbc9e7d9"
      },
      "execution_count": 44,
      "outputs": [
        {
          "output_type": "execute_result",
          "data": {
            "text/plain": [
              "array([[11, 44],\n",
              "       [22, 55],\n",
              "       [33, 66]])"
            ]
          },
          "metadata": {},
          "execution_count": 44
        }
      ]
    },
    {
      "cell_type": "markdown",
      "source": [
        "Moreover, $(Q \\cdot R)^T = R^T \\cdot Q^T$. Note that the order is reversed. For example:"
      ],
      "metadata": {
        "id": "PPbDgeFsOkSW"
      }
    },
    {
      "cell_type": "code",
      "source": [
        "(A @ D).T"
      ],
      "metadata": {
        "colab": {
          "base_uri": "https://localhost:8080/"
        },
        "id": "upVlgYDqOmgY",
        "outputId": "d7f85468-9239-4f53-a2eb-d402afefc857"
      },
      "execution_count": 45,
      "outputs": [
        {
          "output_type": "execute_result",
          "data": {
            "text/plain": [
              "array([[ 930, 2010],\n",
              "       [1160, 2510],\n",
              "       [1320, 2910],\n",
              "       [1560, 3450]])"
            ]
          },
          "metadata": {},
          "execution_count": 45
        }
      ]
    },
    {
      "cell_type": "code",
      "source": [
        "D.T @ A.T"
      ],
      "metadata": {
        "colab": {
          "base_uri": "https://localhost:8080/"
        },
        "id": "2RuHeZh_Oo8M",
        "outputId": "3198643e-a841-4a31-de48-711f1bfd6769"
      },
      "execution_count": 46,
      "outputs": [
        {
          "output_type": "execute_result",
          "data": {
            "text/plain": [
              "array([[ 930, 2010],\n",
              "       [1160, 2510],\n",
              "       [1320, 2910],\n",
              "       [1560, 3450]])"
            ]
          },
          "metadata": {},
          "execution_count": 46
        }
      ]
    },
    {
      "cell_type": "markdown",
      "source": [
        "A **symmetric matrix** $M$ is defined as a matrix that is equal to its transpose: $M^T = M$. This definition implies that it must be a square matrix whose elements are symmetric relative to the main diagonal, for example:\n",
        "\n",
        "\\begin{bmatrix}\n",
        "  17 & 22 & 27 & 49 \\\\\n",
        "  22 & 29 & 36 & 0 \\\\\n",
        "  27 & 36 & 45 & 2 \\\\\n",
        "  49 & 0 & 2 & 99\n",
        "\\end{bmatrix}\n",
        "\n",
        "The product of a matrix by its transpose is always a symmetric matrix, for example:"
      ],
      "metadata": {
        "id": "tff5p5lKOtSY"
      }
    },
    {
      "cell_type": "code",
      "source": [
        "D @ D.T  #results in symmetric matrix"
      ],
      "metadata": {
        "colab": {
          "base_uri": "https://localhost:8080/"
        },
        "id": "kOh3_7KTOsj7",
        "outputId": "f8e69e95-ad39-429e-e8bb-7558a63a9042"
      },
      "execution_count": 47,
      "outputs": [
        {
          "output_type": "execute_result",
          "data": {
            "text/plain": [
              "array([[  87,  279,  547],\n",
              "       [ 279,  940, 1860],\n",
              "       [ 547, 1860, 3700]])"
            ]
          },
          "metadata": {},
          "execution_count": 47
        }
      ]
    },
    {
      "cell_type": "markdown",
      "source": [
        "### 8. Converting 1D arrays to 2D arrays in NumPy\n",
        "As mentioned earlier, in NumPy (as opposed to Matlab, for example), 1D really means 1D: there is no such thing as a vertical 1D-array or a horizontal 1D-array. So you should not be surprised to see that transposing a 1D array does not do anything:"
      ],
      "metadata": {
        "id": "OaIheKfLPj6u"
      }
    },
    {
      "cell_type": "code",
      "source": [
        "u"
      ],
      "metadata": {
        "colab": {
          "base_uri": "https://localhost:8080/"
        },
        "id": "mpWR1NmwPp6T",
        "outputId": "b47e4656-dc62-4819-db3d-ded37a6e89c0"
      },
      "execution_count": 48,
      "outputs": [
        {
          "output_type": "execute_result",
          "data": {
            "text/plain": [
              "array([2, 5])"
            ]
          },
          "metadata": {},
          "execution_count": 48
        }
      ]
    },
    {
      "cell_type": "code",
      "source": [
        "u.T"
      ],
      "metadata": {
        "colab": {
          "base_uri": "https://localhost:8080/"
        },
        "id": "0SGnpuclb7ZM",
        "outputId": "d6d6ba6f-58dc-4faf-a27b-6cba615aefc6"
      },
      "execution_count": 49,
      "outputs": [
        {
          "output_type": "execute_result",
          "data": {
            "text/plain": [
              "array([2, 5])"
            ]
          },
          "metadata": {},
          "execution_count": 49
        }
      ]
    },
    {
      "cell_type": "markdown",
      "source": [
        "We want to convert $\\textbf{u}$ into a row vector before transposing it. There are a few ways to do this:"
      ],
      "metadata": {
        "id": "t7ghaNhadCbn"
      }
    },
    {
      "cell_type": "code",
      "source": [
        "u_row = np.array([u])\n",
        "u_row"
      ],
      "metadata": {
        "colab": {
          "base_uri": "https://localhost:8080/"
        },
        "id": "-JwW8WxxdGCd",
        "outputId": "a28520b8-d8a4-4708-ea0f-1d08fbbff92d"
      },
      "execution_count": 50,
      "outputs": [
        {
          "output_type": "execute_result",
          "data": {
            "text/plain": [
              "array([[2, 5]])"
            ]
          },
          "metadata": {},
          "execution_count": 50
        }
      ]
    },
    {
      "cell_type": "markdown",
      "source": [
        "Notice the extra square brackets: this is a 2D array with just one row (i.e. a $1 \\times 2$ matrix). In other words, it really is a **row vector**."
      ],
      "metadata": {
        "id": "jyD_Rw8gdQj2"
      }
    },
    {
      "cell_type": "code",
      "source": [
        "u[np.newaxis, :]"
      ],
      "metadata": {
        "colab": {
          "base_uri": "https://localhost:8080/"
        },
        "id": "yRwHbewTdSpv",
        "outputId": "8dcbb84e-c9cb-4ce9-c3b4-83727c3a243f"
      },
      "execution_count": 51,
      "outputs": [
        {
          "output_type": "execute_result",
          "data": {
            "text/plain": [
              "array([[2, 5]])"
            ]
          },
          "metadata": {},
          "execution_count": 51
        }
      ]
    },
    {
      "cell_type": "markdown",
      "source": [
        "This is quite explicit: we are asking for a new vertical axis, keeping the existing data as the horizontal axis."
      ],
      "metadata": {
        "id": "q7u3gtX8dVda"
      }
    },
    {
      "cell_type": "code",
      "source": [
        "u[np.newaxis]"
      ],
      "metadata": {
        "colab": {
          "base_uri": "https://localhost:8080/"
        },
        "id": "639RdiLXdYys",
        "outputId": "848d643d-328e-44fb-9271-aa0de813a9c8"
      },
      "execution_count": 52,
      "outputs": [
        {
          "output_type": "execute_result",
          "data": {
            "text/plain": [
              "array([[2, 5]])"
            ]
          },
          "metadata": {},
          "execution_count": 52
        }
      ]
    },
    {
      "cell_type": "markdown",
      "source": [
        "This is equivalent, but a little less explicit."
      ],
      "metadata": {
        "id": "yRWOw8itdbGq"
      }
    },
    {
      "cell_type": "code",
      "source": [
        "u[None]"
      ],
      "metadata": {
        "colab": {
          "base_uri": "https://localhost:8080/"
        },
        "id": "lpALI7cUdeVo",
        "outputId": "c8bdf122-4045-40c3-ce6d-ebbe3436fda5"
      },
      "execution_count": 53,
      "outputs": [
        {
          "output_type": "execute_result",
          "data": {
            "text/plain": [
              "array([[2, 5]])"
            ]
          },
          "metadata": {},
          "execution_count": 53
        }
      ]
    },
    {
      "cell_type": "markdown",
      "source": [
        "This is the shortest version, but you probably want to avoid it because it is unclear. The reason it works is that `np.newaxis` is actually equal to `None`, so this is equivalent to the previous version.\n",
        "\n",
        "Ok, now let's transpose our row vector:"
      ],
      "metadata": {
        "id": "MMJupwcYdiWO"
      }
    },
    {
      "cell_type": "code",
      "source": [
        "u_row.T"
      ],
      "metadata": {
        "colab": {
          "base_uri": "https://localhost:8080/"
        },
        "id": "faYWaEw1dmvY",
        "outputId": "61e1b49b-675c-4a51-f28b-79c426f7d6c6"
      },
      "execution_count": 54,
      "outputs": [
        {
          "output_type": "execute_result",
          "data": {
            "text/plain": [
              "array([[2],\n",
              "       [5]])"
            ]
          },
          "metadata": {},
          "execution_count": 54
        }
      ]
    },
    {
      "cell_type": "markdown",
      "source": [
        "Great! We now have a nice **column vector**.\n",
        "\n",
        "Rather than creating a row vector then transposing it, it is also possible to convert a 1D array directly into a column vector:"
      ],
      "metadata": {
        "id": "EsX-9OIxdpMh"
      }
    },
    {
      "cell_type": "code",
      "source": [
        "u[:, np.newaxis]"
      ],
      "metadata": {
        "colab": {
          "base_uri": "https://localhost:8080/"
        },
        "id": "mnuSVIfDduBG",
        "outputId": "51c6ec17-a1a5-459f-c28d-1e1998ac53a6"
      },
      "execution_count": 55,
      "outputs": [
        {
          "output_type": "execute_result",
          "data": {
            "text/plain": [
              "array([[2],\n",
              "       [5]])"
            ]
          },
          "metadata": {},
          "execution_count": 55
        }
      ]
    },
    {
      "cell_type": "markdown",
      "source": [
        "The above means:\n",
        "* keep existing elements `:` on the row axis. We have two elements in `u` so we will end up with 2 rows.\n",
        "* create a `np.newaxis` for the column axis. We will end up with 1 new column axis.\n",
        "* In the end, the reuslt is a 2D column vector with 2 rows x 1 column.\n"
      ],
      "metadata": {
        "id": "OFCM4DTedzN9"
      }
    },
    {
      "cell_type": "markdown",
      "source": [
        "### 9. Plotting a matrix\n",
        "We have already seen that vectors can be represented as points or arrows in N-dimensional space. Is there a good graphical representation of matrices? Well you can simply see a matrix as a list of vectors, so plotting a matrix results in many points or arrows. For example, let's create a $2 \\times 4$ matrix `P` and plot it as points:"
      ],
      "metadata": {
        "id": "_azg0-4KfL7G"
      }
    },
    {
      "cell_type": "code",
      "source": [
        "import matplotlib.pyplot as plt\n",
        "\n",
        "P = np.array([\n",
        "        [3.0, 4.0, 1.0, 4.6],\n",
        "        [0.2, 3.5, 2.0, 0.5]\n",
        "    ])\n",
        "x_coords_P, y_coords_P = P\n",
        "plt.scatter(x_coords_P, y_coords_P)\n",
        "plt.axis([0, 5, 0, 4])\n",
        "plt.gca().set_aspect(\"equal\")\n",
        "plt.grid()\n",
        "plt.show()"
      ],
      "metadata": {
        "colab": {
          "base_uri": "https://localhost:8080/",
          "height": 435
        },
        "id": "TIPRd4DtfXQM",
        "outputId": "e838dd56-3449-4567-8ef3-e8a3f3f8642f"
      },
      "execution_count": 56,
      "outputs": [
        {
          "output_type": "display_data",
          "data": {
            "text/plain": [
              "<Figure size 640x480 with 1 Axes>"
            ],
            "image/png": "[encoded data removed]"
          },
          "metadata": {}
        }
      ]
    },
    {
      "cell_type": "markdown",
      "source": [
        "Of course, we could also have stored the same 4 vectors as row vectors instead of column vectors, resulting in a $4 \\times 2$ matrix (the transpose of $P$, in fact). It is really an arbitrary choice.\n",
        "\n",
        "Since the vectors are ordered, you can see the matrix as a path and represent it with connected dots:"
      ],
      "metadata": {
        "id": "A8XNQBhZgB42"
      }
    },
    {
      "cell_type": "code",
      "source": [
        "plt.plot(x_coords_P, y_coords_P, \"bo\")\n",
        "plt.plot(x_coords_P, y_coords_P, \"b--\")\n",
        "plt.axis([0, 5, 0, 4])\n",
        "plt.gca().set_aspect(\"equal\")\n",
        "plt.grid()\n",
        "plt.show()"
      ],
      "metadata": {
        "colab": {
          "base_uri": "https://localhost:8080/",
          "height": 435
        },
        "id": "5z_u7ddngErl",
        "outputId": "a0e18fd2-9244-467c-abda-390f2136e98d"
      },
      "execution_count": 57,
      "outputs": [
        {
          "output_type": "display_data",
          "data": {
            "text/plain": [
              "<Figure size 640x480 with 1 Axes>"
            ],
            "image/png": "[encoded data removed]"
          },
          "metadata": {}
        }
      ]
    },
    {
      "cell_type": "markdown",
      "source": [
        "Or you can represent it as a polygon: matplotlib's `Polygon` class expects an $n \\times 2$ NumPy array, not a $2 \\times n$ array, so we just need to give it $P^T$:"
      ],
      "metadata": {
        "id": "cfa6unP9gHzR"
      }
    },
    {
      "cell_type": "code",
      "source": [
        "from matplotlib.patches import Polygon  # Importing the Polygon class from matplotlib.patches module\n",
        "plt.gca().add_artist(Polygon(P.T))  # Adding the Polygon to the current axes (gca) with its transpose (P.T)\n",
        "plt.axis([0, 5, 0, 4])  # Setting the x-axis and y-axis limits to define the plot boundaries\n",
        "plt.gca().set_aspect(\"equal\")  # Setting the aspect ratio of the plot to equal, ensuring equal scaling in x and y directions\n",
        "plt.grid()  # Adding grid lines to the plot\n",
        "plt.show()  # Displaying the plot\n"
      ],
      "metadata": {
        "colab": {
          "base_uri": "https://localhost:8080/",
          "height": 435
        },
        "id": "d7gCAhqngnxr",
        "outputId": "39a896b3-7c3b-4e84-c817-8e72c4b5a713"
      },
      "execution_count": 58,
      "outputs": [
        {
          "output_type": "display_data",
          "data": {
            "text/plain": [
              "<Figure size 640x480 with 1 Axes>"
            ],
            "image/png": "[encoded data removed]"
          },
          "metadata": {}
        }
      ]
    },
    {
      "cell_type": "markdown",
      "source": [
        "###  10. Geometric applications of matrix operations\n",
        "Earlier in [part1 vector series](https://vmlverse.github.io/posts/2023/06/29/Maths_LinearAlgebra.html) we saw that vector addition results in a geometric translation, vector multiplication by a scalar results in rescaling (zooming in or out, centered on the origin), and vector dot product results in projecting a vector onto another vector, rescaling and measuring the resulting coordinate.\n",
        "\n",
        "Similarly, matrix operations have very useful geometric applications."
      ],
      "metadata": {
        "id": "KsJayhLWgtIP"
      }
    },
    {
      "cell_type": "markdown",
      "source": [
        "#### a. Addition = multiple geometric translations\n",
        "First, adding two matrices together is equivalent to adding all their vectors together. For example, let's create a $2 \\times 4$ matrix $H$ and add it to $P$, and look at the result:"
      ],
      "metadata": {
        "id": "bPFEQ04BBtDC"
      }
    },
    {
      "cell_type": "code",
      "source": [
        "def plot_vector2d(vector2d, origin=[0, 0], **options):\n",
        "    return plt.arrow(origin[0], origin[1], vector2d[0], vector2d[1],\n",
        "              head_width=0.2, head_length=0.3, length_includes_head=True,\n",
        "              **options)"
      ],
      "metadata": {
        "id": "i7foW-7iCNlu"
      },
      "execution_count": 59,
      "outputs": []
    },
    {
      "cell_type": "code",
      "source": [
        "H = np.array([\n",
        "        [ 0.5, -0.2, 0.2, -0.1],\n",
        "        [ 0.4,  0.4, 1.5, 0.6]\n",
        "    ])\n",
        "P_moved = P + H\n",
        "\n",
        "plt.gca().add_artist(Polygon(P.T, alpha=0.2))\n",
        "plt.gca().add_artist(Polygon(P_moved.T, alpha=0.3, color=\"r\"))\n",
        "for vector, origin in zip(H.T, P.T):\n",
        "    plot_vector2d(vector, origin=origin)\n",
        "\n",
        "plt.text(2.2, 1.8, \"$P$\", color=\"b\", fontsize=18)\n",
        "plt.text(2.0, 3.2, \"$P+H$\", color=\"r\", fontsize=18)\n",
        "plt.text(2.5, 0.5, \"$H_{*,1}$\", color=\"k\", fontsize=18)\n",
        "plt.text(4.1, 3.5, \"$H_{*,2}$\", color=\"k\", fontsize=18)\n",
        "plt.text(0.4, 2.6, \"$H_{*,3}$\", color=\"k\", fontsize=18)\n",
        "plt.text(4.3, 0.2, \"$H_{*,4}$\", color=\"k\", fontsize=18)\n",
        "\n",
        "plt.axis([0, 5, 0, 4])\n",
        "plt.gca().set_aspect(\"equal\")\n",
        "plt.grid()\n",
        "plt.show()"
      ],
      "metadata": {
        "colab": {
          "base_uri": "https://localhost:8080/",
          "height": 435
        },
        "id": "ktiwB3-jBzxN",
        "outputId": "51c65a1b-34b3-4277-af13-0c3fec004735"
      },
      "execution_count": 60,
      "outputs": [
        {
          "output_type": "display_data",
          "data": {
            "text/plain": [
              "<Figure size 640x480 with 1 Axes>"
            ],
            "image/png": "[encoded data removed]"
          },
          "metadata": {}
        }
      ]
    },
    {
      "cell_type": "markdown",
      "source": [
        "#### b. Scalar multiplication\n",
        "Multiplying a matrix by a scalar results in all its vectors being multiplied by that scalar, so unsurprisingly, the geometric result is a rescaling of the entire figure. For example, let's rescale our polygon by a factor of 60% (zooming out, centered on the origin):"
      ],
      "metadata": {
        "id": "klAqtzh8CkqG"
      }
    },
    {
      "cell_type": "code",
      "source": [
        "def plot_transformation(P_before, P_after, text_before, text_after, axis = [0, 5, 0, 4], arrows=False):\n",
        "    if arrows:\n",
        "        for vector_before, vector_after in zip(P_before.T, P_after.T):\n",
        "            plot_vector2d(vector_before, color=\"blue\", linestyle=\"--\")\n",
        "            plot_vector2d(vector_after, color=\"red\", linestyle=\"-\")\n",
        "    plt.gca().add_artist(Polygon(P_before.T, alpha=0.2))\n",
        "    plt.gca().add_artist(Polygon(P_after.T, alpha=0.3, color=\"r\"))\n",
        "    plt.plot(P_before[0], P_before[1], \"b--\", alpha=0.5)\n",
        "    plt.plot(P_after[0], P_after[1], \"r--\", alpha=0.5)\n",
        "    plt.text(P_before[0].mean(), P_before[1].mean(), text_before, fontsize=18, color=\"blue\")\n",
        "    plt.text(P_after[0].mean(), P_after[1].mean(), text_after, fontsize=18, color=\"red\")\n",
        "    plt.axis(axis)\n",
        "    plt.gca().set_aspect(\"equal\")\n",
        "    plt.grid()\n",
        "\n",
        "P_rescaled = 0.60 * P\n",
        "plot_transformation(P, P_rescaled, \"$P$\", \"$0.6 P$\", arrows=True)\n",
        "plt.show()"
      ],
      "metadata": {
        "colab": {
          "base_uri": "https://localhost:8080/",
          "height": 435
        },
        "id": "fUJ6JYTDCrCI",
        "outputId": "1a888af6-e4dc-439a-c3f2-7b16ec0e94ca"
      },
      "execution_count": 61,
      "outputs": [
        {
          "output_type": "display_data",
          "data": {
            "text/plain": [
              "<Figure size 640x480 with 1 Axes>"
            ],
            "image/png": "[encoded data removed]"
          },
          "metadata": {}
        }
      ]
    },
    {
      "cell_type": "markdown",
      "source": [
        "#### c. Matrix multiplication – Projection onto an axis\n",
        "Matrix multiplication is more complex to visualize, but it is also the most powerful tool in the box.\n",
        "\n",
        "Let's start simple, by defining a $1 \\times 2$ matrix $U = \\begin{bmatrix} 1 & 0 \\end{bmatrix}$. This row vector is just the horizontal unit vector."
      ],
      "metadata": {
        "id": "f9chkq8gCwGo"
      }
    },
    {
      "cell_type": "code",
      "source": [
        "U = np.array([[1, 0]])"
      ],
      "metadata": {
        "id": "ywuxExYXCv1e"
      },
      "execution_count": 62,
      "outputs": []
    },
    {
      "cell_type": "markdown",
      "source": [
        "Now let's look at the dot product $U \\cdot P$:"
      ],
      "metadata": {
        "id": "ya4ca-VgC-EW"
      }
    },
    {
      "cell_type": "code",
      "source": [
        "P"
      ],
      "metadata": {
        "colab": {
          "base_uri": "https://localhost:8080/"
        },
        "id": "0GfuIEImjwUh",
        "outputId": "b7ce411b-842a-4169-a244-cee37cbf7d9f"
      },
      "execution_count": 63,
      "outputs": [
        {
          "output_type": "execute_result",
          "data": {
            "text/plain": [
              "array([[3. , 4. , 1. , 4.6],\n",
              "       [0.2, 3.5, 2. , 0.5]])"
            ]
          },
          "metadata": {},
          "execution_count": 63
        }
      ]
    },
    {
      "cell_type": "code",
      "source": [
        "U @ P"
      ],
      "metadata": {
        "colab": {
          "base_uri": "https://localhost:8080/"
        },
        "id": "mmJB6ac4DA-C",
        "outputId": "ac2b3303-3acd-4748-d575-ff8fc0c9ea74"
      },
      "execution_count": 64,
      "outputs": [
        {
          "output_type": "execute_result",
          "data": {
            "text/plain": [
              "array([[3. , 4. , 1. , 4.6]])"
            ]
          },
          "metadata": {},
          "execution_count": 64
        }
      ]
    },
    {
      "cell_type": "markdown",
      "source": [
        "These are the horizontal coordinates of the vectors in $P$. In other words, we just projected $P$ onto the horizontal axis:"
      ],
      "metadata": {
        "id": "2ALjp0WUDOk5"
      }
    },
    {
      "cell_type": "code",
      "source": [
        "def plot_projection(U, P, axis=[0, 5, 0, 4]):\n",
        "    U_P = U @ P  # Calculate the projection of P onto U using matrix multiplication\n",
        "\n",
        "    axis_end = 100 * U  # Determine the end point of the axis for visualization purposes\n",
        "    plot_vector2d(axis_end[0], color=\"black\")  # Plot the axis represented by the vector axis_end\n",
        "\n",
        "    plt.gca().add_artist(Polygon(P.T, alpha=0.2))  # Add a polygon representing P to the plot with transparency\n",
        "\n",
        "    # Iterate over the columns of P and U_P simultaneously\n",
        "    for vector, proj_coordinate in zip(P.T, U_P.T):\n",
        "        proj_point = proj_coordinate * U  # Calculate the projected point by scaling U with the projection coordinate\n",
        "        plt.plot(proj_point[0][0], proj_point[0][1], \"ro\", zorder=10)  # Plot the projected point as a red dot\n",
        "        plt.plot([vector[0], proj_point[0][0]], [vector[1], proj_point[0][1]],\n",
        "                 \"r--\", zorder=10)  # Plot a dashed line connecting the original point to the projected point\n",
        "\n",
        "    plt.axis(axis)  # Set the x-axis and y-axis limits for the plot\n",
        "    plt.gca().set_aspect(\"equal\")  # Set the aspect ratio of the plot to ensure equal scaling in x and y directions\n",
        "    plt.grid()  # Add grid lines to the plot\n",
        "    plt.show()  # Display the plot\n",
        "\n",
        "\n",
        "plot_vector2d(U[0,:], color=\"r\")\n",
        "plot_projection(U, P)"
      ],
      "metadata": {
        "colab": {
          "base_uri": "https://localhost:8080/",
          "height": 435
        },
        "id": "y_oEkDeWDN2Q",
        "outputId": "4ff88400-3321-4d01-93db-be589b56f738"
      },
      "execution_count": 65,
      "outputs": [
        {
          "output_type": "display_data",
          "data": {
            "text/plain": [
              "<Figure size 640x480 with 1 Axes>"
            ],
            "image/png": "[encoded data removed]"
          },
          "metadata": {}
        }
      ]
    },
    {
      "cell_type": "markdown",
      "source": [
        "We can actually project on any other axis by just replacing $U$ with any other unit vector. For example, let's project on the axis that is at a 30° angle above the horizontal axis:\n",
        "\n",
        "First, we are calculating the angle `angle30` in radians.\n",
        "\n",
        "Then, we are creating a 2-dimensional NumPy array `U_30` that represents a vector with a magnitude of `1` and an angle of `30` degrees (or `angle30` in radians). Here's how it works:\n",
        "- `np.cos(angle30)` returns the cosine of `angle30`. This gives us the x-component of the unit vector.\n",
        "- `np.sin(angle30)` returns the sine of `angle30`. This gives us the y-component of the unit vector.\n",
        "- `[[np.cos(angle30), np.sin(angle30)]]` creates a 2-dimensional array with the x-component as the first element and the y-component as the second element.\n",
        "- Finally, the whole array is assigned to the variable `U_30`.\n"
      ],
      "metadata": {
        "id": "8s0FacgAIPSK"
      }
    },
    {
      "cell_type": "code",
      "source": [
        "angle30 = 30 * np.pi / 180  # calculate 30 degree angle in radians\n",
        "U_30 = np.array([[np.cos(angle30), np.sin(angle30)]])\n",
        "plot_vector2d(U_30[0,:], color=\"r\")\n",
        "plot_projection(U_30, P)"
      ],
      "metadata": {
        "colab": {
          "base_uri": "https://localhost:8080/",
          "height": 435
        },
        "id": "7zUIhrCsJET5",
        "outputId": "4bbfa962-05af-47cc-f44e-2359cd84738b"
      },
      "execution_count": 66,
      "outputs": [
        {
          "output_type": "display_data",
          "data": {
            "text/plain": [
              "<Figure size 640x480 with 1 Axes>"
            ],
            "image/png": "[encoded data removed]"
          },
          "metadata": {}
        }
      ]
    },
    {
      "cell_type": "markdown",
      "source": [
        "Good! Remember that the dot product of a unit vector and a matrix basically performs a projection on an axis and gives us the coordinates of the resulting points on that axis."
      ],
      "metadata": {
        "id": "0G2N79lRKXev"
      }
    },
    {
      "cell_type": "markdown",
      "source": [
        "#### d. Matrix multiplication – Rotation\n",
        "Now let's create a $2 \\times 2$ matrix $V$ containing two unit vectors that make 30° and 120° angles with the horizontal axis:\n",
        "\n",
        "$V = \\begin{bmatrix} \\cos(30°) & \\sin(30°) \\\\ \\cos(120°) & \\sin(120°) \\end{bmatrix}$"
      ],
      "metadata": {
        "id": "xCuHXksqKawG"
      }
    },
    {
      "cell_type": "code",
      "source": [
        "angle120 = 120 * np.pi / 180\n",
        "V = np.array([\n",
        "        [np.cos(angle30), np.sin(angle30)],\n",
        "        [np.cos(angle120), np.sin(angle120)]\n",
        "    ])\n",
        "V"
      ],
      "metadata": {
        "colab": {
          "base_uri": "https://localhost:8080/"
        },
        "id": "hqgOn09_KkGE",
        "outputId": "28e64b14-4dc4-47cc-9c8e-a2fb0610a986"
      },
      "execution_count": 67,
      "outputs": [
        {
          "output_type": "execute_result",
          "data": {
            "text/plain": [
              "array([[ 0.8660254,  0.5      ],\n",
              "       [-0.5      ,  0.8660254]])"
            ]
          },
          "metadata": {},
          "execution_count": 67
        }
      ]
    },
    {
      "cell_type": "markdown",
      "source": [
        "Let's look at the product $VP$:"
      ],
      "metadata": {
        "id": "ik9YZ9RxKnUh"
      }
    },
    {
      "cell_type": "code",
      "source": [
        "V @ P"
      ],
      "metadata": {
        "colab": {
          "base_uri": "https://localhost:8080/"
        },
        "id": "z8uNQXDqKpUM",
        "outputId": "33d4ca8b-a503-4e1d-8b48-223e7690eb6d"
      },
      "execution_count": 68,
      "outputs": [
        {
          "output_type": "execute_result",
          "data": {
            "text/plain": [
              "array([[ 2.69807621,  5.21410162,  1.8660254 ,  4.23371686],\n",
              "       [-1.32679492,  1.03108891,  1.23205081, -1.8669873 ]])"
            ]
          },
          "metadata": {},
          "execution_count": 68
        }
      ]
    },
    {
      "cell_type": "markdown",
      "source": [
        "* The first row is equal to $V_{1,*} P$, which is the coordinates of the projection of $P$ onto the 30° axis, as we have seen above.\n",
        "* The second row is $V_{2,*} P$, which is the coordinates of the projection of $P$ onto the 120° axis.\n",
        "* So basically we obtained the coordinates of $P$ after rotating the horizontal and vertical axes by 30° (or equivalently after rotating the polygon by -30° around the origin)! Let's plot $VP$ to see this:"
      ],
      "metadata": {
        "id": "SyeXiAWNKtSB"
      }
    },
    {
      "cell_type": "code",
      "source": [
        "plot_projection(np.array([V[0,:]]), P)"
      ],
      "metadata": {
        "colab": {
          "base_uri": "https://localhost:8080/",
          "height": 435
        },
        "id": "Ck0CtQcyLtej",
        "outputId": "792a0270-f52f-41e6-a2ad-b4b124a5f677"
      },
      "execution_count": 69,
      "outputs": [
        {
          "output_type": "display_data",
          "data": {
            "text/plain": [
              "<Figure size 640x480 with 1 Axes>"
            ],
            "image/png": "[encoded data removed]"
          },
          "metadata": {}
        }
      ]
    },
    {
      "cell_type": "code",
      "source": [
        "plot_projection(np.array([V[1,:]]), P, axis=[-5, 5, -4, 4])"
      ],
      "metadata": {
        "colab": {
          "base_uri": "https://localhost:8080/",
          "height": 435
        },
        "id": "KNOtxnKAM3Rh",
        "outputId": "e3613d07-23bc-4603-b2d9-fd64e4321a8d"
      },
      "execution_count": 70,
      "outputs": [
        {
          "output_type": "display_data",
          "data": {
            "text/plain": [
              "<Figure size 640x480 with 1 Axes>"
            ],
            "image/png": "[encoded data removed]"
          },
          "metadata": {}
        }
      ]
    },
    {
      "cell_type": "code",
      "source": [
        "P_rotated = V @ P\n",
        "\n",
        "plot_vector2d(V[0,:], color=\"black\")\n",
        "plot_vector2d(V[1,:], color=\"black\")\n",
        "plot_transformation(P, P_rotated, \"$P$\", \"$VP$\", [-2, 6, -2, 4], arrows=True)\n",
        "plt.show()"
      ],
      "metadata": {
        "colab": {
          "base_uri": "https://localhost:8080/",
          "height": 435
        },
        "id": "2lvaGL3FKsxi",
        "outputId": "0d719e1f-d5a0-470a-9bb5-5038ab30cebb"
      },
      "execution_count": 71,
      "outputs": [
        {
          "output_type": "display_data",
          "data": {
            "text/plain": [
              "<Figure size 640x480 with 1 Axes>"
            ],
            "image/png": "[encoded data removed]"
          },
          "metadata": {}
        }
      ]
    },
    {
      "cell_type": "markdown",
      "source": [
        "Matrix $V$ is called a **rotation matrix**."
      ],
      "metadata": {
        "id": "eoZnN9C5O-KV"
      }
    },
    {
      "cell_type": "markdown",
      "source": [
        "#### e. Matrix multiplication – Other linear transformations\n",
        "More generally, any linear transformation $f$ that maps n-dimensional vectors to m-dimensional vectors can be represented as an $m \\times n$ matrix. For example, say $\\textbf{u}$ is a 3-dimensional vector:\n",
        "\n",
        "$\\textbf{u} = \\begin{pmatrix} x \\\\ y \\\\ z \\end{pmatrix}$\n",
        "\n",
        "and $f$ is defined as:\n",
        "\n",
        "$f(\\textbf{u}) = \\begin{pmatrix}\n",
        "ax + by + cz \\\\\n",
        "dx + ey + fz\n",
        "\\end{pmatrix}$\n",
        "\n",
        "This transformation $f$ maps 3-dimensional vectors to 2-dimensional vectors in a linear way (i.e. the resulting coordinates only involve sums of multiples of the original coordinates). We can represent this transformation as matrix $F$:\n",
        "\n",
        "$F = \\begin{bmatrix}\n",
        "a & b & c \\\\\n",
        "d & e & f\n",
        "\\end{bmatrix}$\n",
        "\n",
        "Now, to compute $f(\\textbf{u})$ we can simply do a matrix multiplication:\n",
        "\n",
        "$f(\\textbf{u}) = F \\textbf{u}$\n",
        "\n",
        "If we have a matrix $G = \\begin{bmatrix}\\textbf{u}_1 & \\textbf{u}_2 & \\cdots & \\textbf{u}_q \\end{bmatrix}$, where each $\\textbf{u}_i$ is a 3-dimensional column vector, then $FG$ results in the linear transformation of all vectors $\\textbf{u}_i$ as defined by the matrix $F$:\n",
        "\n",
        "$FG = \\begin{bmatrix}f(\\textbf{u}_1) & f(\\textbf{u}_2) & \\cdots & f(\\textbf{u}_q) \\end{bmatrix}$\n",
        "\n",
        "To summarize, the matrix on the left-hand side of a dot product specifies what linear transformation to apply to the right-hand side vectors. We have already shown that this can be used to perform projections and rotations, but any other linear transformation is possible. For example, here is a transformation known as a *shear mapping*:"
      ],
      "metadata": {
        "id": "0eNseMmMPCSA"
      }
    },
    {
      "cell_type": "code",
      "source": [
        "F_shear = np.array([\n",
        "        [1, 1.5],\n",
        "        [0, 1]\n",
        "    ])\n",
        "\n",
        "plot_vector2d(F_shear[:,0], color=\"r\")\n",
        "plot_vector2d(F_shear[:,1], color=\"r\")\n",
        "plot_transformation(P, F_shear @ P, \"$P$\", \"$F_{shear} P$\",\n",
        "                    axis=[0, 10, 0, 7])\n",
        "plt.show()"
      ],
      "metadata": {
        "colab": {
          "base_uri": "https://localhost:8080/",
          "height": 413
        },
        "id": "9-JbXGHkURRc",
        "outputId": "5e99a464-9040-4518-9576-9dfa02d993d1"
      },
      "execution_count": 72,
      "outputs": [
        {
          "output_type": "display_data",
          "data": {
            "text/plain": [
              "<Figure size 640x480 with 1 Axes>"
            ],
            "image/png": "[encoded data removed]"
          },
          "metadata": {}
        }
      ]
    },
    {
      "cell_type": "markdown",
      "source": [
        "Let's look at how this transformation affects the **unit square**:"
      ],
      "metadata": {
        "id": "MbZH9wsLXfUX"
      }
    },
    {
      "cell_type": "code",
      "source": [
        "Square = np.array([\n",
        "        [0, 0, 1, 1],\n",
        "        [0, 1, 1, 0]\n",
        "    ])\n",
        "\n",
        "#Note P is represented as a 2x4 matrix where row1 contains x-values and row2 contains Y values.\n",
        "#To align with P, we want our transformataion matrix setup the same way. i.e., row1-x-values and row2-y values.\n",
        "#This is the reason why we are plotting F_shear[:,0] - column1 with row1 (x-values) and row2 (y-values).\n",
        "#Therefore F_shear[:,0] (column 1) is the first transformation axis instead of original x-axis.\n",
        "#Therefore F_shear[:,1] (column 2) is the second transformation axis instead of original x-axis.\n",
        "plot_vector2d(F_shear[:,0], color=\"r\")\n",
        "plot_vector2d(F_shear[:,1], color=\"r\")\n",
        "plot_transformation(Square, F_shear @ Square, \"$Square$\", \"$F_{shear} Square$\",\n",
        "                    axis=[0, 2.6, 0, 1.8])\n",
        "plt.show()"
      ],
      "metadata": {
        "colab": {
          "base_uri": "https://localhost:8080/",
          "height": 409
        },
        "id": "R-luRA-aXi7v",
        "outputId": "6babe5ff-14d9-4cc5-e63a-400c00c80cd5"
      },
      "execution_count": 73,
      "outputs": [
        {
          "output_type": "display_data",
          "data": {
            "text/plain": [
              "<Figure size 640x480 with 1 Axes>"
            ],
            "image/png": "[encoded data removed]"
          },
          "metadata": {}
        }
      ]
    },
    {
      "cell_type": "markdown",
      "source": [
        "Now let's look at a **squeeze mapping**:"
      ],
      "metadata": {
        "id": "snu8jREOX9jg"
      }
    },
    {
      "cell_type": "code",
      "source": [
        "F_squeeze = np.array([\n",
        "        [1.4, 0],\n",
        "        [0, 1/1.4]\n",
        "    ])\n",
        "\n",
        "plot_vector2d(F_squeeze[:,0], color=\"r\")\n",
        "plot_vector2d(F_squeeze[:,1], color=\"r\")\n",
        "plot_transformation(P, F_squeeze @ P, \"$P$\", \"$F_{squeeze} P$\",\n",
        "                    axis=[0, 7, 0, 5])\n",
        "plt.show()"
      ],
      "metadata": {
        "colab": {
          "base_uri": "https://localhost:8080/",
          "height": 420
        },
        "id": "gglW-InUYHv3",
        "outputId": "b03428b0-5854-4602-d048-07907edca5cc"
      },
      "execution_count": 74,
      "outputs": [
        {
          "output_type": "display_data",
          "data": {
            "text/plain": [
              "<Figure size 640x480 with 1 Axes>"
            ],
            "image/png": "[encoded data removed]"
          },
          "metadata": {}
        }
      ]
    },
    {
      "cell_type": "code",
      "source": [
        "plot_vector2d(F_squeeze[:,0], color=\"r\")\n",
        "plot_vector2d(F_squeeze[:,1], color=\"r\")\n",
        "plot_transformation(Square, F_squeeze @ Square, \"$Square$\", \"$F_{squeeze} Square$\",\n",
        "                    axis=[0, 1.8, 0, 1.2])\n",
        "plt.show()"
      ],
      "metadata": {
        "colab": {
          "base_uri": "https://localhost:8080/",
          "height": 396
        },
        "id": "hQKTxNMHfdK8",
        "outputId": "967dcc56-93ee-45e4-eff1-5d38c2417905"
      },
      "execution_count": 75,
      "outputs": [
        {
          "output_type": "display_data",
          "data": {
            "text/plain": [
              "<Figure size 640x480 with 1 Axes>"
            ],
            "image/png": "[encoded data removed]"
          },
          "metadata": {}
        }
      ]
    },
    {
      "cell_type": "code",
      "source": [
        "F_reflect = np.array([\n",
        "        [1, 0],\n",
        "        [0, -1]\n",
        "    ])\n",
        "\n",
        "plot_vector2d(F_reflect[:,0], color=\"r\")\n",
        "plot_vector2d(F_reflect[:,1], color=\"r\")\n",
        "plot_transformation(P, F_reflect @ P, \"$P$\", \"$F_{reflect} P$\",\n",
        "                    axis=[-7, 7, -5, 5])\n",
        "plt.show()"
      ],
      "metadata": {
        "colab": {
          "base_uri": "https://localhost:8080/",
          "height": 415
        },
        "id": "kCy5iIS_ayqJ",
        "outputId": "e91a65b0-d225-4aa7-990d-ba375d2e0dc6"
      },
      "execution_count": 76,
      "outputs": [
        {
          "output_type": "display_data",
          "data": {
            "text/plain": [
              "<Figure size 640x480 with 1 Axes>"
            ],
            "image/png": "[encoded data removed]"
          },
          "metadata": {}
        }
      ]
    },
    {
      "cell_type": "markdown",
      "source": [
        "### 11. Matrix inverse\n",
        "* Now that we understand that a matrix can represent any linear transformation, a natural question is: can we find a transformation matrix that reverses the effect of a given transformation matrix $F$? The answer is yes… sometimes! When it exists, such a matrix is called the **inverse** of $F$, and it is noted $F^{-1}$.\n",
        "\n",
        "For example, the rotation, the shear mapping and the squeeze mapping above all have inverse transformations. Let's demonstrate this on the shear mapping:"
      ],
      "metadata": {
        "id": "VDDs6oa_fs3S"
      }
    },
    {
      "cell_type": "code",
      "source": [
        "F_inv_shear = np.array([\n",
        "    [1, -1.5],\n",
        "    [0, 1]\n",
        "])\n",
        "P_sheared = F_shear @ P\n",
        "P_unsheared = F_inv_shear @ P_sheared\n",
        "plot_vector2d(P_sheared[:,0], color=\"blue\")\n",
        "plot_vector2d(P_sheared[:,1], color=\"blue\")\n",
        "plot_vector2d(P_unsheared[:,0], color=\"red\")\n",
        "plot_vector2d(P_unsheared[:,1], color=\"red\")\n",
        "plot_transformation(P_sheared, P_unsheared, \"$P_{sheared}$\", \"$P_{unsheared}$\",\n",
        "                    axis=[0, 10, 0, 7])\n",
        "plt.plot(P[0], P[1], \"b--\")\n",
        "plt.show()"
      ],
      "metadata": {
        "colab": {
          "base_uri": "https://localhost:8080/",
          "height": 413
        },
        "id": "tmLbxFPcOw5G",
        "outputId": "80554020-1b14-4aae-896c-c36164ce57a2"
      },
      "execution_count": 77,
      "outputs": [
        {
          "output_type": "display_data",
          "data": {
            "text/plain": [
              "<Figure size 640x480 with 1 Axes>"
            ],
            "image/png": "[encoded data removed]"
          },
          "metadata": {}
        }
      ]
    },
    {
      "cell_type": "markdown",
      "source": [
        "We applied a shear mapping on $P$, just like we did before, but then we applied a second transformation to the result, and *lo and behold* this had the effect of coming back to the original $P$ (I've plotted the original $P$'s outline to double-check). The second transformation is the inverse of the first one.\n",
        "\n",
        "We defined the inverse matrix $F_{shear}^{-1}$ manually this time, but NumPy provides an `inv` function to compute a matrix's inverse, so we could have written instead:"
      ],
      "metadata": {
        "id": "dHEjVRR2PpSX"
      }
    },
    {
      "cell_type": "code",
      "source": [
        "import numpy.linalg as LA\n",
        "F_inv_shear = LA.inv(F_shear)\n",
        "F_inv_shear"
      ],
      "metadata": {
        "colab": {
          "base_uri": "https://localhost:8080/"
        },
        "id": "Vg_wjjXTPscm",
        "outputId": "8a5730c0-4201-4d17-f015-3a4f4090817b"
      },
      "execution_count": 78,
      "outputs": [
        {
          "output_type": "execute_result",
          "data": {
            "text/plain": [
              "array([[ 1. , -1.5],\n",
              "       [ 0. ,  1. ]])"
            ]
          },
          "metadata": {},
          "execution_count": 78
        }
      ]
    },
    {
      "cell_type": "markdown",
      "source": [
        "Only square matrices can be inversed. This makes sense when you think about it: if you have a transformation that reduces the number of dimensions, then some information is lost and there is no way that you can get it back. For example say you use a $2 \\times 3$ matrix to project a 3D object onto a plane. The result may look like this:"
      ],
      "metadata": {
        "id": "Xy-qnKkYP_pQ"
      }
    },
    {
      "cell_type": "code",
      "source": [
        "plt.plot([0, 0, 1, 1, 0, 0.1, 0.1, 0, 0.1, 1.1, 1.0, 1.1, 1.1, 1.0, 1.1, 0.1],\n",
        "         [0, 1, 1, 0, 0, 0.1, 1.1, 1.0, 1.1, 1.1, 1.0, 1.1, 0.1, 0, 0.1, 0.1],\n",
        "         \"r-\")\n",
        "plt.axis([-0.5, 2.1, -0.5, 1.5])\n",
        "plt.gca().set_aspect(\"equal\")\n",
        "plt.grid()\n",
        "plt.show()"
      ],
      "metadata": {
        "colab": {
          "base_uri": "https://localhost:8080/",
          "height": 435
        },
        "id": "HBrjepaFQDzr",
        "outputId": "feda0465-3eb9-45cd-f399-00740411f4d7"
      },
      "execution_count": 79,
      "outputs": [
        {
          "output_type": "display_data",
          "data": {
            "text/plain": [
              "<Figure size 640x480 with 1 Axes>"
            ],
            "image/png": "[encoded data removed]"
          },
          "metadata": {}
        }
      ]
    },
    {
      "cell_type": "markdown",
      "source": [
        "Looking at this image, it is impossible to tell whether this is the projection of a cube or the projection of a narrow rectangular object. Some information has been lost in the projection.\n",
        "\n",
        "#### Singular or Degenerate Matrix\n",
        "Even square transformation matrices can lose information. For example, consider this transformation matrix:"
      ],
      "metadata": {
        "id": "wwfJe2YOQec9"
      }
    },
    {
      "cell_type": "code",
      "source": [
        "F_project = np.array([\n",
        "        [1, 0],\n",
        "        [0, 0]\n",
        "    ])\n",
        "plot_transformation(P, F_project @ P, \"$P$\", r\"$F_{project} \\cdot P$\",\n",
        "                    axis=[0, 6, -1, 4])\n",
        "plt.show()"
      ],
      "metadata": {
        "colab": {
          "base_uri": "https://localhost:8080/",
          "height": 435
        },
        "id": "-avnqmr7QjZh",
        "outputId": "7248dff3-5574-47c5-8805-dc3521f30e56"
      },
      "execution_count": 80,
      "outputs": [
        {
          "output_type": "display_data",
          "data": {
            "text/plain": [
              "<Figure size 640x480 with 1 Axes>"
            ],
            "image/png": "[encoded data removed]"
          },
          "metadata": {}
        }
      ]
    },
    {
      "cell_type": "markdown",
      "source": [
        "This transformation matrix performs a projection onto the horizontal axis. Our polygon gets entirely flattened out so some information is entirely lost, and it is impossible to go back to the original polygon using a linear transformation. In other words, $F_{project}$ has no inverse. Such a square matrix that cannot be inversed is called a **singular matrix** (aka degenerate matrix). If we ask NumPy to calculate its inverse, it raises an exception:"
      ],
      "metadata": {
        "id": "BssjwPHyQ2XC"
      }
    },
    {
      "cell_type": "code",
      "source": [
        "try:\n",
        "    LA.inv(F_project)\n",
        "except LA.LinAlgError as e:\n",
        "    print(\"LinAlgError:\", e)"
      ],
      "metadata": {
        "colab": {
          "base_uri": "https://localhost:8080/"
        },
        "id": "dlraG0ziQ-1q",
        "outputId": "4a7d4485-3a22-4275-800e-a621a99ccd38"
      },
      "execution_count": 81,
      "outputs": [
        {
          "output_type": "stream",
          "name": "stdout",
          "text": [
            "LinAlgError: Singular matrix\n"
          ]
        }
      ]
    },
    {
      "cell_type": "markdown",
      "source": [
        "Here is another example of a singular matrix. This one performs a projection onto the axis at a 30° angle above the horizontal axis:"
      ],
      "metadata": {
        "id": "cQO9HrWwRCKH"
      }
    },
    {
      "cell_type": "code",
      "source": [
        "angle30 = 30 * np.pi / 180\n",
        "F_project_30 = np.array([\n",
        "               [np.cos(angle30)**2, np.sin(2*angle30)/2],\n",
        "               [np.sin(2*angle30)/2, np.sin(angle30)**2]\n",
        "         ])\n",
        "plot_transformation(P, F_project_30 @ P, \"$P$\", r\"$F_{project\\_30} \\cdot P$\",\n",
        "                    axis=[0, 6, -1, 4])\n",
        "plt.show()"
      ],
      "metadata": {
        "colab": {
          "base_uri": "https://localhost:8080/",
          "height": 435
        },
        "id": "xOPmbpSQRFiG",
        "outputId": "c5d35f5b-dc27-474f-bf82-61652bac928a"
      },
      "execution_count": 82,
      "outputs": [
        {
          "output_type": "display_data",
          "data": {
            "text/plain": [
              "<Figure size 640x480 with 1 Axes>"
            ],
            "image/png": "[encoded data removed]"
          },
          "metadata": {}
        }
      ]
    },
    {
      "cell_type": "markdown",
      "source": [
        "But this time, due to floating point rounding errors, NumPy manages to calculate an inverse (notice how large the elements are, though):"
      ],
      "metadata": {
        "id": "6-WEo99lRPsf"
      }
    },
    {
      "cell_type": "code",
      "source": [
        "LA.inv(F_project_30)"
      ],
      "metadata": {
        "colab": {
          "base_uri": "https://localhost:8080/"
        },
        "id": "2dgBN0hIRT9m",
        "outputId": "2a521b71-d364-4970-eafc-e3dd2ae3aba7"
      },
      "execution_count": 83,
      "outputs": [
        {
          "output_type": "execute_result",
          "data": {
            "text/plain": [
              "array([[ 1.20095990e+16, -2.08012357e+16],\n",
              "       [-2.08012357e+16,  3.60287970e+16]])"
            ]
          },
          "metadata": {},
          "execution_count": 83
        }
      ]
    },
    {
      "cell_type": "markdown",
      "source": [
        "As you might expect, the dot product of a matrix by its inverse results in the identity matrix:\n",
        "\n",
        "$M \\cdot M^{-1} = M^{-1} \\cdot M = I$\n",
        "\n",
        "This makes sense since doing a linear transformation followed by the inverse transformation results in no change at all."
      ],
      "metadata": {
        "id": "ijfCT-i9RZiW"
      }
    },
    {
      "cell_type": "code",
      "source": [
        "LA.inv(LA.inv(F_shear))"
      ],
      "metadata": {
        "colab": {
          "base_uri": "https://localhost:8080/"
        },
        "id": "E16ZrYAORfS5",
        "outputId": "0bed4b5b-d506-4356-fdeb-48bc4f216692"
      },
      "execution_count": 84,
      "outputs": [
        {
          "output_type": "execute_result",
          "data": {
            "text/plain": [
              "array([[1. , 1.5],\n",
              "       [0. , 1. ]])"
            ]
          },
          "metadata": {},
          "execution_count": 84
        }
      ]
    },
    {
      "cell_type": "markdown",
      "source": [
        "Also, the inverse of scaling by a factor of $\\lambda$ is of course scaling by a factor of $\\frac{1}{\\lambda}$:\n",
        "\n",
        "$ (\\lambda \\times M)^{-1} = \\frac{1}{\\lambda} \\times M^{-1}$\n",
        "\n",
        "Once you understand the geometric interpretation of matrices as linear transformations, most of these properties seem fairly intuitive.\n",
        "\n",
        "#### Involution\n",
        "A matrix that is its own inverse is called an **involution**. The simplest examples are reflection matrices, or a rotation by 180°, but there are also more complex involutions, for example imagine a transformation that squeezes horizontally, then  reflects over the vertical axis and finally rotates by 90° clockwise. Pick up a napkin and try doing that twice: you will end up in the original position. Here is the corresponding involutory matrix:"
      ],
      "metadata": {
        "id": "rOQJ1HDRRezV"
      }
    },
    {
      "cell_type": "code",
      "source": [
        "F_involution  = np.array([\n",
        "        [0, -2],\n",
        "        [-1/2, 0]\n",
        "    ])\n",
        "plot_transformation(P, F_involution @ P, \"$P$\", r\"$F_{involution} \\cdot P$\",\n",
        "                    axis=[-8, 5, -4, 4])\n",
        "plt.show()"
      ],
      "metadata": {
        "colab": {
          "base_uri": "https://localhost:8080/",
          "height": 371
        },
        "id": "f1HDfC3YSrr9",
        "outputId": "651cc6b4-9cbd-46ad-eaee-32d1c237a08f"
      },
      "execution_count": 85,
      "outputs": [
        {
          "output_type": "display_data",
          "data": {
            "text/plain": [
              "<Figure size 640x480 with 1 Axes>"
            ],
            "image/png": "[encoded data removed]"
          },
          "metadata": {}
        }
      ]
    },
    {
      "cell_type": "code",
      "source": [
        "#inverse of an involution is itself\n",
        "LA.inv(F_involution)"
      ],
      "metadata": {
        "colab": {
          "base_uri": "https://localhost:8080/"
        },
        "id": "cEblruutTza8",
        "outputId": "f260645f-40a2-4582-f086-6a45bffeb1d0"
      },
      "execution_count": 86,
      "outputs": [
        {
          "output_type": "execute_result",
          "data": {
            "text/plain": [
              "array([[-0. , -2. ],\n",
              "       [-0.5, -0. ]])"
            ]
          },
          "metadata": {},
          "execution_count": 86
        }
      ]
    },
    {
      "cell_type": "markdown",
      "source": [
        "#### Orthogonal Matrix\n",
        "Finally, a square matrix $H$ whose inverse is its own transpose is an **orthogonal matrix**:\n",
        "\n",
        "$H^{-1} = H^T$\n",
        "\n",
        "Therefore:\n",
        "\n",
        "$H \\cdot H^T = H^T \\cdot H = I$\n",
        "\n",
        "It corresponds to a transformation that preserves distances, such as rotations and reflections, and combinations of these, but not rescaling, shearing or squeezing.  Let's check that $F_{reflect}$ is indeed orthogonal:"
      ],
      "metadata": {
        "id": "XBAR59gbUPt8"
      }
    },
    {
      "cell_type": "code",
      "source": [
        "F_reflect"
      ],
      "metadata": {
        "colab": {
          "base_uri": "https://localhost:8080/"
        },
        "id": "jSK7BJzmWdbU",
        "outputId": "8eb06a8e-9841-408d-8402-d90218909619"
      },
      "execution_count": 87,
      "outputs": [
        {
          "output_type": "execute_result",
          "data": {
            "text/plain": [
              "array([[ 1,  0],\n",
              "       [ 0, -1]])"
            ]
          },
          "metadata": {},
          "execution_count": 87
        }
      ]
    },
    {
      "cell_type": "code",
      "source": [
        "# matrix with transpose matrix results in identity matrix\n",
        "F_reflect @ F_reflect.T"
      ],
      "metadata": {
        "colab": {
          "base_uri": "https://localhost:8080/"
        },
        "id": "xBAKVOTyVx4u",
        "outputId": "7b3b7cd0-9902-4387-c961-33da6978e795"
      },
      "execution_count": 88,
      "outputs": [
        {
          "output_type": "execute_result",
          "data": {
            "text/plain": [
              "array([[1, 0],\n",
              "       [0, 1]])"
            ]
          },
          "metadata": {},
          "execution_count": 88
        }
      ]
    },
    {
      "cell_type": "code",
      "source": [
        "#inverse of a matrix is equal to transpose of the matrix - orthogonal\n",
        "LA.inv(F_reflect) == F_reflect.T"
      ],
      "metadata": {
        "colab": {
          "base_uri": "https://localhost:8080/"
        },
        "id": "ISpkrHgkV_Qh",
        "outputId": "7ecc2eb2-00cf-4c82-e1fc-f2072c93a37a"
      },
      "execution_count": 89,
      "outputs": [
        {
          "output_type": "execute_result",
          "data": {
            "text/plain": [
              "array([[ True,  True],\n",
              "       [ True,  True]])"
            ]
          },
          "metadata": {},
          "execution_count": 89
        }
      ]
    },
    {
      "cell_type": "markdown",
      "source": [
        "An orthogonal matrix satisfies two key properties: orthogonality and normalization.\n",
        "\n",
        "Orthogonality: The columns (or rows) of an orthogonal matrix are mutually orthogonal, meaning they are all perpendicular to each other. This implies that the dot product between any two distinct columns (or rows) of the matrix is zero.\n",
        "\n",
        "Normalization: Each column (or row) of an orthogonal matrix has a magnitude of 1. This means that the dot product of any column (or row) with itself is equal to 1.\n",
        "\n"
      ],
      "metadata": {
        "id": "lXAUwQ2bXOz8"
      }
    },
    {
      "cell_type": "code",
      "source": [
        "#proving orthogonality property\n",
        "def vector_angle(u, v):\n",
        "    cos_theta = u.dot(v) / LA.norm(u) / LA.norm(v)\n",
        "    return np.arccos(cos_theta.clip(-1, 1))\n",
        "\n",
        "theta = vector_angle(F_reflect[:,0], F_reflect[:,1]) #columns\n",
        "print(\"Angle =\", theta, \"radians\")\n",
        "print(\"      =\", theta * 180 / np.pi, \"degrees\")\n",
        "\n",
        "theta = vector_angle(F_reflect[0,:], F_reflect[1,:]) #rows\n",
        "print(\"Angle =\", theta, \"radians\")\n",
        "print(\"      =\", theta * 180 / np.pi, \"degrees\")"
      ],
      "metadata": {
        "colab": {
          "base_uri": "https://localhost:8080/"
        },
        "id": "iSmfJJsiXmlO",
        "outputId": "c011ade0-3e8e-4dc2-da26-1dc3ee9e6f35"
      },
      "execution_count": 90,
      "outputs": [
        {
          "output_type": "stream",
          "name": "stdout",
          "text": [
            "Angle = 1.5707963267948966 radians\n",
            "      = 90.0 degrees\n",
            "Angle = 1.5707963267948966 radians\n",
            "      = 90.0 degrees\n"
          ]
        }
      ]
    },
    {
      "cell_type": "code",
      "source": [
        "#proving normalization property\n",
        "print(\"Norm =\", LA.norm(F_reflect[:,0])) #column\n",
        "print(\"Norm =\", LA.norm(F_reflect[:,1])) #column\n",
        "print(\"Norm =\", LA.norm(F_reflect[0,:])) #row\n",
        "print(\"Norm =\", LA.norm(F_reflect[1,:])) #row"
      ],
      "metadata": {
        "colab": {
          "base_uri": "https://localhost:8080/"
        },
        "id": "WLBGHU9sYEno",
        "outputId": "bec1090a-d8f6-4e39-ba3d-ae76508d986b"
      },
      "execution_count": 91,
      "outputs": [
        {
          "output_type": "stream",
          "name": "stdout",
          "text": [
            "Norm = 1.0\n",
            "Norm = 1.0\n",
            "Norm = 1.0\n",
            "Norm = 1.0\n"
          ]
        }
      ]
    },
    {
      "cell_type": "markdown",
      "source": [
        "Geometrically, an orthogonal matrix represents a linear transformation that preserves lengths and angles. When an orthogonal matrix is applied to a vector, the resulting transformed vector maintains its length and the angle it forms with other vectors.\n",
        "\n",
        "Orthogonal matrices have several important properties and applications in linear algebra and related fields. Some key properties include:\n",
        "\n",
        "* They preserve distances and angles, making them useful in geometric transformations.\n",
        "* They have determinant ±1, which means they do not distort the volume of a shape.\n",
        "* They provide an efficient way to solve linear systems of equations.\n",
        "* They diagonalize symmetric matrices, simplifying various calculations and analyses.\n"
      ],
      "metadata": {
        "id": "17MbF4EIYjPj"
      }
    },
    {
      "cell_type": "markdown",
      "source": [
        "### 12. Determinant\n",
        "The determinant of a square matrix $M$, noted $\\det(M)$ or $\\det M$ or $|M|$ is a value that can be calculated from its elements $(M_{i,j})$ using various equivalent methods. One of the simplest methods is this recursive approach:\n",
        "\n",
        "$|M| = M_{1,1}\\times|M^{(1,1)}| - M_{1,2}\\times|M^{(1,2)}| + M_{1,3}\\times|M^{(1,3)}| - M_{1,4}\\times|M^{(1,4)}| + \\cdots ± M_{1,n}\\times|M^{(1,n)}|$\n",
        "\n",
        "* Where $M^{(i,j)}$ is the matrix $M$ without row $i$ and column $j$.\n",
        "\n",
        "For example, let's calculate the determinant of the following $3 \\times 3$ matrix:\n",
        "\n",
        "$M = \\begin{bmatrix}\n",
        "  1 & 2 & 3 \\\\\n",
        "  4 & 5 & 6 \\\\\n",
        "  7 & 8 & 0\n",
        "\\end{bmatrix}$\n",
        "\n",
        "Using the method above, we get:\n",
        "\n",
        "$|M| = 1 \\times \\left | \\begin{bmatrix} 5 & 6 \\\\ 8 & 0 \\end{bmatrix} \\right |\n",
        "     - 2 \\times \\left | \\begin{bmatrix} 4 & 6 \\\\ 7 & 0 \\end{bmatrix} \\right |\n",
        "     + 3 \\times \\left | \\begin{bmatrix} 4 & 5 \\\\ 7 & 8 \\end{bmatrix} \\right |$\n",
        "\n",
        "Now we need to compute the determinant of each of these $2 \\times 2$ matrices (these determinants are called **minors**):\n",
        "\n",
        "$\\left | \\begin{bmatrix} 5 & 6 \\\\ 8 & 0 \\end{bmatrix} \\right | = 5 \\times 0 - 6 \\times 8 = -48$\n",
        "\n",
        "$\\left | \\begin{bmatrix} 4 & 6 \\\\ 7 & 0 \\end{bmatrix} \\right | = 4 \\times 0 - 6 \\times 7 = -42$\n",
        "\n",
        "$\\left | \\begin{bmatrix} 4 & 5 \\\\ 7 & 8 \\end{bmatrix} \\right | = 4 \\times 8 - 5 \\times 7 = -3$\n",
        "\n",
        "Now we can calculate the final result:\n",
        "\n",
        "$|M| = 1 \\times (-48) - 2 \\times (-42) + 3 \\times (-3) = 27$"
      ],
      "metadata": {
        "id": "ZaVAGtgydF0F"
      }
    },
    {
      "cell_type": "markdown",
      "source": [
        "To get the determinant of a matrix, you can call NumPy's `det` function in the `numpy.linalg` module:"
      ],
      "metadata": {
        "id": "Sb0Jc8mDdmTR"
      }
    },
    {
      "cell_type": "code",
      "source": [
        "M = np.array([\n",
        "        [1, 2, 3],\n",
        "        [4, 5, 6],\n",
        "        [7, 8, 0]\n",
        "    ])\n",
        "LA.det(M)"
      ],
      "metadata": {
        "colab": {
          "base_uri": "https://localhost:8080/"
        },
        "id": "QS_c09Mvd0Wh",
        "outputId": "092a9cfc-2c43-494b-9eef-68f11c3e9382"
      },
      "execution_count": 92,
      "outputs": [
        {
          "output_type": "execute_result",
          "data": {
            "text/plain": [
              "27.0"
            ]
          },
          "metadata": {},
          "execution_count": 92
        }
      ]
    },
    {
      "cell_type": "markdown",
      "source": [
        "One of the main uses of the determinant is to *determine* whether a square matrix can be inversed or not: if the determinant is equal to 0, then the matrix *cannot* be inversed (it is a singular matrix), and if the determinant is not 0, then it *can* be inversed.\n",
        "\n",
        "For example, let's compute the determinant for the $F_{project}$, $F_{project\\_30}$ and $F_{shear}$ matrices that we defined earlier:"
      ],
      "metadata": {
        "id": "9qyK4dYmd4D8"
      }
    },
    {
      "cell_type": "code",
      "source": [
        "LA.det(F_project)"
      ],
      "metadata": {
        "colab": {
          "base_uri": "https://localhost:8080/"
        },
        "id": "67acqTTFd_xe",
        "outputId": "2ec43a2c-83ee-4067-979f-87a446f22f2e"
      },
      "execution_count": 93,
      "outputs": [
        {
          "output_type": "execute_result",
          "data": {
            "text/plain": [
              "0.0"
            ]
          },
          "metadata": {},
          "execution_count": 93
        }
      ]
    },
    {
      "cell_type": "markdown",
      "source": [
        "That's right, $F_{project}$ is singular, as we saw earlier."
      ],
      "metadata": {
        "id": "a5hAsks1eARS"
      }
    },
    {
      "cell_type": "code",
      "source": [
        "LA.det(F_project_30)"
      ],
      "metadata": {
        "colab": {
          "base_uri": "https://localhost:8080/"
        },
        "id": "4POjqECSeGxa",
        "outputId": "eed81b25-3b5b-43d9-db0d-c3683edde457"
      },
      "execution_count": 94,
      "outputs": [
        {
          "output_type": "execute_result",
          "data": {
            "text/plain": [
              "2.0816681711721642e-17"
            ]
          },
          "metadata": {},
          "execution_count": 94
        }
      ]
    },
    {
      "cell_type": "markdown",
      "source": [
        "This determinant is suspiciously close to 0: it really should be 0, but it's not due to tiny floating point errors. The matrix is actually singular."
      ],
      "metadata": {
        "id": "sl1nc6cveMKF"
      }
    },
    {
      "cell_type": "code",
      "source": [
        "LA.det(F_shear)"
      ],
      "metadata": {
        "colab": {
          "base_uri": "https://localhost:8080/"
        },
        "id": "l71lux7meLeM",
        "outputId": "9b4a9474-43d4-4920-959d-53063aeec1e1"
      },
      "execution_count": 95,
      "outputs": [
        {
          "output_type": "execute_result",
          "data": {
            "text/plain": [
              "1.0"
            ]
          },
          "metadata": {},
          "execution_count": 95
        }
      ]
    },
    {
      "cell_type": "markdown",
      "source": [
        "Perfect! This matrix *can* be inversed as we saw earlier. Wow, math really works!"
      ],
      "metadata": {
        "id": "u00n5-fdeWXD"
      }
    },
    {
      "cell_type": "markdown",
      "source": [
        "The determinant can also be used to measure how much a linear transformation affects surface areas: for example, the projection matrices $F_{project}$ and $F_{project\\_30}$ completely flatten the polygon $P$, until its area is zero. This is why the determinant of these matrices is 0. The shear mapping modified the shape of the polygon, but it did not affect its surface area, which is why the determinant is 1. You can try computing the determinant of a rotation matrix, and you should also find 1. What about a scaling matrix? Let's see:"
      ],
      "metadata": {
        "id": "fHaw8QbNeaKz"
      }
    },
    {
      "cell_type": "code",
      "source": [
        "F_scale = np.array([\n",
        "        [0.5, 0],\n",
        "        [0, 0.5]\n",
        "    ])\n",
        "plot_transformation(P, F_scale @ P, \"$P$\", r\"$F_{scale} \\cdot P$\",\n",
        "                    axis=[0, 6, -1, 4])\n",
        "plt.show()"
      ],
      "metadata": {
        "colab": {
          "base_uri": "https://localhost:8080/",
          "height": 435
        },
        "id": "5YIOAOZZeZeR",
        "outputId": "cf53ed60-6176-4379-fe41-a65a8b3faef4"
      },
      "execution_count": 96,
      "outputs": [
        {
          "output_type": "display_data",
          "data": {
            "text/plain": [
              "<Figure size 640x480 with 1 Axes>"
            ],
            "image/png": "[encoded data removed]"
          },
          "metadata": {}
        }
      ]
    },
    {
      "cell_type": "markdown",
      "source": [
        "We rescaled the polygon by a factor of 1/2 on both vertical and horizontal axes so the surface area of the resulting polygon is 1/4$^{th}$ of the original polygon. Let's compute the determinant and check that:"
      ],
      "metadata": {
        "id": "5iBx8XoUeonG"
      }
    },
    {
      "cell_type": "code",
      "source": [
        "LA.det(F_scale)"
      ],
      "metadata": {
        "colab": {
          "base_uri": "https://localhost:8080/"
        },
        "id": "_kGVNJ2QeswJ",
        "outputId": "2e198e8d-4c9a-4368-bcf0-3d2161195dc5"
      },
      "execution_count": 97,
      "outputs": [
        {
          "output_type": "execute_result",
          "data": {
            "text/plain": [
              "0.25"
            ]
          },
          "metadata": {},
          "execution_count": 97
        }
      ]
    },
    {
      "cell_type": "markdown",
      "source": [
        "Correct!\n",
        "\n",
        "The determinant can actually be negative, when the transformation results in a \"flipped over\" version of the original polygon (e.g. a left-hand glove becomes a right-hand glove). For example, the determinant of the `F_reflect` matrix is -1 because the surface area is preserved but the polygon gets flipped over:"
      ],
      "metadata": {
        "id": "hYbdZ359evsa"
      }
    },
    {
      "cell_type": "code",
      "source": [
        "LA.det(F_reflect)"
      ],
      "metadata": {
        "colab": {
          "base_uri": "https://localhost:8080/"
        },
        "id": "pYY5jy4oe0Ue",
        "outputId": "f3c5ef49-36b2-4d0e-b840-b0f1d1ee230c"
      },
      "execution_count": 98,
      "outputs": [
        {
          "output_type": "execute_result",
          "data": {
            "text/plain": [
              "-1.0"
            ]
          },
          "metadata": {},
          "execution_count": 98
        }
      ]
    },
    {
      "cell_type": "markdown",
      "source": [
        "### 13. Composing linear transformations\n",
        "Several linear transformations can be chained simply by performing multiple dot products in a row. For example, to perform a squeeze mapping followed by a shear mapping, just write:"
      ],
      "metadata": {
        "id": "QmWUf7U7fYdT"
      }
    },
    {
      "cell_type": "code",
      "source": [
        "P_squeezed_then_sheared = F_shear @ (F_squeeze @ P)"
      ],
      "metadata": {
        "id": "1OMV_vsHfffr"
      },
      "execution_count": 99,
      "outputs": []
    },
    {
      "cell_type": "markdown",
      "source": [
        "Since the dot product is associative, the following code is equivalent:"
      ],
      "metadata": {
        "id": "geEasz6efjZU"
      }
    },
    {
      "cell_type": "code",
      "source": [
        "P_squeezed_then_sheared = F_shear @ F_squeeze @ P"
      ],
      "metadata": {
        "id": "6OWrC428fmY2"
      },
      "execution_count": 100,
      "outputs": []
    },
    {
      "cell_type": "markdown",
      "source": [
        "Note that the order of the transformations is the reverse of the dot product order.\n",
        "\n",
        "If we are going to perform this composition of linear transformations more than once, we might as well save the composition matrix like this:"
      ],
      "metadata": {
        "id": "nb1zRMgPfrA_"
      }
    },
    {
      "cell_type": "code",
      "source": [
        "F_squeeze_then_shear = F_shear @ F_squeeze\n",
        "P_squeezed_then_sheared = F_squeeze_then_shear @ P"
      ],
      "metadata": {
        "id": "BkjNA0t_fyHI"
      },
      "execution_count": 101,
      "outputs": []
    },
    {
      "cell_type": "markdown",
      "source": [
        "From now on we can perform both transformations in just one dot product, which can lead to a very significant performance boost."
      ],
      "metadata": {
        "id": "sm9Q1MEFf17b"
      }
    },
    {
      "cell_type": "markdown",
      "source": [
        "What if you want to perform the inverse of this double transformation? Well, if you squeezed and then you sheared, and you want to undo what you have done, it should be obvious that you should unshear first and then unsqueeze. In more mathematical terms, given two invertible (aka nonsingular) matrices $Q$ and $R$:\n",
        "\n",
        "$(Q \\cdot R)^{-1} = R^{-1} \\cdot Q^{-1}$\n",
        "\n",
        "And in NumPy:"
      ],
      "metadata": {
        "id": "P7cwmdjUf5u8"
      }
    },
    {
      "cell_type": "code",
      "source": [
        "LA.inv(F_shear @ F_squeeze) == LA.inv(F_squeeze) @ LA.inv(F_shear)"
      ],
      "metadata": {
        "colab": {
          "base_uri": "https://localhost:8080/"
        },
        "id": "pfrThVFxgCC8",
        "outputId": "3e5ec941-fea4-4a46-cbb4-49f976430c8d"
      },
      "execution_count": 102,
      "outputs": [
        {
          "output_type": "execute_result",
          "data": {
            "text/plain": [
              "array([[ True,  True],\n",
              "       [ True,  True]])"
            ]
          },
          "metadata": {},
          "execution_count": 102
        }
      ]
    },
    {
      "cell_type": "markdown",
      "source": [
        "### 14. Singular Value Decomposition\n",
        "It turns out that any $m \\times n$ matrix $M$ can be decomposed into the dot product of three simple matrices:\n",
        "* a rotation matrix $U$ (an $m \\times m$ orthogonal matrix)\n",
        "* a scaling & projecting matrix $\\Sigma$ (an $m \\times n$ diagonal matrix)\n",
        "* and another rotation matrix $V^T$ (an $n \\times n$ orthogonal matrix)\n",
        "\n",
        "$M = U \\cdot \\Sigma \\cdot V^{T}$\n",
        "\n",
        "For example, let's decompose the shear transformation:"
      ],
      "metadata": {
        "id": "eBegm0E1gGOz"
      }
    },
    {
      "cell_type": "code",
      "source": [
        "U, S_diag, V_T = LA.svd(F_shear) # note: in python 3 you can rename S_diag to Σ_diag\n",
        "U"
      ],
      "metadata": {
        "colab": {
          "base_uri": "https://localhost:8080/"
        },
        "id": "AXCFcqktgSli",
        "outputId": "b22c3a68-a316-43e4-c72f-851a1af592a8"
      },
      "execution_count": 103,
      "outputs": [
        {
          "output_type": "execute_result",
          "data": {
            "text/plain": [
              "array([[ 0.89442719, -0.4472136 ],\n",
              "       [ 0.4472136 ,  0.89442719]])"
            ]
          },
          "metadata": {},
          "execution_count": 103
        }
      ]
    },
    {
      "cell_type": "code",
      "source": [
        "S_diag"
      ],
      "metadata": {
        "colab": {
          "base_uri": "https://localhost:8080/"
        },
        "id": "iXYioM9AgejI",
        "outputId": "61ff92fd-e9df-4620-f559-8b8099b84544"
      },
      "execution_count": 104,
      "outputs": [
        {
          "output_type": "execute_result",
          "data": {
            "text/plain": [
              "array([2. , 0.5])"
            ]
          },
          "metadata": {},
          "execution_count": 104
        }
      ]
    },
    {
      "cell_type": "markdown",
      "source": [
        "Note that this is just a 1D array containing the diagonal values of Σ. To get the actual matrix Σ, we can use NumPy's `diag` function:"
      ],
      "metadata": {
        "id": "56sXZQhgglBr"
      }
    },
    {
      "cell_type": "code",
      "source": [
        "S = np.diag(S_diag)\n",
        "S"
      ],
      "metadata": {
        "colab": {
          "base_uri": "https://localhost:8080/"
        },
        "id": "Pm9uiLJSgnkN",
        "outputId": "328c551b-9565-41de-dafe-31ec1fff21d6"
      },
      "execution_count": 105,
      "outputs": [
        {
          "output_type": "execute_result",
          "data": {
            "text/plain": [
              "array([[2. , 0. ],\n",
              "       [0. , 0.5]])"
            ]
          },
          "metadata": {},
          "execution_count": 105
        }
      ]
    },
    {
      "cell_type": "markdown",
      "source": [
        "Now let's check that $U \\cdot \\Sigma \\cdot V^T$ is indeed equal to `F_shear`:"
      ],
      "metadata": {
        "id": "RB_7h3IrgtbB"
      }
    },
    {
      "cell_type": "code",
      "source": [
        "U @ np.diag(S_diag) @ V_T"
      ],
      "metadata": {
        "colab": {
          "base_uri": "https://localhost:8080/"
        },
        "id": "V2-IIToKgwNW",
        "outputId": "1b2afc20-343c-4883-da96-9477ca9c3ac7"
      },
      "execution_count": 106,
      "outputs": [
        {
          "output_type": "execute_result",
          "data": {
            "text/plain": [
              "array([[ 1.00000000e+00,  1.50000000e+00],\n",
              "       [-1.25949234e-17,  1.00000000e+00]])"
            ]
          },
          "metadata": {},
          "execution_count": 106
        }
      ]
    },
    {
      "cell_type": "code",
      "source": [
        "F_shear"
      ],
      "metadata": {
        "colab": {
          "base_uri": "https://localhost:8080/"
        },
        "id": "3fBwpb58gzIo",
        "outputId": "14efa7fa-3749-43d7-9a06-9f478e3cfce8"
      },
      "execution_count": 107,
      "outputs": [
        {
          "output_type": "execute_result",
          "data": {
            "text/plain": [
              "array([[1. , 1.5],\n",
              "       [0. , 1. ]])"
            ]
          },
          "metadata": {},
          "execution_count": 107
        }
      ]
    },
    {
      "cell_type": "markdown",
      "source": [
        "It worked like a charm. Let's apply these transformations one by one (in reverse order) on the unit square to understand what's going on. First, let's apply the first rotation $V^T$:"
      ],
      "metadata": {
        "id": "ourjIDf1g2aQ"
      }
    },
    {
      "cell_type": "code",
      "source": [
        "plot_transformation(Square, V_T @ Square, \"$Square$\", r\"$V^T \\cdot Square$\",\n",
        "                    axis=[-0.5, 3.5 , -1.5, 1.5])\n",
        "plt.show()"
      ],
      "metadata": {
        "colab": {
          "base_uri": "https://localhost:8080/",
          "height": 435
        },
        "id": "CLsnghwSg6R3",
        "outputId": "e2cd5b53-9e98-4d92-adcf-ccfa5d472a48"
      },
      "execution_count": 108,
      "outputs": [
        {
          "output_type": "display_data",
          "data": {
            "text/plain": [
              "<Figure size 640x480 with 1 Axes>"
            ],
            "image/png": "[encoded data removed]"
          },
          "metadata": {}
        }
      ]
    },
    {
      "cell_type": "markdown",
      "source": [
        "Now let's rescale along the vertical and horizontal axes using $\\Sigma$:"
      ],
      "metadata": {
        "id": "U_TBZk8Gg-s7"
      }
    },
    {
      "cell_type": "code",
      "source": [
        "plot_transformation(V_T @ Square, S @ V_T @ Square,\n",
        "                    r\"$V^T \\cdot Square$\",\n",
        "                    r\"$\\Sigma \\cdot V^T \\cdot Square$\",\n",
        "                    axis=[-0.5, 3.5 , -1.5, 1.5])\n",
        "plt.show()"
      ],
      "metadata": {
        "colab": {
          "base_uri": "https://localhost:8080/",
          "height": 435
        },
        "id": "Kq-D9fhghBZk",
        "outputId": "8a393d80-2c1c-469f-bc0b-e2e61c085b14"
      },
      "execution_count": 109,
      "outputs": [
        {
          "output_type": "display_data",
          "data": {
            "text/plain": [
              "<Figure size 640x480 with 1 Axes>"
            ],
            "image/png": "[encoded data removed]"
          },
          "metadata": {}
        }
      ]
    },
    {
      "cell_type": "markdown",
      "source": [
        "Finally, we apply the second rotation $U$:"
      ],
      "metadata": {
        "id": "S2fQH2VdhF8S"
      }
    },
    {
      "cell_type": "code",
      "source": [
        "plot_transformation(S @ V_T @ Square, U @ S @ V_T @ Square,\n",
        "                    r\"$\\Sigma \\cdot V^T \\cdot Square$\",\n",
        "                    r\"$U \\cdot \\Sigma \\cdot V^T \\cdot Square$\",\n",
        "                    axis=[-0.5, 3.5 , -1.5, 1.5])\n",
        "plt.show()"
      ],
      "metadata": {
        "colab": {
          "base_uri": "https://localhost:8080/",
          "height": 435
        },
        "id": "dxyPq-X7hIpI",
        "outputId": "8165b7f9-0b93-4d1d-afb4-a51c833a7d9b"
      },
      "execution_count": 110,
      "outputs": [
        {
          "output_type": "display_data",
          "data": {
            "text/plain": [
              "<Figure size 640x480 with 1 Axes>"
            ],
            "image/png": "[encoded data removed]"
          },
          "metadata": {}
        }
      ]
    },
    {
      "cell_type": "markdown",
      "source": [
        "And we can see that the result is indeed a shear mapping of the original unit square."
      ],
      "metadata": {
        "id": "hmi09_mMhMO1"
      }
    },
    {
      "cell_type": "markdown",
      "source": [
        "You might ask, well how is this SVD used in Machine Learning? Here are a few use cases on how SVD applies to Machine learning.\n",
        "\n",
        "1. SVD is used in machine learning for dimensionality reduction, extracting important features from high-dimensional data.\n",
        "2. It powers collaborative filtering, enabling recommendations by approximating missing entries in user-item matrices.\n",
        "3. SVD facilitates image compression by separating images into singular vectors and values, reducing data while maintaining quality.\n",
        "4. In natural language processing, it uncovers latent topics in documents for tasks like clustering and retrieval.\n",
        "5. SVD aids noise reduction in signals and denoising images by modifying singular values and vectors.\n",
        "6. Overall, SVD enables efficient data representation, dimensionality reduction, and extracting meaningful information in various machine learning applications."
      ],
      "metadata": {
        "id": "is1SRgoFhizB"
      }
    },
    {
      "cell_type": "markdown",
      "source": [
        "### 15. Eigenvectors and eigenvalues\n",
        "* Intuitively, eigenvectors and eigenvalues provide insights into the behavior of linear transformations or matrices.\n",
        "* An **eigenvector** (also called a **characteristic vector**) of a square matrix 𝑀 is a non-zero vector that, when multiplied by 𝑀, results in a scaled version of the original vector.\n",
        "* The scaling factor is called the eigenvalue corresponding to that eigenvector.\n",
        "* A more formal definition is any vector $v$ such that:  \n",
        "$M \\cdot v = \\lambda \\times v$  \n",
        "Where $\\lambda$ is a scalar value called the **eigenvalue** associated to the vector $v$.\n",
        "* In other words, the linear transformation represented by 𝑀 only stretches or compresses the eigenvector, without changing its direction.\n",
        "* In other words:  \n",
        "(linear transformation matrix M) . (base vectors) = (scaling factor) . (base vectors)\n",
        "\n",
        "In simpler terms, *eigenvectors tell us the directions that are preserved by a transformation*, and *eigenvalues provide the scale at which these directions are stretched or compressed*. By analyzing eigenvectors and eigenvalues, we gain insights into the fundamental geometric properties of the linear transformation or matrix and how it affects vectors in space.\n",
        "\n",
        "For example, any horizontal vector remains horizontal after applying the shear mapping (as you can see on the image above), so it is an eigenvector of $M$. A vertical vector ends up tilted to the right, so vertical vectors are *NOT* eigenvectors of $M$.\n",
        "\n",
        "If we look at the squeeze mapping, we find that any horizontal or vertical vector keeps its direction (although its length changes), so all horizontal and vertical vectors are eigenvectors of $F_{squeeze}$.\n",
        "\n",
        "However, rotation matrices have no eigenvectors at all (except if the rotation angle is 0° or 180°, in which case all non-zero vectors are eigenvectors).\n",
        "\n",
        "NumPy's `eig` function returns the list of unit eigenvectors and their corresponding eigenvalues for any square matrix. Let's look at the eigenvectors and eigenvalues of the squeeze mapping matrix $F_{squeeze}$:"
      ],
      "metadata": {
        "id": "eRTDlBUJhwIY"
      }
    },
    {
      "cell_type": "code",
      "source": [
        "eigenvalues, eigenvectors = LA.eig(F_squeeze)\n",
        "eigenvalues # [λ0, λ1, …]"
      ],
      "metadata": {
        "colab": {
          "base_uri": "https://localhost:8080/"
        },
        "id": "s-J_8_dSiaKk",
        "outputId": "00b7971e-682f-45de-8841-a68cc7b3fe81"
      },
      "execution_count": 111,
      "outputs": [
        {
          "output_type": "execute_result",
          "data": {
            "text/plain": [
              "array([1.4       , 0.71428571])"
            ]
          },
          "metadata": {},
          "execution_count": 111
        }
      ]
    },
    {
      "cell_type": "code",
      "source": [
        "eigenvectors # [v0, v1, …]"
      ],
      "metadata": {
        "colab": {
          "base_uri": "https://localhost:8080/"
        },
        "id": "7rqishpmidgm",
        "outputId": "10c2a539-6dd1-4689-b146-646511954ea6"
      },
      "execution_count": 112,
      "outputs": [
        {
          "output_type": "execute_result",
          "data": {
            "text/plain": [
              "array([[1., 0.],\n",
              "       [0., 1.]])"
            ]
          },
          "metadata": {},
          "execution_count": 112
        }
      ]
    },
    {
      "cell_type": "markdown",
      "source": [
        "Indeed, the horizontal vectors are stretched by a factor of 1.4, and the vertical vectors are shrunk by a factor of 1/1.4=0.714…, so far so good.  Plotting the eigen vectors, we get:"
      ],
      "metadata": {
        "id": "f6R-LxGuCaio"
      }
    },
    {
      "cell_type": "code",
      "source": [
        "plot_vector2d(eigenvectors[:,0], color=\"r\")\n",
        "plot_vector2d(eigenvectors[:,1], color=\"b\")\n",
        "plt.axis([-1, 2, -1, 2])\n",
        "plt.grid()\n",
        "plt.show()"
      ],
      "metadata": {
        "colab": {
          "base_uri": "https://localhost:8080/",
          "height": 435
        },
        "id": "HXa_OASVUkqA",
        "outputId": "e3b25608-51a6-4f22-dc99-132a541b8788"
      },
      "execution_count": 133,
      "outputs": [
        {
          "output_type": "display_data",
          "data": {
            "text/plain": [
              "<Figure size 640x480 with 1 Axes>"
            ],
            "image/png": "[encoded data removed]"
          },
          "metadata": {}
        }
      ]
    },
    {
      "cell_type": "markdown",
      "source": [
        "Let's look at the shear mapping matrix $F_{shear}$:"
      ],
      "metadata": {
        "id": "eOzSf0zKUmuT"
      }
    },
    {
      "cell_type": "code",
      "source": [
        "eigenvalues2, eigenvectors2 = LA.eig(F_shear)\n",
        "eigenvalues2 # [λ0, λ1, …]"
      ],
      "metadata": {
        "colab": {
          "base_uri": "https://localhost:8080/"
        },
        "id": "7fC8wgjKChBp",
        "outputId": "8d5d0088-cf8a-471c-988a-117b19a16eb0"
      },
      "execution_count": 125,
      "outputs": [
        {
          "output_type": "execute_result",
          "data": {
            "text/plain": [
              "array([1., 1.])"
            ]
          },
          "metadata": {},
          "execution_count": 125
        }
      ]
    },
    {
      "cell_type": "code",
      "source": [
        "eigenvectors2 # [v0, v1, …]"
      ],
      "metadata": {
        "colab": {
          "base_uri": "https://localhost:8080/"
        },
        "id": "RslOOJQyCkj7",
        "outputId": "3a50aa44-4b18-4076-f27b-87319b97dfe1"
      },
      "execution_count": 130,
      "outputs": [
        {
          "output_type": "execute_result",
          "data": {
            "text/plain": [
              "array([[ 1.00000000e+00, -1.00000000e+00],\n",
              "       [ 0.00000000e+00,  1.48029737e-16]])"
            ]
          },
          "metadata": {},
          "execution_count": 130
        }
      ]
    },
    {
      "cell_type": "markdown",
      "source": [
        "Wait, what!? We expected just one unit eigenvector, not two. The second vector is almost equal to $\\begin{pmatrix}-1 \\\\ 0 \\end{pmatrix}$, which is on the same line as the first vector $\\begin{pmatrix}1 \\\\ 0 \\end{pmatrix}$. This is due to floating point errors. We can safely ignore vectors that are (almost) collinear (i.e. on the same line).\n",
        "\n",
        "Plotting those eigen vectors, we get:"
      ],
      "metadata": {
        "id": "So8xWJ71UbVp"
      }
    },
    {
      "cell_type": "code",
      "source": [
        "plot_vector2d(eigenvectors2[:,0], color=\"r\")\n",
        "plot_vector2d(eigenvectors2[:,1], color=\"b\")\n",
        "plt.axis([-2, 2, -2, 2])\n",
        "plt.grid()\n",
        "plt.show()"
      ],
      "metadata": {
        "colab": {
          "base_uri": "https://localhost:8080/",
          "height": 435
        },
        "id": "T14_oOgkTh2E",
        "outputId": "f9692e3b-6f89-49c4-d1a2-9e97ebf525fb"
      },
      "execution_count": 129,
      "outputs": [
        {
          "output_type": "display_data",
          "data": {
            "text/plain": [
              "<Figure size 640x480 with 1 Axes>"
            ],
            "image/png": "[encoded data removed]"
          },
          "metadata": {}
        }
      ]
    },
    {
      "cell_type": "markdown",
      "source": [
        "The first eigenvector [1, 0] remains unchanged, while the second eigenvector [-1,0] lies on the same line after the transformation. This implies that F_shear has only one eigenvector. Thus the linear transformation matrix $F_{shear}$ preserves only one vector from the original axis.\n",
        "\n",
        "\n",
        "\n",
        "\n"
      ],
      "metadata": {
        "id": "KdCJ0phWikNe"
      }
    },
    {
      "cell_type": "markdown",
      "source": [
        "### 16. Trace\n",
        "The trace of a square matrix $M$, noted $tr(M)$ is the sum of the values on its main diagonal. For example:"
      ],
      "metadata": {
        "id": "64g4xwUWU9JC"
      }
    },
    {
      "cell_type": "code",
      "source": [
        "D = np.array([\n",
        "        [100, 200, 300],\n",
        "        [ 10,  20,  30],\n",
        "        [  1,   2,   3],\n",
        "    ])\n",
        "D.trace()"
      ],
      "metadata": {
        "colab": {
          "base_uri": "https://localhost:8080/"
        },
        "id": "wLeWYrKFVErH",
        "outputId": "763da384-a7e0-4c6f-9860-c4cd27c93098"
      },
      "execution_count": 134,
      "outputs": [
        {
          "output_type": "execute_result",
          "data": {
            "text/plain": [
              "123"
            ]
          },
          "metadata": {},
          "execution_count": 134
        }
      ]
    },
    {
      "cell_type": "markdown",
      "source": [
        "The trace does not have a simple geometric interpretation (in general), but it has a number of properties that make it useful in many areas:\n",
        "* $tr(A + B) = tr(A) + tr(B)$\n",
        "* $tr(A \\cdot B) = tr(B \\cdot A)$\n",
        "* $tr(A \\cdot B \\cdot \\cdots \\cdot Y \\cdot Z) = tr(Z \\cdot A \\cdot B \\cdot \\cdots \\cdot Y)$\n",
        "* $tr(A^T \\cdot B) = tr(A \\cdot B^T) = tr(B^T \\cdot A) = tr(B \\cdot A^T) = \\sum_{i,j}X_{i,j} \\times Y_{i,j}$\n",
        "* …\n",
        "\n",
        "It does, however, have a useful geometric interpretation in the case of projection matrices (such as $F_{project}$ that we discussed earlier): it corresponds to the number of dimensions after projection. For example:"
      ],
      "metadata": {
        "id": "vaYCDd1HZDNS"
      }
    },
    {
      "cell_type": "code",
      "source": [
        "F_project"
      ],
      "metadata": {
        "colab": {
          "base_uri": "https://localhost:8080/"
        },
        "id": "uOSFZyd1Z3tW",
        "outputId": "0cb6d33b-a209-4d98-fa0d-90e9caa0daf7"
      },
      "execution_count": 138,
      "outputs": [
        {
          "output_type": "execute_result",
          "data": {
            "text/plain": [
              "array([[1, 0],\n",
              "       [0, 0]])"
            ]
          },
          "metadata": {},
          "execution_count": 138
        }
      ]
    },
    {
      "cell_type": "code",
      "source": [
        "F_project.trace()"
      ],
      "metadata": {
        "colab": {
          "base_uri": "https://localhost:8080/"
        },
        "id": "WQYHlSOfZCeA",
        "outputId": "6beb12ab-ab05-448d-eac5-9d71d8434464"
      },
      "execution_count": 137,
      "outputs": [
        {
          "output_type": "execute_result",
          "data": {
            "text/plain": [
              "1"
            ]
          },
          "metadata": {},
          "execution_count": 137
        }
      ]
    },
    {
      "cell_type": "markdown",
      "source": [
        "Intuitively, you can think of the trace as a quantity that captures the \"total effect\" or \"accumulated impact\" of a matrix."
      ],
      "metadata": {
        "id": "5IXRlYlVZa4P"
      }
    },
    {
      "cell_type": "markdown",
      "source": [
        "## References\n",
        "\n",
        "*   [Book: Deep Learning Book - Ian Goodfellow and Yoshua Bengio and Aaron Courville](https://www.deeplearningbook.org/)\n",
        "*   Book: Hands-On Machine Learning with Scikit-Learn and TensorFlow - Aurélien Géron\n",
        "* [ageron github | handson-ml3](https://github.com/ageron/handson-ml3/blob/main/math_linear_algebra.ipynb)\n",
        "* [Khan Academy - Linear Algebra](https://www.khanacademy.org/math/linear-algebra)\n",
        "* [Essence of linear algebra - 3Blue1Brown YouTube Series](https://www.youtube.com/watch?v=fNk_zzaMoSs&list=PLZHQObOWTQDPD3MizzM2xVFitgF8hE_ab&ab_channel=3Blue1Brown)\n",
        "\n"
      ],
      "metadata": {
        "id": "DnuAOWLgzQ_y"
      }
    }
  ]
}